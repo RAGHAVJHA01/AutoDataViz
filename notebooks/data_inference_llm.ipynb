{
 "cells": [
  {
   "attachments": {},
   "cell_type": "markdown",
   "metadata": {},
   "source": [
    "# Data Inference Demo Tutorial using OpenAI APIs and LangChain"
   ]
  },
  {
   "attachments": {},
   "cell_type": "markdown",
   "metadata": {},
   "source": [
    "## Setup"
   ]
  },
  {
   "cell_type": "code",
   "execution_count": 53,
   "metadata": {},
   "outputs": [],
   "source": [
    "import os\n",
    "from dotenv import load_dotenv\n",
    "\n",
    "load_dotenv('./.env')\n",
    "OPENAI_API_KEY = os.getenv('OPENAI_API_KEY')"
   ]
  },
  {
   "cell_type": "code",
   "execution_count": 54,
   "metadata": {},
   "outputs": [],
   "source": [
    "from langchain.llms import OpenAI\n",
    "llm = OpenAI(openai_api_key=OPENAI_API_KEY)"
   ]
  },
  {
   "attachments": {},
   "cell_type": "markdown",
   "metadata": {},
   "source": [
    "Dataset used: https://www.kaggle.com/datasets/gagandeep16/car-sales"
   ]
  },
  {
   "attachments": {},
   "cell_type": "markdown",
   "metadata": {},
   "source": [
    "## Using Prompts"
   ]
  },
  {
   "cell_type": "code",
   "execution_count": 76,
   "metadata": {},
   "outputs": [
    {
     "name": "stdout",
     "output_type": "stream",
     "text": [
      "(157, 16)\n"
     ]
    },
    {
     "data": {
      "text/html": [
       "<div>\n",
       "<style scoped>\n",
       "    .dataframe tbody tr th:only-of-type {\n",
       "        vertical-align: middle;\n",
       "    }\n",
       "\n",
       "    .dataframe tbody tr th {\n",
       "        vertical-align: top;\n",
       "    }\n",
       "\n",
       "    .dataframe thead th {\n",
       "        text-align: right;\n",
       "    }\n",
       "</style>\n",
       "<table border=\"1\" class=\"dataframe\">\n",
       "  <thead>\n",
       "    <tr style=\"text-align: right;\">\n",
       "      <th></th>\n",
       "      <th>Manufacturer</th>\n",
       "      <th>Model</th>\n",
       "      <th>Sales_in_thousands</th>\n",
       "      <th>__year_resale_value</th>\n",
       "      <th>Vehicle_type</th>\n",
       "      <th>Price_in_thousands</th>\n",
       "      <th>Engine_size</th>\n",
       "      <th>Horsepower</th>\n",
       "      <th>Wheelbase</th>\n",
       "      <th>Width</th>\n",
       "      <th>Length</th>\n",
       "      <th>Curb_weight</th>\n",
       "      <th>Fuel_capacity</th>\n",
       "      <th>Fuel_efficiency</th>\n",
       "      <th>Latest_Launch</th>\n",
       "      <th>Power_perf_factor</th>\n",
       "    </tr>\n",
       "  </thead>\n",
       "  <tbody>\n",
       "    <tr>\n",
       "      <th>0</th>\n",
       "      <td>Acura</td>\n",
       "      <td>Integra</td>\n",
       "      <td>16.919</td>\n",
       "      <td>16.360</td>\n",
       "      <td>Passenger</td>\n",
       "      <td>21.50</td>\n",
       "      <td>1.8</td>\n",
       "      <td>140.0</td>\n",
       "      <td>101.2</td>\n",
       "      <td>67.3</td>\n",
       "      <td>172.4</td>\n",
       "      <td>2.639</td>\n",
       "      <td>13.2</td>\n",
       "      <td>28.0</td>\n",
       "      <td>2/2/2012</td>\n",
       "      <td>58.280150</td>\n",
       "    </tr>\n",
       "    <tr>\n",
       "      <th>1</th>\n",
       "      <td>Acura</td>\n",
       "      <td>TL</td>\n",
       "      <td>39.384</td>\n",
       "      <td>19.875</td>\n",
       "      <td>Passenger</td>\n",
       "      <td>28.40</td>\n",
       "      <td>3.2</td>\n",
       "      <td>225.0</td>\n",
       "      <td>108.1</td>\n",
       "      <td>70.3</td>\n",
       "      <td>192.9</td>\n",
       "      <td>3.517</td>\n",
       "      <td>17.2</td>\n",
       "      <td>25.0</td>\n",
       "      <td>6/3/2011</td>\n",
       "      <td>91.370778</td>\n",
       "    </tr>\n",
       "    <tr>\n",
       "      <th>2</th>\n",
       "      <td>Acura</td>\n",
       "      <td>CL</td>\n",
       "      <td>14.114</td>\n",
       "      <td>18.225</td>\n",
       "      <td>Passenger</td>\n",
       "      <td>NaN</td>\n",
       "      <td>3.2</td>\n",
       "      <td>225.0</td>\n",
       "      <td>106.9</td>\n",
       "      <td>70.6</td>\n",
       "      <td>192.0</td>\n",
       "      <td>3.470</td>\n",
       "      <td>17.2</td>\n",
       "      <td>26.0</td>\n",
       "      <td>1/4/2012</td>\n",
       "      <td>NaN</td>\n",
       "    </tr>\n",
       "    <tr>\n",
       "      <th>3</th>\n",
       "      <td>Acura</td>\n",
       "      <td>RL</td>\n",
       "      <td>8.588</td>\n",
       "      <td>29.725</td>\n",
       "      <td>Passenger</td>\n",
       "      <td>42.00</td>\n",
       "      <td>3.5</td>\n",
       "      <td>210.0</td>\n",
       "      <td>114.6</td>\n",
       "      <td>71.4</td>\n",
       "      <td>196.6</td>\n",
       "      <td>3.850</td>\n",
       "      <td>18.0</td>\n",
       "      <td>22.0</td>\n",
       "      <td>3/10/2011</td>\n",
       "      <td>91.389779</td>\n",
       "    </tr>\n",
       "    <tr>\n",
       "      <th>4</th>\n",
       "      <td>Audi</td>\n",
       "      <td>A4</td>\n",
       "      <td>20.397</td>\n",
       "      <td>22.255</td>\n",
       "      <td>Passenger</td>\n",
       "      <td>23.99</td>\n",
       "      <td>1.8</td>\n",
       "      <td>150.0</td>\n",
       "      <td>102.6</td>\n",
       "      <td>68.2</td>\n",
       "      <td>178.0</td>\n",
       "      <td>2.998</td>\n",
       "      <td>16.4</td>\n",
       "      <td>27.0</td>\n",
       "      <td>10/8/2011</td>\n",
       "      <td>62.777639</td>\n",
       "    </tr>\n",
       "  </tbody>\n",
       "</table>\n",
       "</div>"
      ],
      "text/plain": [
       "  Manufacturer    Model  Sales_in_thousands  __year_resale_value Vehicle_type  \\\n",
       "0        Acura  Integra              16.919               16.360    Passenger   \n",
       "1        Acura       TL              39.384               19.875    Passenger   \n",
       "2        Acura       CL              14.114               18.225    Passenger   \n",
       "3        Acura       RL               8.588               29.725    Passenger   \n",
       "4         Audi       A4              20.397               22.255    Passenger   \n",
       "\n",
       "   Price_in_thousands  Engine_size  Horsepower  Wheelbase  Width  Length  \\\n",
       "0               21.50          1.8       140.0      101.2   67.3   172.4   \n",
       "1               28.40          3.2       225.0      108.1   70.3   192.9   \n",
       "2                 NaN          3.2       225.0      106.9   70.6   192.0   \n",
       "3               42.00          3.5       210.0      114.6   71.4   196.6   \n",
       "4               23.99          1.8       150.0      102.6   68.2   178.0   \n",
       "\n",
       "   Curb_weight  Fuel_capacity  Fuel_efficiency Latest_Launch  \\\n",
       "0        2.639           13.2             28.0      2/2/2012   \n",
       "1        3.517           17.2             25.0      6/3/2011   \n",
       "2        3.470           17.2             26.0      1/4/2012   \n",
       "3        3.850           18.0             22.0     3/10/2011   \n",
       "4        2.998           16.4             27.0     10/8/2011   \n",
       "\n",
       "   Power_perf_factor  \n",
       "0          58.280150  \n",
       "1          91.370778  \n",
       "2                NaN  \n",
       "3          91.389779  \n",
       "4          62.777639  "
      ]
     },
     "execution_count": 76,
     "metadata": {},
     "output_type": "execute_result"
    }
   ],
   "source": [
    "import pandas as pd\n",
    "\n",
    "df = pd.read_csv('./data/car_sales.csv').copy()\n",
    "print(df.shape)\n",
    "df.head()"
   ]
  },
  {
   "cell_type": "code",
   "execution_count": 93,
   "metadata": {},
   "outputs": [],
   "source": [
    "data_sample = df.head(10).to_csv()"
   ]
  },
  {
   "cell_type": "code",
   "execution_count": 55,
   "metadata": {},
   "outputs": [],
   "source": [
    "from langchain.llms import OpenAI\n",
    "\n",
    "llm = OpenAI(model='text-curie-001', temperature=0)"
   ]
  },
  {
   "cell_type": "code",
   "execution_count": 304,
   "metadata": {},
   "outputs": [],
   "source": [
    "# using chat model\n",
    "\n",
    "from langchain.chat_models import ChatOpenAI\n",
    "\n",
    "from langchain.prompts import (\n",
    "    ChatPromptTemplate,\n",
    "    PromptTemplate,\n",
    "    SystemMessagePromptTemplate,\n",
    "    AIMessagePromptTemplate,\n",
    "    HumanMessagePromptTemplate,\n",
    ")\n",
    "from langchain.schema import (\n",
    "    AIMessage,\n",
    "    HumanMessage,\n",
    "    SystemMessage\n",
    ")\n",
    "\n",
    "chat_llm = ChatOpenAI(model_name=\"gpt-3.5-turbo\", temperature=0.7)\n",
    "\n",
    "system_template = \"\"\"/\n",
    "The following is a conversation between a Human and an AI assistant expert on data visualization with perfect Python 3 syntax. The human will provide a sample dataset for the AI to use as the source. The real dataset that the human will use with the response of the AI is going to have several more rows. The AI assistant will only reply in the following JSON format: \n",
    "\n",
    "{{ \n",
    "\"charts\": [{{'title': string, 'chartType': string, 'parameters': {{...}}}}, ... ]\n",
    "}}\n",
    "\n",
    "Instructions:\n",
    "\n",
    "1. chartType must only contain methods of plotly.express from the Python library Plotly.\n",
    "2. The format for charType string: plotly.express.chartType.\n",
    "3. For each chartType, parameters must contain the value to be used for all parameters of that plotly.express method.\n",
    "4. There should 4 parameters for each chart.\n",
    "5. Do not include \"data_frame\" in the parameters.\n",
    "6. There should be {num_charts} charts in total.\n",
    "\"\"\"\n",
    "system_message_prompt = SystemMessagePromptTemplate.from_template(system_template)\n",
    "\n",
    "human_template = \"\"\"\n",
    "Human: \n",
    "This is the dataset:\n",
    "\n",
    "{data}\n",
    "\"\"\"\n",
    "human_message_prompt = HumanMessagePromptTemplate.from_template(human_template)\n",
    "\n",
    "chat_prompt = ChatPromptTemplate.from_messages([system_message_prompt, human_message_prompt])\n",
    "prompt = chat_prompt.format_prompt(num_charts=str(10), data=data_sample).to_messages()"
   ]
  },
  {
   "cell_type": "code",
   "execution_count": 305,
   "metadata": {},
   "outputs": [
    {
     "name": "stdout",
     "output_type": "stream",
     "text": [
      "[SystemMessage(content='/\\nThe following is a conversation between a Human and an AI assistant expert on data visualization with perfect Python 3 syntax. The human will provide a sample dataset for the AI to use as the source. The real dataset that the human will use with the response of the AI is going to have several more rows. The AI assistant will only reply in the following JSON format: \\n\\n{ \\n\"charts\": [{\\'title\\': string, \\'chartType\\': string, \\'parameters\\': {...}}, ... ]\\n}\\n\\nInstructions:\\n\\n1. chartType must only contain methods of plotly.express from the Python library Plotly.\\n2. The format for charType string: plotly.express.chartType.\\n3. For each chartType, parameters must contain the value to be used for all parameters of that plotly.express method.\\n4. There should 4 parameters for each chart.\\n5. Do not include \"data_frame\" in the parameters.\\n6. There should be 10 charts in total.\\n', additional_kwargs={}), HumanMessage(content='\\nHuman: \\nThis is the dataset:\\n\\n,Manufacturer,Model,Sales_in_thousands,__year_resale_value,Vehicle_type,Price_in_thousands,Engine_size,Horsepower,Wheelbase,Width,Length,Curb_weight,Fuel_capacity,Fuel_efficiency,Latest_Launch,Power_perf_factor\\r\\n0,Acura,Integra,16.919,16.36,Passenger,21.5,1.8,140.0,101.2,67.3,172.4,2.639,13.2,28.0,2/2/2012,58.28014952\\r\\n1,Acura,TL,39.384,19.875,Passenger,28.4,3.2,225.0,108.1,70.3,192.9,3.517,17.2,25.0,6/3/2011,91.37077766\\r\\n2,Acura,CL,14.114,18.225,Passenger,,3.2,225.0,106.9,70.6,192.0,3.47,17.2,26.0,1/4/2012,\\r\\n3,Acura,RL,8.588,29.725,Passenger,42.0,3.5,210.0,114.6,71.4,196.6,3.85,18.0,22.0,3/10/2011,91.38977933\\r\\n4,Audi,A4,20.397,22.255,Passenger,23.99,1.8,150.0,102.6,68.2,178.0,2.998,16.4,27.0,10/8/2011,62.7776392\\r\\n5,Audi,A6,18.78,23.555,Passenger,33.95,2.8,200.0,108.7,76.1,192.0,3.561,18.5,22.0,8/9/2011,84.56510502\\r\\n6,Audi,A8,1.38,39.0,Passenger,62.0,4.2,310.0,113.0,74.0,198.2,3.902,23.7,21.0,2/27/2012,134.6568582\\r\\n7,BMW,323i,19.747,,Passenger,26.99,2.5,170.0,107.3,68.4,176.0,3.179,16.6,26.0,6/28/2011,71.19120671\\r\\n8,BMW,328i,9.231,28.675,Passenger,33.4,2.8,193.0,107.3,68.5,176.0,3.197,16.6,24.0,1/29/2012,81.87706856\\r\\n9,BMW,528i,17.527,36.125,Passenger,38.9,2.8,193.0,111.4,70.9,188.0,3.472,18.5,25.0,4/4/2011,83.9987238\\r\\n\\n', additional_kwargs={}, example=False)]\n"
     ]
    }
   ],
   "source": [
    "print(prompt)"
   ]
  },
  {
   "cell_type": "code",
   "execution_count": 306,
   "metadata": {},
   "outputs": [],
   "source": [
    "from langchain.callbacks import get_openai_callback\n",
    "\n",
    "with get_openai_callback() as cb:\n",
    "    result = chat_llm(prompt)\n",
    "total_token = cb.total_tokens\n",
    "total_cost = cb.total_cost"
   ]
  },
  {
   "cell_type": "code",
   "execution_count": 307,
   "metadata": {},
   "outputs": [
    {
     "data": {
      "text/plain": [
       "'{ \\n\"charts\": [\\n    {\\'title\\': \\'Scatter Chart\\', \\'chartType\\': \\'plotly.express.scatter\\', \\'parameters\\': {\\'x\\': \\'Horsepower\\', \\'y\\': \\'Price_in_thousands\\', \\'color\\': \\'Manufacturer\\', \\'size\\': \\'Sales_in_thousands\\'}},\\n    {\\'title\\': \\'Bar Chart\\', \\'chartType\\': \\'plotly.express.bar\\', \\'parameters\\': {\\'x\\': \\'Manufacturer\\', \\'y\\': \\'Sales_in_thousands\\', \\'color\\': \\'Vehicle_type\\', \\'barmode\\': \\'group\\'}},\\n    {\\'title\\': \\'Line Chart\\', \\'chartType\\': \\'plotly.express.line\\', \\'parameters\\': {\\'x\\': \\'Latest_Launch\\', \\'y\\': \\'Sales_in_thousands\\', \\'color\\': \\'Manufacturer\\', \\'line_group\\': \\'Vehicle_type\\'}},\\n    {\\'title\\': \\'Histogram\\', \\'chartType\\': \\'plotly.express.histogram\\', \\'parameters\\': {\\'x\\': \\'Price_in_thousands\\', \\'color\\': \\'Vehicle_type\\', \\'nbins\\': 10}},\\n    {\\'title\\': \\'Box Plot\\', \\'chartType\\': \\'plotly.express.box\\', \\'parameters\\': {\\'x\\': \\'Manufacturer\\', \\'y\\': \\'Price_in_thousands\\', \\'color\\': \\'Vehicle_type\\', \\'notched\\': True}},\\n    {\\'title\\': \\'Area Chart\\', \\'chartType\\': \\'plotly.express.area\\', \\'parameters\\': {\\'x\\': \\'Latest_Launch\\', \\'y\\': \\'Sales_in_thousands\\', \\'color\\': \\'Manufacturer\\', \\'line_group\\': \\'Vehicle_type\\'}},\\n    {\\'title\\': \\'Scatter Matrix\\', \\'chartType\\': \\'plotly.express.scatter_matrix\\', \\'parameters\\': {\\'dimensions\\': [\\'Price_in_thousands\\', \\'Horsepower\\', \\'Curb_weight\\']}},\\n    {\\'title\\': \\'Pie Chart\\', \\'chartType\\': \\'plotly.express.pie\\', \\'parameters\\': {\\'names\\': \\'Manufacturer\\', \\'values\\': \\'Sales_in_thousands\\', \\'hole\\': 0.3}},\\n    {\\'title\\': \\'Sunburst Chart\\', \\'chartType\\': \\'plotly.express.sunburst\\', \\'parameters\\': {\\'path\\': [\\'Manufacturer\\', \\'Vehicle_type\\'], \\'values\\': \\'Sales_in_thousands\\', \\'color\\': \\'Price_in_thousands\\'}},\\n    {\\'title\\': \\'3D Scatter Chart\\', \\'chartType\\': \\'plotly.express.scatter_3d\\', \\'parameters\\': {\\'x\\': \\'Horsepower\\', \\'y\\': \\'Price_in_thousands\\', \\'z\\': \\'Sales_in_thousands\\', \\'color\\': \\'Manufacturer\\'}}\\n]\\n}'"
      ]
     },
     "execution_count": 307,
     "metadata": {},
     "output_type": "execute_result"
    }
   ],
   "source": [
    "result.content"
   ]
  },
  {
   "cell_type": "code",
   "execution_count": 308,
   "metadata": {},
   "outputs": [],
   "source": [
    "exec(f\"out = {result.content}\")"
   ]
  },
  {
   "cell_type": "code",
   "execution_count": 309,
   "metadata": {},
   "outputs": [
    {
     "data": {
      "text/plain": [
       "{'charts': [{'title': 'Scatter Chart',\n",
       "   'chartType': 'plotly.express.scatter',\n",
       "   'parameters': {'x': 'Horsepower',\n",
       "    'y': 'Price_in_thousands',\n",
       "    'color': 'Manufacturer',\n",
       "    'size': 'Sales_in_thousands'}},\n",
       "  {'title': 'Bar Chart',\n",
       "   'chartType': 'plotly.express.bar',\n",
       "   'parameters': {'x': 'Manufacturer',\n",
       "    'y': 'Sales_in_thousands',\n",
       "    'color': 'Vehicle_type',\n",
       "    'barmode': 'group'}},\n",
       "  {'title': 'Line Chart',\n",
       "   'chartType': 'plotly.express.line',\n",
       "   'parameters': {'x': 'Latest_Launch',\n",
       "    'y': 'Sales_in_thousands',\n",
       "    'color': 'Manufacturer',\n",
       "    'line_group': 'Vehicle_type'}},\n",
       "  {'title': 'Histogram',\n",
       "   'chartType': 'plotly.express.histogram',\n",
       "   'parameters': {'x': 'Price_in_thousands',\n",
       "    'color': 'Vehicle_type',\n",
       "    'nbins': 10}},\n",
       "  {'title': 'Box Plot',\n",
       "   'chartType': 'plotly.express.box',\n",
       "   'parameters': {'x': 'Manufacturer',\n",
       "    'y': 'Price_in_thousands',\n",
       "    'color': 'Vehicle_type',\n",
       "    'notched': True}},\n",
       "  {'title': 'Area Chart',\n",
       "   'chartType': 'plotly.express.area',\n",
       "   'parameters': {'x': 'Latest_Launch',\n",
       "    'y': 'Sales_in_thousands',\n",
       "    'color': 'Manufacturer',\n",
       "    'line_group': 'Vehicle_type'}},\n",
       "  {'title': 'Scatter Matrix',\n",
       "   'chartType': 'plotly.express.scatter_matrix',\n",
       "   'parameters': {'dimensions': ['Price_in_thousands',\n",
       "     'Horsepower',\n",
       "     'Curb_weight']}},\n",
       "  {'title': 'Pie Chart',\n",
       "   'chartType': 'plotly.express.pie',\n",
       "   'parameters': {'names': 'Manufacturer',\n",
       "    'values': 'Sales_in_thousands',\n",
       "    'hole': 0.3}},\n",
       "  {'title': 'Sunburst Chart',\n",
       "   'chartType': 'plotly.express.sunburst',\n",
       "   'parameters': {'path': ['Manufacturer', 'Vehicle_type'],\n",
       "    'values': 'Sales_in_thousands',\n",
       "    'color': 'Price_in_thousands'}},\n",
       "  {'title': '3D Scatter Chart',\n",
       "   'chartType': 'plotly.express.scatter_3d',\n",
       "   'parameters': {'x': 'Horsepower',\n",
       "    'y': 'Price_in_thousands',\n",
       "    'z': 'Sales_in_thousands',\n",
       "    'color': 'Manufacturer'}}]}"
      ]
     },
     "execution_count": 309,
     "metadata": {},
     "output_type": "execute_result"
    }
   ],
   "source": [
    "out"
   ]
  },
  {
   "cell_type": "code",
   "execution_count": 310,
   "metadata": {},
   "outputs": [
    {
     "data": {
      "text/plain": [
       "{'title': 'Scatter Chart',\n",
       " 'chartType': 'plotly.express.scatter',\n",
       " 'parameters': {'x': 'Horsepower',\n",
       "  'y': 'Price_in_thousands',\n",
       "  'color': 'Manufacturer',\n",
       "  'size': 'Sales_in_thousands'}}"
      ]
     },
     "execution_count": 310,
     "metadata": {},
     "output_type": "execute_result"
    }
   ],
   "source": [
    "out['charts'][0]"
   ]
  },
  {
   "cell_type": "code",
   "execution_count": 325,
   "metadata": {},
   "outputs": [],
   "source": [
    "output = {'charts': [{'title': 'Sales by Manufacturer', 'chartType': 'plotly.express.bar', 'parameters': {'x': 'Manufacturer', 'y': 'Sales_in_thousands'}}, {'title': 'Resale Value by Manufacturer', 'chartType': 'plotly.express.box', 'parameters': {'x': 'Manufacturer', 'y': '__year_resale_value'}}, {'title': 'Engine Size vs Horsepower', 'chartType': 'plotly.express.scatter', 'parameters': {'x': 'Engine_size', 'y': 'Horsepower'}}, {'title': 'Fuel Efficiency Distribution', 'chartType': 'plotly.express.histogram', 'parameters': {'x': 'Fuel_efficiency'}}]}"
   ]
  },
  {
   "cell_type": "code",
   "execution_count": 330,
   "metadata": {},
   "outputs": [
    {
     "data": {
      "application/vnd.plotly.v1+json": {
       "config": {
        "plotlyServerURL": "https://plot.ly"
       },
       "data": [
        {
         "alignmentgroup": "True",
         "hovertemplate": "Manufacturer=%{x}<br>Sales_in_thousands=%{y}<extra></extra>",
         "legendgroup": "",
         "marker": {
          "color": "#636efa",
          "pattern": {
           "shape": ""
          }
         },
         "name": "",
         "offsetgroup": "",
         "orientation": "v",
         "showlegend": false,
         "textposition": "auto",
         "type": "bar",
         "x": [
          "Acura",
          "Acura",
          "Acura",
          "Acura",
          "Audi",
          "Audi",
          "Audi",
          "BMW",
          "BMW",
          "BMW",
          "Buick",
          "Buick",
          "Buick",
          "Buick",
          "Cadillac",
          "Cadillac",
          "Cadillac",
          "Cadillac",
          "Cadillac",
          "Chevrolet",
          "Chevrolet",
          "Chevrolet",
          "Chevrolet",
          "Chevrolet",
          "Chevrolet",
          "Chevrolet",
          "Chevrolet",
          "Chevrolet",
          "Chrysler",
          "Chrysler",
          "Chrysler",
          "Chrysler",
          "Chrysler",
          "Chrysler",
          "Chrysler",
          "Dodge",
          "Dodge",
          "Dodge",
          "Dodge",
          "Dodge",
          "Dodge",
          "Dodge",
          "Dodge",
          "Dodge",
          "Dodge",
          "Dodge",
          "Ford",
          "Ford",
          "Ford",
          "Ford",
          "Ford",
          "Ford",
          "Ford",
          "Ford",
          "Ford",
          "Ford",
          "Ford",
          "Honda",
          "Honda",
          "Honda",
          "Honda",
          "Honda",
          "Hyundai",
          "Hyundai",
          "Hyundai",
          "Infiniti",
          "Jaguar",
          "Jeep",
          "Jeep",
          "Jeep",
          "Lexus",
          "Lexus",
          "Lexus",
          "Lexus",
          "Lexus",
          "Lexus",
          "Lincoln",
          "Lincoln",
          "Lincoln",
          "Mitsubishi",
          "Mitsubishi",
          "Mitsubishi",
          "Mitsubishi",
          "Mitsubishi",
          "Mitsubishi",
          "Mitsubishi",
          "Mercury",
          "Mercury",
          "Mercury",
          "Mercury",
          "Mercury",
          "Mercury",
          "Mercedes-B",
          "Mercedes-B",
          "Mercedes-B",
          "Mercedes-B",
          "Mercedes-B",
          "Mercedes-B",
          "Mercedes-B",
          "Mercedes-B",
          "Mercedes-B",
          "Nissan",
          "Nissan",
          "Nissan",
          "Nissan",
          "Nissan",
          "Nissan",
          "Nissan",
          "Oldsmobile",
          "Oldsmobile",
          "Oldsmobile",
          "Oldsmobile",
          "Oldsmobile",
          "Oldsmobile",
          "Plymouth",
          "Plymouth",
          "Plymouth",
          "Plymouth",
          "Pontiac",
          "Pontiac",
          "Pontiac",
          "Pontiac",
          "Pontiac",
          "Pontiac",
          "Porsche",
          "Porsche",
          "Porsche",
          "Saab",
          "Saab",
          "Saturn",
          "Saturn",
          "Saturn",
          "Saturn",
          "Saturn",
          "Subaru",
          "Subaru",
          "Toyota",
          "Toyota",
          "Toyota",
          "Toyota",
          "Toyota",
          "Toyota",
          "Toyota",
          "Toyota",
          "Toyota",
          "Volkswagen",
          "Volkswagen",
          "Volkswagen",
          "Volkswagen",
          "Volkswagen",
          "Volkswagen",
          "Volvo",
          "Volvo",
          "Volvo",
          "Volvo",
          "Volvo",
          "Volvo"
         ],
         "xaxis": "x",
         "y": [
          16.919,
          39.384,
          14.114,
          8.588,
          20.397,
          18.78,
          1.38,
          19.747,
          9.231,
          17.527,
          91.561,
          39.35,
          27.851,
          83.257,
          63.729,
          15.943,
          6.536,
          11.185,
          14.785,
          145.519,
          135.126,
          24.629,
          42.593,
          26.402,
          17.947,
          32.299,
          21.855,
          107.995,
          7.854,
          32.775,
          31.148,
          32.306,
          13.462,
          53.48,
          30.696,
          76.034,
          4.734,
          71.186,
          88.028,
          0.916,
          227.061,
          16.767,
          31.038,
          111.313,
          101.323,
          181.749,
          70.227,
          113.369,
          35.068,
          245.815,
          175.67,
          63.403,
          276.747,
          155.787,
          125.338,
          220.65,
          540.561,
          199.685,
          230.902,
          73.203,
          12.855,
          76.029,
          41.184,
          66.692,
          29.45,
          23.713,
          15.467,
          55.557,
          80.556,
          157.04,
          24.072,
          12.698,
          3.334,
          6.375,
          9.126,
          51.238,
          13.798,
          48.911,
          22.925,
          26.232,
          42.541,
          55.616,
          5.711,
          0.11,
          11.337,
          39.348,
          14.351,
          26.529,
          67.956,
          81.174,
          27.609,
          20.38,
          18.392,
          27.602,
          16.774,
          3.311,
          7.998,
          1.526,
          11.592,
          0.954,
          28.976,
          42.643,
          88.094,
          79.853,
          27.308,
          42.574,
          54.158,
          65.005,
          1.112,
          38.554,
          80.255,
          14.69,
          20.017,
          24.361,
          32.734,
          5.24,
          24.155,
          1.872,
          51.645,
          131.097,
          19.911,
          92.364,
          35.945,
          39.572,
          8.982,
          1.28,
          1.866,
          9.191,
          12.115,
          80.62,
          24.546,
          5.223,
          8.472,
          49.989,
          47.107,
          33.028,
          142.535,
          247.994,
          63.849,
          33.269,
          84.087,
          65.119,
          25.106,
          68.411,
          9.835,
          9.761,
          83.721,
          51.102,
          9.569,
          5.596,
          49.463,
          16.957,
          3.545,
          15.245,
          17.531,
          3.493,
          18.969
         ],
         "yaxis": "y"
        }
       ],
       "layout": {
        "barmode": "relative",
        "legend": {
         "tracegroupgap": 0
        },
        "template": {
         "data": {
          "bar": [
           {
            "error_x": {
             "color": "#2a3f5f"
            },
            "error_y": {
             "color": "#2a3f5f"
            },
            "marker": {
             "line": {
              "color": "#E5ECF6",
              "width": 0.5
             },
             "pattern": {
              "fillmode": "overlay",
              "size": 10,
              "solidity": 0.2
             }
            },
            "type": "bar"
           }
          ],
          "barpolar": [
           {
            "marker": {
             "line": {
              "color": "#E5ECF6",
              "width": 0.5
             },
             "pattern": {
              "fillmode": "overlay",
              "size": 10,
              "solidity": 0.2
             }
            },
            "type": "barpolar"
           }
          ],
          "carpet": [
           {
            "aaxis": {
             "endlinecolor": "#2a3f5f",
             "gridcolor": "white",
             "linecolor": "white",
             "minorgridcolor": "white",
             "startlinecolor": "#2a3f5f"
            },
            "baxis": {
             "endlinecolor": "#2a3f5f",
             "gridcolor": "white",
             "linecolor": "white",
             "minorgridcolor": "white",
             "startlinecolor": "#2a3f5f"
            },
            "type": "carpet"
           }
          ],
          "choropleth": [
           {
            "colorbar": {
             "outlinewidth": 0,
             "ticks": ""
            },
            "type": "choropleth"
           }
          ],
          "contour": [
           {
            "colorbar": {
             "outlinewidth": 0,
             "ticks": ""
            },
            "colorscale": [
             [
              0,
              "#0d0887"
             ],
             [
              0.1111111111111111,
              "#46039f"
             ],
             [
              0.2222222222222222,
              "#7201a8"
             ],
             [
              0.3333333333333333,
              "#9c179e"
             ],
             [
              0.4444444444444444,
              "#bd3786"
             ],
             [
              0.5555555555555556,
              "#d8576b"
             ],
             [
              0.6666666666666666,
              "#ed7953"
             ],
             [
              0.7777777777777778,
              "#fb9f3a"
             ],
             [
              0.8888888888888888,
              "#fdca26"
             ],
             [
              1,
              "#f0f921"
             ]
            ],
            "type": "contour"
           }
          ],
          "contourcarpet": [
           {
            "colorbar": {
             "outlinewidth": 0,
             "ticks": ""
            },
            "type": "contourcarpet"
           }
          ],
          "heatmap": [
           {
            "colorbar": {
             "outlinewidth": 0,
             "ticks": ""
            },
            "colorscale": [
             [
              0,
              "#0d0887"
             ],
             [
              0.1111111111111111,
              "#46039f"
             ],
             [
              0.2222222222222222,
              "#7201a8"
             ],
             [
              0.3333333333333333,
              "#9c179e"
             ],
             [
              0.4444444444444444,
              "#bd3786"
             ],
             [
              0.5555555555555556,
              "#d8576b"
             ],
             [
              0.6666666666666666,
              "#ed7953"
             ],
             [
              0.7777777777777778,
              "#fb9f3a"
             ],
             [
              0.8888888888888888,
              "#fdca26"
             ],
             [
              1,
              "#f0f921"
             ]
            ],
            "type": "heatmap"
           }
          ],
          "heatmapgl": [
           {
            "colorbar": {
             "outlinewidth": 0,
             "ticks": ""
            },
            "colorscale": [
             [
              0,
              "#0d0887"
             ],
             [
              0.1111111111111111,
              "#46039f"
             ],
             [
              0.2222222222222222,
              "#7201a8"
             ],
             [
              0.3333333333333333,
              "#9c179e"
             ],
             [
              0.4444444444444444,
              "#bd3786"
             ],
             [
              0.5555555555555556,
              "#d8576b"
             ],
             [
              0.6666666666666666,
              "#ed7953"
             ],
             [
              0.7777777777777778,
              "#fb9f3a"
             ],
             [
              0.8888888888888888,
              "#fdca26"
             ],
             [
              1,
              "#f0f921"
             ]
            ],
            "type": "heatmapgl"
           }
          ],
          "histogram": [
           {
            "marker": {
             "pattern": {
              "fillmode": "overlay",
              "size": 10,
              "solidity": 0.2
             }
            },
            "type": "histogram"
           }
          ],
          "histogram2d": [
           {
            "colorbar": {
             "outlinewidth": 0,
             "ticks": ""
            },
            "colorscale": [
             [
              0,
              "#0d0887"
             ],
             [
              0.1111111111111111,
              "#46039f"
             ],
             [
              0.2222222222222222,
              "#7201a8"
             ],
             [
              0.3333333333333333,
              "#9c179e"
             ],
             [
              0.4444444444444444,
              "#bd3786"
             ],
             [
              0.5555555555555556,
              "#d8576b"
             ],
             [
              0.6666666666666666,
              "#ed7953"
             ],
             [
              0.7777777777777778,
              "#fb9f3a"
             ],
             [
              0.8888888888888888,
              "#fdca26"
             ],
             [
              1,
              "#f0f921"
             ]
            ],
            "type": "histogram2d"
           }
          ],
          "histogram2dcontour": [
           {
            "colorbar": {
             "outlinewidth": 0,
             "ticks": ""
            },
            "colorscale": [
             [
              0,
              "#0d0887"
             ],
             [
              0.1111111111111111,
              "#46039f"
             ],
             [
              0.2222222222222222,
              "#7201a8"
             ],
             [
              0.3333333333333333,
              "#9c179e"
             ],
             [
              0.4444444444444444,
              "#bd3786"
             ],
             [
              0.5555555555555556,
              "#d8576b"
             ],
             [
              0.6666666666666666,
              "#ed7953"
             ],
             [
              0.7777777777777778,
              "#fb9f3a"
             ],
             [
              0.8888888888888888,
              "#fdca26"
             ],
             [
              1,
              "#f0f921"
             ]
            ],
            "type": "histogram2dcontour"
           }
          ],
          "mesh3d": [
           {
            "colorbar": {
             "outlinewidth": 0,
             "ticks": ""
            },
            "type": "mesh3d"
           }
          ],
          "parcoords": [
           {
            "line": {
             "colorbar": {
              "outlinewidth": 0,
              "ticks": ""
             }
            },
            "type": "parcoords"
           }
          ],
          "pie": [
           {
            "automargin": true,
            "type": "pie"
           }
          ],
          "scatter": [
           {
            "marker": {
             "colorbar": {
              "outlinewidth": 0,
              "ticks": ""
             }
            },
            "type": "scatter"
           }
          ],
          "scatter3d": [
           {
            "line": {
             "colorbar": {
              "outlinewidth": 0,
              "ticks": ""
             }
            },
            "marker": {
             "colorbar": {
              "outlinewidth": 0,
              "ticks": ""
             }
            },
            "type": "scatter3d"
           }
          ],
          "scattercarpet": [
           {
            "marker": {
             "colorbar": {
              "outlinewidth": 0,
              "ticks": ""
             }
            },
            "type": "scattercarpet"
           }
          ],
          "scattergeo": [
           {
            "marker": {
             "colorbar": {
              "outlinewidth": 0,
              "ticks": ""
             }
            },
            "type": "scattergeo"
           }
          ],
          "scattergl": [
           {
            "marker": {
             "colorbar": {
              "outlinewidth": 0,
              "ticks": ""
             }
            },
            "type": "scattergl"
           }
          ],
          "scattermapbox": [
           {
            "marker": {
             "colorbar": {
              "outlinewidth": 0,
              "ticks": ""
             }
            },
            "type": "scattermapbox"
           }
          ],
          "scatterpolar": [
           {
            "marker": {
             "colorbar": {
              "outlinewidth": 0,
              "ticks": ""
             }
            },
            "type": "scatterpolar"
           }
          ],
          "scatterpolargl": [
           {
            "marker": {
             "colorbar": {
              "outlinewidth": 0,
              "ticks": ""
             }
            },
            "type": "scatterpolargl"
           }
          ],
          "scatterternary": [
           {
            "marker": {
             "colorbar": {
              "outlinewidth": 0,
              "ticks": ""
             }
            },
            "type": "scatterternary"
           }
          ],
          "surface": [
           {
            "colorbar": {
             "outlinewidth": 0,
             "ticks": ""
            },
            "colorscale": [
             [
              0,
              "#0d0887"
             ],
             [
              0.1111111111111111,
              "#46039f"
             ],
             [
              0.2222222222222222,
              "#7201a8"
             ],
             [
              0.3333333333333333,
              "#9c179e"
             ],
             [
              0.4444444444444444,
              "#bd3786"
             ],
             [
              0.5555555555555556,
              "#d8576b"
             ],
             [
              0.6666666666666666,
              "#ed7953"
             ],
             [
              0.7777777777777778,
              "#fb9f3a"
             ],
             [
              0.8888888888888888,
              "#fdca26"
             ],
             [
              1,
              "#f0f921"
             ]
            ],
            "type": "surface"
           }
          ],
          "table": [
           {
            "cells": {
             "fill": {
              "color": "#EBF0F8"
             },
             "line": {
              "color": "white"
             }
            },
            "header": {
             "fill": {
              "color": "#C8D4E3"
             },
             "line": {
              "color": "white"
             }
            },
            "type": "table"
           }
          ]
         },
         "layout": {
          "annotationdefaults": {
           "arrowcolor": "#2a3f5f",
           "arrowhead": 0,
           "arrowwidth": 1
          },
          "autotypenumbers": "strict",
          "coloraxis": {
           "colorbar": {
            "outlinewidth": 0,
            "ticks": ""
           }
          },
          "colorscale": {
           "diverging": [
            [
             0,
             "#8e0152"
            ],
            [
             0.1,
             "#c51b7d"
            ],
            [
             0.2,
             "#de77ae"
            ],
            [
             0.3,
             "#f1b6da"
            ],
            [
             0.4,
             "#fde0ef"
            ],
            [
             0.5,
             "#f7f7f7"
            ],
            [
             0.6,
             "#e6f5d0"
            ],
            [
             0.7,
             "#b8e186"
            ],
            [
             0.8,
             "#7fbc41"
            ],
            [
             0.9,
             "#4d9221"
            ],
            [
             1,
             "#276419"
            ]
           ],
           "sequential": [
            [
             0,
             "#0d0887"
            ],
            [
             0.1111111111111111,
             "#46039f"
            ],
            [
             0.2222222222222222,
             "#7201a8"
            ],
            [
             0.3333333333333333,
             "#9c179e"
            ],
            [
             0.4444444444444444,
             "#bd3786"
            ],
            [
             0.5555555555555556,
             "#d8576b"
            ],
            [
             0.6666666666666666,
             "#ed7953"
            ],
            [
             0.7777777777777778,
             "#fb9f3a"
            ],
            [
             0.8888888888888888,
             "#fdca26"
            ],
            [
             1,
             "#f0f921"
            ]
           ],
           "sequentialminus": [
            [
             0,
             "#0d0887"
            ],
            [
             0.1111111111111111,
             "#46039f"
            ],
            [
             0.2222222222222222,
             "#7201a8"
            ],
            [
             0.3333333333333333,
             "#9c179e"
            ],
            [
             0.4444444444444444,
             "#bd3786"
            ],
            [
             0.5555555555555556,
             "#d8576b"
            ],
            [
             0.6666666666666666,
             "#ed7953"
            ],
            [
             0.7777777777777778,
             "#fb9f3a"
            ],
            [
             0.8888888888888888,
             "#fdca26"
            ],
            [
             1,
             "#f0f921"
            ]
           ]
          },
          "colorway": [
           "#636efa",
           "#EF553B",
           "#00cc96",
           "#ab63fa",
           "#FFA15A",
           "#19d3f3",
           "#FF6692",
           "#B6E880",
           "#FF97FF",
           "#FECB52"
          ],
          "font": {
           "color": "#2a3f5f"
          },
          "geo": {
           "bgcolor": "white",
           "lakecolor": "white",
           "landcolor": "#E5ECF6",
           "showlakes": true,
           "showland": true,
           "subunitcolor": "white"
          },
          "hoverlabel": {
           "align": "left"
          },
          "hovermode": "closest",
          "mapbox": {
           "style": "light"
          },
          "paper_bgcolor": "white",
          "plot_bgcolor": "#E5ECF6",
          "polar": {
           "angularaxis": {
            "gridcolor": "white",
            "linecolor": "white",
            "ticks": ""
           },
           "bgcolor": "#E5ECF6",
           "radialaxis": {
            "gridcolor": "white",
            "linecolor": "white",
            "ticks": ""
           }
          },
          "scene": {
           "xaxis": {
            "backgroundcolor": "#E5ECF6",
            "gridcolor": "white",
            "gridwidth": 2,
            "linecolor": "white",
            "showbackground": true,
            "ticks": "",
            "zerolinecolor": "white"
           },
           "yaxis": {
            "backgroundcolor": "#E5ECF6",
            "gridcolor": "white",
            "gridwidth": 2,
            "linecolor": "white",
            "showbackground": true,
            "ticks": "",
            "zerolinecolor": "white"
           },
           "zaxis": {
            "backgroundcolor": "#E5ECF6",
            "gridcolor": "white",
            "gridwidth": 2,
            "linecolor": "white",
            "showbackground": true,
            "ticks": "",
            "zerolinecolor": "white"
           }
          },
          "shapedefaults": {
           "line": {
            "color": "#2a3f5f"
           }
          },
          "ternary": {
           "aaxis": {
            "gridcolor": "white",
            "linecolor": "white",
            "ticks": ""
           },
           "baxis": {
            "gridcolor": "white",
            "linecolor": "white",
            "ticks": ""
           },
           "bgcolor": "#E5ECF6",
           "caxis": {
            "gridcolor": "white",
            "linecolor": "white",
            "ticks": ""
           }
          },
          "title": {
           "x": 0.05
          },
          "xaxis": {
           "automargin": true,
           "gridcolor": "white",
           "linecolor": "white",
           "ticks": "",
           "title": {
            "standoff": 15
           },
           "zerolinecolor": "white",
           "zerolinewidth": 2
          },
          "yaxis": {
           "automargin": true,
           "gridcolor": "white",
           "linecolor": "white",
           "ticks": "",
           "title": {
            "standoff": 15
           },
           "zerolinecolor": "white",
           "zerolinewidth": 2
          }
         }
        },
        "title": {
         "text": "Sales by Manufacturer"
        },
        "xaxis": {
         "anchor": "y",
         "domain": [
          0,
          1
         ],
         "title": {
          "text": "Manufacturer"
         }
        },
        "yaxis": {
         "anchor": "x",
         "domain": [
          0,
          1
         ],
         "title": {
          "text": "Sales_in_thousands"
         }
        }
       }
      }
     },
     "metadata": {},
     "output_type": "display_data"
    }
   ],
   "source": [
    "import plotly.express\n",
    "\n",
    "if True:\n",
    "    code = f\"\"\"\n",
    "params = {output['charts'][0]['parameters']}\n",
    "params['data_frame'] = df\n",
    "params['title'] = \"{output['charts'][0]['title']}\"\n",
    "\n",
    "fig = {output['charts'][0]['chartType']}(**params)\n",
    "\n",
    "fig.show()\n",
    "    \"\"\"\n",
    "\n",
    "exec(code)"
   ]
  },
  {
   "cell_type": "code",
   "execution_count": 312,
   "metadata": {},
   "outputs": [
    {
     "data": {
      "application/vnd.plotly.v1+json": {
       "config": {
        "plotlyServerURL": "https://plot.ly"
       },
       "data": [
        {
         "alignmentgroup": "True",
         "hovertemplate": "Vehicle_type=Passenger<br>Manufacturer=%{x}<br>Sales_in_thousands=%{y}<extra></extra>",
         "legendgroup": "Passenger",
         "marker": {
          "color": "#636efa",
          "pattern": {
           "shape": ""
          }
         },
         "name": "Passenger",
         "offsetgroup": "Passenger",
         "orientation": "v",
         "showlegend": true,
         "textposition": "auto",
         "type": "bar",
         "x": [
          "Acura",
          "Acura",
          "Acura",
          "Acura",
          "Audi",
          "Audi",
          "Audi",
          "BMW",
          "BMW",
          "BMW",
          "Buick",
          "Buick",
          "Buick",
          "Buick",
          "Cadillac",
          "Cadillac",
          "Cadillac",
          "Cadillac",
          "Chevrolet",
          "Chevrolet",
          "Chevrolet",
          "Chevrolet",
          "Chevrolet",
          "Chevrolet",
          "Chevrolet",
          "Chevrolet",
          "Chevrolet",
          "Chrysler",
          "Chrysler",
          "Chrysler",
          "Chrysler",
          "Chrysler",
          "Chrysler",
          "Dodge",
          "Dodge",
          "Dodge",
          "Dodge",
          "Dodge",
          "Ford",
          "Ford",
          "Ford",
          "Ford",
          "Ford",
          "Ford",
          "Honda",
          "Honda",
          "Hyundai",
          "Hyundai",
          "Hyundai",
          "Infiniti",
          "Jaguar",
          "Lexus",
          "Lexus",
          "Lexus",
          "Lexus",
          "Lincoln",
          "Lincoln",
          "Mitsubishi",
          "Mitsubishi",
          "Mitsubishi",
          "Mitsubishi",
          "Mitsubishi",
          "Mercury",
          "Mercury",
          "Mercury",
          "Mercury",
          "Mercedes-B",
          "Mercedes-B",
          "Mercedes-B",
          "Mercedes-B",
          "Mercedes-B",
          "Mercedes-B",
          "Mercedes-B",
          "Mercedes-B",
          "Nissan",
          "Nissan",
          "Nissan",
          "Oldsmobile",
          "Oldsmobile",
          "Oldsmobile",
          "Oldsmobile",
          "Plymouth",
          "Plymouth",
          "Plymouth",
          "Pontiac",
          "Pontiac",
          "Pontiac",
          "Pontiac",
          "Pontiac",
          "Porsche",
          "Porsche",
          "Porsche",
          "Saab",
          "Saab",
          "Saturn",
          "Saturn",
          "Saturn",
          "Saturn",
          "Saturn",
          "Subaru",
          "Toyota",
          "Toyota",
          "Toyota",
          "Toyota",
          "Volkswagen",
          "Volkswagen",
          "Volkswagen",
          "Volkswagen",
          "Volkswagen",
          "Volkswagen",
          "Volvo",
          "Volvo",
          "Volvo",
          "Volvo",
          "Volvo",
          "Volvo"
         ],
         "xaxis": "x",
         "y": [
          16.919,
          39.384,
          14.114,
          8.588,
          20.397,
          18.78,
          1.38,
          19.747,
          9.231,
          17.527,
          91.561,
          39.35,
          27.851,
          83.257,
          63.729,
          15.943,
          6.536,
          11.185,
          145.519,
          135.126,
          24.629,
          42.593,
          26.402,
          17.947,
          32.299,
          21.855,
          107.995,
          7.854,
          32.775,
          31.148,
          32.306,
          13.462,
          30.696,
          76.034,
          4.734,
          71.186,
          88.028,
          0.916,
          70.227,
          113.369,
          35.068,
          245.815,
          175.67,
          63.403,
          199.685,
          230.902,
          41.184,
          66.692,
          29.45,
          23.713,
          15.467,
          24.072,
          12.698,
          3.334,
          6.375,
          13.798,
          48.911,
          26.232,
          42.541,
          55.616,
          5.711,
          0.11,
          14.351,
          26.529,
          67.956,
          81.174,
          18.392,
          27.602,
          16.774,
          3.311,
          7.998,
          1.526,
          11.592,
          0.954,
          42.643,
          88.094,
          79.853,
          1.112,
          38.554,
          80.255,
          14.69,
          32.734,
          5.24,
          1.872,
          51.645,
          131.097,
          19.911,
          92.364,
          35.945,
          8.982,
          1.28,
          1.866,
          9.191,
          12.115,
          80.62,
          24.546,
          5.223,
          8.472,
          49.989,
          47.107,
          142.535,
          247.994,
          63.849,
          33.269,
          9.761,
          83.721,
          51.102,
          9.569,
          5.596,
          49.463,
          16.957,
          3.545,
          15.245,
          17.531,
          3.493,
          18.969
         ],
         "yaxis": "y"
        },
        {
         "alignmentgroup": "True",
         "hovertemplate": "Vehicle_type=Car<br>Manufacturer=%{x}<br>Sales_in_thousands=%{y}<extra></extra>",
         "legendgroup": "Car",
         "marker": {
          "color": "#EF553B",
          "pattern": {
           "shape": ""
          }
         },
         "name": "Car",
         "offsetgroup": "Car",
         "orientation": "v",
         "showlegend": true,
         "textposition": "auto",
         "type": "bar",
         "x": [
          "Cadillac",
          "Chrysler",
          "Dodge",
          "Dodge",
          "Dodge",
          "Dodge",
          "Dodge",
          "Dodge",
          "Ford",
          "Ford",
          "Ford",
          "Ford",
          "Ford",
          "Honda",
          "Honda",
          "Honda",
          "Jeep",
          "Jeep",
          "Jeep",
          "Lexus",
          "Lexus",
          "Lincoln",
          "Mitsubishi",
          "Mitsubishi",
          "Mercury",
          "Mercury",
          "Mercedes-B",
          "Nissan",
          "Nissan",
          "Nissan",
          "Nissan",
          "Oldsmobile",
          "Oldsmobile",
          "Plymouth",
          "Pontiac",
          "Subaru",
          "Toyota",
          "Toyota",
          "Toyota",
          "Toyota",
          "Toyota"
         ],
         "xaxis": "x",
         "y": [
          14.785,
          53.48,
          227.061,
          16.767,
          31.038,
          111.313,
          101.323,
          181.749,
          276.747,
          155.787,
          125.338,
          220.65,
          540.561,
          73.203,
          12.855,
          76.029,
          55.557,
          80.556,
          157.04,
          9.126,
          51.238,
          22.925,
          11.337,
          39.348,
          27.609,
          20.38,
          28.976,
          27.308,
          42.574,
          54.158,
          65.005,
          20.017,
          24.361,
          24.155,
          39.572,
          33.028,
          84.087,
          65.119,
          25.106,
          68.411,
          9.835
         ],
         "yaxis": "y"
        }
       ],
       "layout": {
        "barmode": "group",
        "legend": {
         "title": {
          "text": "Vehicle_type"
         },
         "tracegroupgap": 0
        },
        "template": {
         "data": {
          "bar": [
           {
            "error_x": {
             "color": "#2a3f5f"
            },
            "error_y": {
             "color": "#2a3f5f"
            },
            "marker": {
             "line": {
              "color": "#E5ECF6",
              "width": 0.5
             },
             "pattern": {
              "fillmode": "overlay",
              "size": 10,
              "solidity": 0.2
             }
            },
            "type": "bar"
           }
          ],
          "barpolar": [
           {
            "marker": {
             "line": {
              "color": "#E5ECF6",
              "width": 0.5
             },
             "pattern": {
              "fillmode": "overlay",
              "size": 10,
              "solidity": 0.2
             }
            },
            "type": "barpolar"
           }
          ],
          "carpet": [
           {
            "aaxis": {
             "endlinecolor": "#2a3f5f",
             "gridcolor": "white",
             "linecolor": "white",
             "minorgridcolor": "white",
             "startlinecolor": "#2a3f5f"
            },
            "baxis": {
             "endlinecolor": "#2a3f5f",
             "gridcolor": "white",
             "linecolor": "white",
             "minorgridcolor": "white",
             "startlinecolor": "#2a3f5f"
            },
            "type": "carpet"
           }
          ],
          "choropleth": [
           {
            "colorbar": {
             "outlinewidth": 0,
             "ticks": ""
            },
            "type": "choropleth"
           }
          ],
          "contour": [
           {
            "colorbar": {
             "outlinewidth": 0,
             "ticks": ""
            },
            "colorscale": [
             [
              0,
              "#0d0887"
             ],
             [
              0.1111111111111111,
              "#46039f"
             ],
             [
              0.2222222222222222,
              "#7201a8"
             ],
             [
              0.3333333333333333,
              "#9c179e"
             ],
             [
              0.4444444444444444,
              "#bd3786"
             ],
             [
              0.5555555555555556,
              "#d8576b"
             ],
             [
              0.6666666666666666,
              "#ed7953"
             ],
             [
              0.7777777777777778,
              "#fb9f3a"
             ],
             [
              0.8888888888888888,
              "#fdca26"
             ],
             [
              1,
              "#f0f921"
             ]
            ],
            "type": "contour"
           }
          ],
          "contourcarpet": [
           {
            "colorbar": {
             "outlinewidth": 0,
             "ticks": ""
            },
            "type": "contourcarpet"
           }
          ],
          "heatmap": [
           {
            "colorbar": {
             "outlinewidth": 0,
             "ticks": ""
            },
            "colorscale": [
             [
              0,
              "#0d0887"
             ],
             [
              0.1111111111111111,
              "#46039f"
             ],
             [
              0.2222222222222222,
              "#7201a8"
             ],
             [
              0.3333333333333333,
              "#9c179e"
             ],
             [
              0.4444444444444444,
              "#bd3786"
             ],
             [
              0.5555555555555556,
              "#d8576b"
             ],
             [
              0.6666666666666666,
              "#ed7953"
             ],
             [
              0.7777777777777778,
              "#fb9f3a"
             ],
             [
              0.8888888888888888,
              "#fdca26"
             ],
             [
              1,
              "#f0f921"
             ]
            ],
            "type": "heatmap"
           }
          ],
          "heatmapgl": [
           {
            "colorbar": {
             "outlinewidth": 0,
             "ticks": ""
            },
            "colorscale": [
             [
              0,
              "#0d0887"
             ],
             [
              0.1111111111111111,
              "#46039f"
             ],
             [
              0.2222222222222222,
              "#7201a8"
             ],
             [
              0.3333333333333333,
              "#9c179e"
             ],
             [
              0.4444444444444444,
              "#bd3786"
             ],
             [
              0.5555555555555556,
              "#d8576b"
             ],
             [
              0.6666666666666666,
              "#ed7953"
             ],
             [
              0.7777777777777778,
              "#fb9f3a"
             ],
             [
              0.8888888888888888,
              "#fdca26"
             ],
             [
              1,
              "#f0f921"
             ]
            ],
            "type": "heatmapgl"
           }
          ],
          "histogram": [
           {
            "marker": {
             "pattern": {
              "fillmode": "overlay",
              "size": 10,
              "solidity": 0.2
             }
            },
            "type": "histogram"
           }
          ],
          "histogram2d": [
           {
            "colorbar": {
             "outlinewidth": 0,
             "ticks": ""
            },
            "colorscale": [
             [
              0,
              "#0d0887"
             ],
             [
              0.1111111111111111,
              "#46039f"
             ],
             [
              0.2222222222222222,
              "#7201a8"
             ],
             [
              0.3333333333333333,
              "#9c179e"
             ],
             [
              0.4444444444444444,
              "#bd3786"
             ],
             [
              0.5555555555555556,
              "#d8576b"
             ],
             [
              0.6666666666666666,
              "#ed7953"
             ],
             [
              0.7777777777777778,
              "#fb9f3a"
             ],
             [
              0.8888888888888888,
              "#fdca26"
             ],
             [
              1,
              "#f0f921"
             ]
            ],
            "type": "histogram2d"
           }
          ],
          "histogram2dcontour": [
           {
            "colorbar": {
             "outlinewidth": 0,
             "ticks": ""
            },
            "colorscale": [
             [
              0,
              "#0d0887"
             ],
             [
              0.1111111111111111,
              "#46039f"
             ],
             [
              0.2222222222222222,
              "#7201a8"
             ],
             [
              0.3333333333333333,
              "#9c179e"
             ],
             [
              0.4444444444444444,
              "#bd3786"
             ],
             [
              0.5555555555555556,
              "#d8576b"
             ],
             [
              0.6666666666666666,
              "#ed7953"
             ],
             [
              0.7777777777777778,
              "#fb9f3a"
             ],
             [
              0.8888888888888888,
              "#fdca26"
             ],
             [
              1,
              "#f0f921"
             ]
            ],
            "type": "histogram2dcontour"
           }
          ],
          "mesh3d": [
           {
            "colorbar": {
             "outlinewidth": 0,
             "ticks": ""
            },
            "type": "mesh3d"
           }
          ],
          "parcoords": [
           {
            "line": {
             "colorbar": {
              "outlinewidth": 0,
              "ticks": ""
             }
            },
            "type": "parcoords"
           }
          ],
          "pie": [
           {
            "automargin": true,
            "type": "pie"
           }
          ],
          "scatter": [
           {
            "marker": {
             "colorbar": {
              "outlinewidth": 0,
              "ticks": ""
             }
            },
            "type": "scatter"
           }
          ],
          "scatter3d": [
           {
            "line": {
             "colorbar": {
              "outlinewidth": 0,
              "ticks": ""
             }
            },
            "marker": {
             "colorbar": {
              "outlinewidth": 0,
              "ticks": ""
             }
            },
            "type": "scatter3d"
           }
          ],
          "scattercarpet": [
           {
            "marker": {
             "colorbar": {
              "outlinewidth": 0,
              "ticks": ""
             }
            },
            "type": "scattercarpet"
           }
          ],
          "scattergeo": [
           {
            "marker": {
             "colorbar": {
              "outlinewidth": 0,
              "ticks": ""
             }
            },
            "type": "scattergeo"
           }
          ],
          "scattergl": [
           {
            "marker": {
             "colorbar": {
              "outlinewidth": 0,
              "ticks": ""
             }
            },
            "type": "scattergl"
           }
          ],
          "scattermapbox": [
           {
            "marker": {
             "colorbar": {
              "outlinewidth": 0,
              "ticks": ""
             }
            },
            "type": "scattermapbox"
           }
          ],
          "scatterpolar": [
           {
            "marker": {
             "colorbar": {
              "outlinewidth": 0,
              "ticks": ""
             }
            },
            "type": "scatterpolar"
           }
          ],
          "scatterpolargl": [
           {
            "marker": {
             "colorbar": {
              "outlinewidth": 0,
              "ticks": ""
             }
            },
            "type": "scatterpolargl"
           }
          ],
          "scatterternary": [
           {
            "marker": {
             "colorbar": {
              "outlinewidth": 0,
              "ticks": ""
             }
            },
            "type": "scatterternary"
           }
          ],
          "surface": [
           {
            "colorbar": {
             "outlinewidth": 0,
             "ticks": ""
            },
            "colorscale": [
             [
              0,
              "#0d0887"
             ],
             [
              0.1111111111111111,
              "#46039f"
             ],
             [
              0.2222222222222222,
              "#7201a8"
             ],
             [
              0.3333333333333333,
              "#9c179e"
             ],
             [
              0.4444444444444444,
              "#bd3786"
             ],
             [
              0.5555555555555556,
              "#d8576b"
             ],
             [
              0.6666666666666666,
              "#ed7953"
             ],
             [
              0.7777777777777778,
              "#fb9f3a"
             ],
             [
              0.8888888888888888,
              "#fdca26"
             ],
             [
              1,
              "#f0f921"
             ]
            ],
            "type": "surface"
           }
          ],
          "table": [
           {
            "cells": {
             "fill": {
              "color": "#EBF0F8"
             },
             "line": {
              "color": "white"
             }
            },
            "header": {
             "fill": {
              "color": "#C8D4E3"
             },
             "line": {
              "color": "white"
             }
            },
            "type": "table"
           }
          ]
         },
         "layout": {
          "annotationdefaults": {
           "arrowcolor": "#2a3f5f",
           "arrowhead": 0,
           "arrowwidth": 1
          },
          "autotypenumbers": "strict",
          "coloraxis": {
           "colorbar": {
            "outlinewidth": 0,
            "ticks": ""
           }
          },
          "colorscale": {
           "diverging": [
            [
             0,
             "#8e0152"
            ],
            [
             0.1,
             "#c51b7d"
            ],
            [
             0.2,
             "#de77ae"
            ],
            [
             0.3,
             "#f1b6da"
            ],
            [
             0.4,
             "#fde0ef"
            ],
            [
             0.5,
             "#f7f7f7"
            ],
            [
             0.6,
             "#e6f5d0"
            ],
            [
             0.7,
             "#b8e186"
            ],
            [
             0.8,
             "#7fbc41"
            ],
            [
             0.9,
             "#4d9221"
            ],
            [
             1,
             "#276419"
            ]
           ],
           "sequential": [
            [
             0,
             "#0d0887"
            ],
            [
             0.1111111111111111,
             "#46039f"
            ],
            [
             0.2222222222222222,
             "#7201a8"
            ],
            [
             0.3333333333333333,
             "#9c179e"
            ],
            [
             0.4444444444444444,
             "#bd3786"
            ],
            [
             0.5555555555555556,
             "#d8576b"
            ],
            [
             0.6666666666666666,
             "#ed7953"
            ],
            [
             0.7777777777777778,
             "#fb9f3a"
            ],
            [
             0.8888888888888888,
             "#fdca26"
            ],
            [
             1,
             "#f0f921"
            ]
           ],
           "sequentialminus": [
            [
             0,
             "#0d0887"
            ],
            [
             0.1111111111111111,
             "#46039f"
            ],
            [
             0.2222222222222222,
             "#7201a8"
            ],
            [
             0.3333333333333333,
             "#9c179e"
            ],
            [
             0.4444444444444444,
             "#bd3786"
            ],
            [
             0.5555555555555556,
             "#d8576b"
            ],
            [
             0.6666666666666666,
             "#ed7953"
            ],
            [
             0.7777777777777778,
             "#fb9f3a"
            ],
            [
             0.8888888888888888,
             "#fdca26"
            ],
            [
             1,
             "#f0f921"
            ]
           ]
          },
          "colorway": [
           "#636efa",
           "#EF553B",
           "#00cc96",
           "#ab63fa",
           "#FFA15A",
           "#19d3f3",
           "#FF6692",
           "#B6E880",
           "#FF97FF",
           "#FECB52"
          ],
          "font": {
           "color": "#2a3f5f"
          },
          "geo": {
           "bgcolor": "white",
           "lakecolor": "white",
           "landcolor": "#E5ECF6",
           "showlakes": true,
           "showland": true,
           "subunitcolor": "white"
          },
          "hoverlabel": {
           "align": "left"
          },
          "hovermode": "closest",
          "mapbox": {
           "style": "light"
          },
          "paper_bgcolor": "white",
          "plot_bgcolor": "#E5ECF6",
          "polar": {
           "angularaxis": {
            "gridcolor": "white",
            "linecolor": "white",
            "ticks": ""
           },
           "bgcolor": "#E5ECF6",
           "radialaxis": {
            "gridcolor": "white",
            "linecolor": "white",
            "ticks": ""
           }
          },
          "scene": {
           "xaxis": {
            "backgroundcolor": "#E5ECF6",
            "gridcolor": "white",
            "gridwidth": 2,
            "linecolor": "white",
            "showbackground": true,
            "ticks": "",
            "zerolinecolor": "white"
           },
           "yaxis": {
            "backgroundcolor": "#E5ECF6",
            "gridcolor": "white",
            "gridwidth": 2,
            "linecolor": "white",
            "showbackground": true,
            "ticks": "",
            "zerolinecolor": "white"
           },
           "zaxis": {
            "backgroundcolor": "#E5ECF6",
            "gridcolor": "white",
            "gridwidth": 2,
            "linecolor": "white",
            "showbackground": true,
            "ticks": "",
            "zerolinecolor": "white"
           }
          },
          "shapedefaults": {
           "line": {
            "color": "#2a3f5f"
           }
          },
          "ternary": {
           "aaxis": {
            "gridcolor": "white",
            "linecolor": "white",
            "ticks": ""
           },
           "baxis": {
            "gridcolor": "white",
            "linecolor": "white",
            "ticks": ""
           },
           "bgcolor": "#E5ECF6",
           "caxis": {
            "gridcolor": "white",
            "linecolor": "white",
            "ticks": ""
           }
          },
          "title": {
           "x": 0.05
          },
          "xaxis": {
           "automargin": true,
           "gridcolor": "white",
           "linecolor": "white",
           "ticks": "",
           "title": {
            "standoff": 15
           },
           "zerolinecolor": "white",
           "zerolinewidth": 2
          },
          "yaxis": {
           "automargin": true,
           "gridcolor": "white",
           "linecolor": "white",
           "ticks": "",
           "title": {
            "standoff": 15
           },
           "zerolinecolor": "white",
           "zerolinewidth": 2
          }
         }
        },
        "title": {
         "text": "Bar Chart"
        },
        "xaxis": {
         "anchor": "y",
         "domain": [
          0,
          1
         ],
         "title": {
          "text": "Manufacturer"
         }
        },
        "yaxis": {
         "anchor": "x",
         "domain": [
          0,
          1
         ],
         "title": {
          "text": "Sales_in_thousands"
         }
        }
       }
      }
     },
     "metadata": {},
     "output_type": "display_data"
    }
   ],
   "source": [
    "code = f\"\"\"\n",
    "\n",
    "params = {out['charts'][1]['parameters']}\n",
    "params['data_frame'] = df\n",
    "params['title'] = \"{out['charts'][1]['title']}\"\n",
    "\n",
    "fig = {out['charts'][1]['chartType']}(**params)\n",
    "\n",
    "fig.show()\n",
    "\"\"\"\n",
    "\n",
    "exec(code)"
   ]
  },
  {
   "cell_type": "code",
   "execution_count": 313,
   "metadata": {},
   "outputs": [
    {
     "data": {
      "application/vnd.plotly.v1+json": {
       "config": {
        "plotlyServerURL": "https://plot.ly"
       },
       "data": [
        {
         "hovertemplate": "Manufacturer=Acura<br>Vehicle_type=Passenger<br>Latest_Launch=%{x}<br>Sales_in_thousands=%{y}<extra></extra>",
         "legendgroup": "Acura",
         "line": {
          "color": "#636efa",
          "dash": "solid"
         },
         "marker": {
          "symbol": "circle"
         },
         "mode": "lines",
         "name": "Acura",
         "orientation": "v",
         "showlegend": true,
         "type": "scatter",
         "x": [
          "2/2/2012",
          "6/3/2011",
          "1/4/2012",
          "3/10/2011"
         ],
         "xaxis": "x",
         "y": [
          16.919,
          39.384,
          14.114,
          8.588
         ],
         "yaxis": "y"
        },
        {
         "hovertemplate": "Manufacturer=Audi<br>Vehicle_type=Passenger<br>Latest_Launch=%{x}<br>Sales_in_thousands=%{y}<extra></extra>",
         "legendgroup": "Audi",
         "line": {
          "color": "#EF553B",
          "dash": "solid"
         },
         "marker": {
          "symbol": "circle"
         },
         "mode": "lines",
         "name": "Audi",
         "orientation": "v",
         "showlegend": true,
         "type": "scatter",
         "x": [
          "10/8/2011",
          "8/9/2011",
          "2/27/2012"
         ],
         "xaxis": "x",
         "y": [
          20.397,
          18.78,
          1.38
         ],
         "yaxis": "y"
        },
        {
         "hovertemplate": "Manufacturer=BMW<br>Vehicle_type=Passenger<br>Latest_Launch=%{x}<br>Sales_in_thousands=%{y}<extra></extra>",
         "legendgroup": "BMW",
         "line": {
          "color": "#00cc96",
          "dash": "solid"
         },
         "marker": {
          "symbol": "circle"
         },
         "mode": "lines",
         "name": "BMW",
         "orientation": "v",
         "showlegend": true,
         "type": "scatter",
         "x": [
          "6/28/2011",
          "1/29/2012",
          "4/4/2011"
         ],
         "xaxis": "x",
         "y": [
          19.747,
          9.231,
          17.527
         ],
         "yaxis": "y"
        },
        {
         "hovertemplate": "Manufacturer=Buick<br>Vehicle_type=Passenger<br>Latest_Launch=%{x}<br>Sales_in_thousands=%{y}<extra></extra>",
         "legendgroup": "Buick",
         "line": {
          "color": "#ab63fa",
          "dash": "solid"
         },
         "marker": {
          "symbol": "circle"
         },
         "mode": "lines",
         "name": "Buick",
         "orientation": "v",
         "showlegend": true,
         "type": "scatter",
         "x": [
          "11/2/2011",
          "9/3/2011",
          "3/23/2012",
          "7/23/2011"
         ],
         "xaxis": "x",
         "y": [
          91.561,
          39.35,
          27.851,
          83.257
         ],
         "yaxis": "y"
        },
        {
         "hovertemplate": "Manufacturer=Cadillac<br>Vehicle_type=Passenger<br>Latest_Launch=%{x}<br>Sales_in_thousands=%{y}<extra></extra>",
         "legendgroup": "Cadillac",
         "line": {
          "color": "#FFA15A",
          "dash": "solid"
         },
         "marker": {
          "symbol": "circle"
         },
         "mode": "lines",
         "name": "Cadillac",
         "orientation": "v",
         "showlegend": true,
         "type": "scatter",
         "x": [
          "2/23/2012",
          "4/29/2011",
          "11/27/2011",
          "9/28/2011"
         ],
         "xaxis": "x",
         "y": [
          63.729,
          15.943,
          6.536,
          11.185
         ],
         "yaxis": "y"
        },
        {
         "hovertemplate": "Manufacturer=Cadillac<br>Vehicle_type=Car<br>Latest_Launch=%{x}<br>Sales_in_thousands=%{y}<extra></extra>",
         "legendgroup": "Cadillac",
         "line": {
          "color": "#FFA15A",
          "dash": "solid"
         },
         "marker": {
          "symbol": "circle"
         },
         "mode": "lines",
         "name": "Cadillac",
         "orientation": "v",
         "showlegend": false,
         "type": "scatter",
         "x": [
          "4/17/2012"
         ],
         "xaxis": "x",
         "y": [
          14.785
         ],
         "yaxis": "y"
        },
        {
         "hovertemplate": "Manufacturer=Chevrolet<br>Vehicle_type=Passenger<br>Latest_Launch=%{x}<br>Sales_in_thousands=%{y}<extra></extra>",
         "legendgroup": "Chevrolet",
         "line": {
          "color": "#19d3f3",
          "dash": "solid"
         },
         "marker": {
          "symbol": "circle"
         },
         "mode": "lines",
         "name": "Chevrolet",
         "orientation": "v",
         "showlegend": true,
         "type": "scatter",
         "x": [
          "8/17/2011",
          "3/19/2012",
          "5/24/2011",
          "12/22/2011",
          "10/23/2011",
          "5/12/2012",
          "9/11/2011",
          "4/13/2012",
          "6/18/2011"
         ],
         "xaxis": "x",
         "y": [
          145.519,
          135.126,
          24.629,
          42.593,
          26.402,
          17.947,
          32.299,
          21.855,
          107.995
         ],
         "yaxis": "y"
        },
        {
         "hovertemplate": "Manufacturer=Chrysler<br>Vehicle_type=Passenger<br>Latest_Launch=%{x}<br>Sales_in_thousands=%{y}<extra></extra>",
         "legendgroup": "Chrysler",
         "line": {
          "color": "#FF6692",
          "dash": "solid"
         },
         "marker": {
          "symbol": "circle"
         },
         "mode": "lines",
         "name": "Chrysler",
         "orientation": "v",
         "showlegend": true,
         "type": "scatter",
         "x": [
          "1/16/2012",
          "11/17/2011",
          "6/6/2012",
          "10/6/2011",
          "5/8/2012",
          "2/10/2012"
         ],
         "xaxis": "x",
         "y": [
          7.854,
          32.775,
          31.148,
          32.306,
          13.462,
          30.696
         ],
         "yaxis": "y"
        },
        {
         "hovertemplate": "Manufacturer=Chrysler<br>Vehicle_type=Car<br>Latest_Launch=%{x}<br>Sales_in_thousands=%{y}<extra></extra>",
         "legendgroup": "Chrysler",
         "line": {
          "color": "#FF6692",
          "dash": "solid"
         },
         "marker": {
          "symbol": "circle"
         },
         "mode": "lines",
         "name": "Chrysler",
         "orientation": "v",
         "showlegend": false,
         "type": "scatter",
         "x": [
          "7/13/2011"
         ],
         "xaxis": "x",
         "y": [
          53.48
         ],
         "yaxis": "y"
        },
        {
         "hovertemplate": "Manufacturer=Dodge<br>Vehicle_type=Passenger<br>Latest_Launch=%{x}<br>Sales_in_thousands=%{y}<extra></extra>",
         "legendgroup": "Dodge",
         "line": {
          "color": "#B6E880",
          "dash": "solid"
         },
         "marker": {
          "symbol": "circle"
         },
         "mode": "lines",
         "name": "Dodge",
         "orientation": "v",
         "showlegend": true,
         "type": "scatter",
         "x": [
          "12/12/2011",
          "7/1/2012",
          "10/31/2011",
          "6/2/2012",
          "8/7/2011"
         ],
         "xaxis": "x",
         "y": [
          76.034,
          4.734,
          71.186,
          88.028,
          0.916
         ],
         "yaxis": "y"
        },
        {
         "hovertemplate": "Manufacturer=Dodge<br>Vehicle_type=Car<br>Latest_Launch=%{x}<br>Sales_in_thousands=%{y}<extra></extra>",
         "legendgroup": "Dodge",
         "line": {
          "color": "#B6E880",
          "dash": "solid"
         },
         "marker": {
          "symbol": "circle"
         },
         "mode": "lines",
         "name": "Dodge",
         "orientation": "v",
         "showlegend": false,
         "type": "scatter",
         "x": [
          "3/6/2012",
          "1/6/2012",
          "7/26/2012",
          "11/25/2011",
          "6/27/2012",
          "9/1/2011"
         ],
         "xaxis": "x",
         "y": [
          227.061,
          16.767,
          31.038,
          111.313,
          101.323,
          181.749
         ],
         "yaxis": "y"
        },
        {
         "hovertemplate": "Manufacturer=Ford<br>Vehicle_type=Passenger<br>Latest_Launch=%{x}<br>Sales_in_thousands=%{y}<extra></extra>",
         "legendgroup": "Ford",
         "line": {
          "color": "#FF97FF",
          "dash": "solid"
         },
         "marker": {
          "symbol": "circle"
         },
         "mode": "lines",
         "name": "Ford",
         "orientation": "v",
         "showlegend": true,
         "type": "scatter",
         "x": [
          "3/31/2012",
          "1/31/2012",
          "8/20/2012",
          "12/20/2011",
          "7/22/2012",
          "9/26/2011"
         ],
         "xaxis": "x",
         "y": [
          70.227,
          113.369,
          35.068,
          245.815,
          175.67,
          63.403
         ],
         "yaxis": "y"
        },
        {
         "hovertemplate": "Manufacturer=Ford<br>Vehicle_type=Car<br>Latest_Launch=%{x}<br>Sales_in_thousands=%{y}<extra></extra>",
         "legendgroup": "Ford",
         "line": {
          "color": "#FF97FF",
          "dash": "solid"
         },
         "marker": {
          "symbol": "circle"
         },
         "mode": "lines",
         "name": "Ford",
         "orientation": "v",
         "showlegend": false,
         "type": "scatter",
         "x": [
          "4/25/2012",
          "2/25/2012",
          "9/14/2012",
          "1/14/2012",
          "8/16/2012"
         ],
         "xaxis": "x",
         "y": [
          276.747,
          155.787,
          125.338,
          220.65,
          540.561
         ],
         "yaxis": "y"
        },
        {
         "hovertemplate": "Manufacturer=Honda<br>Vehicle_type=Passenger<br>Latest_Launch=%{x}<br>Sales_in_thousands=%{y}<extra></extra>",
         "legendgroup": "Honda",
         "line": {
          "color": "#FECB52",
          "dash": "solid"
         },
         "marker": {
          "symbol": "circle"
         },
         "mode": "lines",
         "name": "Honda",
         "orientation": "v",
         "showlegend": true,
         "type": "scatter",
         "x": [
          "10/21/2011",
          "5/20/2012"
         ],
         "xaxis": "x",
         "y": [
          199.685,
          230.902
         ],
         "yaxis": "y"
        },
        {
         "hovertemplate": "Manufacturer=Honda<br>Vehicle_type=Car<br>Latest_Launch=%{x}<br>Sales_in_thousands=%{y}<extra></extra>",
         "legendgroup": "Honda",
         "line": {
          "color": "#FECB52",
          "dash": "solid"
         },
         "marker": {
          "symbol": "circle"
         },
         "mode": "lines",
         "name": "Honda",
         "orientation": "v",
         "showlegend": false,
         "type": "scatter",
         "x": [
          "3/21/2012",
          "10/9/2012",
          "2/8/2012"
         ],
         "xaxis": "x",
         "y": [
          73.203,
          12.855,
          76.029
         ],
         "yaxis": "y"
        },
        {
         "hovertemplate": "Manufacturer=Hyundai<br>Vehicle_type=Passenger<br>Latest_Launch=%{x}<br>Sales_in_thousands=%{y}<extra></extra>",
         "legendgroup": "Hyundai",
         "line": {
          "color": "#636efa",
          "dash": "solid"
         },
         "marker": {
          "symbol": "circle"
         },
         "mode": "lines",
         "name": "Hyundai",
         "orientation": "v",
         "showlegend": true,
         "type": "scatter",
         "x": [
          "9/10/2012",
          "11/15/2011",
          "6/14/2012"
         ],
         "xaxis": "x",
         "y": [
          41.184,
          66.692,
          29.45
         ],
         "yaxis": "y"
        },
        {
         "hovertemplate": "Manufacturer=Infiniti<br>Vehicle_type=Passenger<br>Latest_Launch=%{x}<br>Sales_in_thousands=%{y}<extra></extra>",
         "legendgroup": "Infiniti",
         "line": {
          "color": "#EF553B",
          "dash": "solid"
         },
         "marker": {
          "symbol": "circle"
         },
         "mode": "lines",
         "name": "Infiniti",
         "orientation": "v",
         "showlegend": true,
         "type": "scatter",
         "x": [
          "4/15/2012"
         ],
         "xaxis": "x",
         "y": [
          23.713
         ],
         "yaxis": "y"
        },
        {
         "hovertemplate": "Manufacturer=Jaguar<br>Vehicle_type=Passenger<br>Latest_Launch=%{x}<br>Sales_in_thousands=%{y}<extra></extra>",
         "legendgroup": "Jaguar",
         "line": {
          "color": "#00cc96",
          "dash": "solid"
         },
         "marker": {
          "symbol": "circle"
         },
         "mode": "lines",
         "name": "Jaguar",
         "orientation": "v",
         "showlegend": true,
         "type": "scatter",
         "x": [
          "11/3/2012"
         ],
         "xaxis": "x",
         "y": [
          15.467
         ],
         "yaxis": "y"
        },
        {
         "hovertemplate": "Manufacturer=Jeep<br>Vehicle_type=Car<br>Latest_Launch=%{x}<br>Sales_in_thousands=%{y}<extra></extra>",
         "legendgroup": "Jeep",
         "line": {
          "color": "#ab63fa",
          "dash": "solid"
         },
         "marker": {
          "symbol": "circle"
         },
         "mode": "lines",
         "name": "Jeep",
         "orientation": "v",
         "showlegend": true,
         "type": "scatter",
         "x": [
          "3/4/2012",
          "10/5/2012",
          "12/10/2011"
         ],
         "xaxis": "x",
         "y": [
          55.557,
          80.556,
          157.04
         ],
         "yaxis": "y"
        },
        {
         "hovertemplate": "Manufacturer=Lexus<br>Vehicle_type=Passenger<br>Latest_Launch=%{x}<br>Sales_in_thousands=%{y}<extra></extra>",
         "legendgroup": "Lexus",
         "line": {
          "color": "#FFA15A",
          "dash": "solid"
         },
         "marker": {
          "symbol": "circle"
         },
         "mode": "lines",
         "name": "Lexus",
         "orientation": "v",
         "showlegend": true,
         "type": "scatter",
         "x": [
          "7/9/2012",
          "5/10/2012",
          "11/28/2012",
          "3/29/2012"
         ],
         "xaxis": "x",
         "y": [
          24.072,
          12.698,
          3.334,
          6.375
         ],
         "yaxis": "y"
        },
        {
         "hovertemplate": "Manufacturer=Lexus<br>Vehicle_type=Car<br>Latest_Launch=%{x}<br>Sales_in_thousands=%{y}<extra></extra>",
         "legendgroup": "Lexus",
         "line": {
          "color": "#FFA15A",
          "dash": "solid"
         },
         "marker": {
          "symbol": "circle"
         },
         "mode": "lines",
         "name": "Lexus",
         "orientation": "v",
         "showlegend": false,
         "type": "scatter",
         "x": [
          "10/30/2012",
          "1/4/2012"
         ],
         "xaxis": "x",
         "y": [
          9.126,
          51.238
         ],
         "yaxis": "y"
        },
        {
         "hovertemplate": "Manufacturer=Lincoln<br>Vehicle_type=Passenger<br>Latest_Launch=%{x}<br>Sales_in_thousands=%{y}<extra></extra>",
         "legendgroup": "Lincoln",
         "line": {
          "color": "#19d3f3",
          "dash": "solid"
         },
         "marker": {
          "symbol": "circle"
         },
         "mode": "lines",
         "name": "Lincoln",
         "orientation": "v",
         "showlegend": true,
         "type": "scatter",
         "x": [
          "8/3/2012",
          "6/4/2012"
         ],
         "xaxis": "x",
         "y": [
          13.798,
          48.911
         ],
         "yaxis": "y"
        },
        {
         "hovertemplate": "Manufacturer=Lincoln<br>Vehicle_type=Car<br>Latest_Launch=%{x}<br>Sales_in_thousands=%{y}<extra></extra>",
         "legendgroup": "Lincoln",
         "line": {
          "color": "#19d3f3",
          "dash": "solid"
         },
         "marker": {
          "symbol": "circle"
         },
         "mode": "lines",
         "name": "Lincoln",
         "orientation": "v",
         "showlegend": false,
         "type": "scatter",
         "x": [
          "12/23/2012"
         ],
         "xaxis": "x",
         "y": [
          22.925
         ],
         "yaxis": "y"
        },
        {
         "hovertemplate": "Manufacturer=Mitsubishi<br>Vehicle_type=Passenger<br>Latest_Launch=%{x}<br>Sales_in_thousands=%{y}<extra></extra>",
         "legendgroup": "Mitsubishi",
         "line": {
          "color": "#FF6692",
          "dash": "solid"
         },
         "marker": {
          "symbol": "circle"
         },
         "mode": "lines",
         "name": "Mitsubishi",
         "orientation": "v",
         "showlegend": true,
         "type": "scatter",
         "x": [
          "4/23/2012",
          "11/24/2012",
          "1/29/2012",
          "8/28/2012",
          "6/29/2012"
         ],
         "xaxis": "x",
         "y": [
          26.232,
          42.541,
          55.616,
          5.711,
          0.11
         ],
         "yaxis": "y"
        },
        {
         "hovertemplate": "Manufacturer=Mitsubishi<br>Vehicle_type=Car<br>Latest_Launch=%{x}<br>Sales_in_thousands=%{y}<extra></extra>",
         "legendgroup": "Mitsubishi",
         "line": {
          "color": "#FF6692",
          "dash": "solid"
         },
         "marker": {
          "symbol": "circle"
         },
         "mode": "lines",
         "name": "Mitsubishi",
         "orientation": "v",
         "showlegend": false,
         "type": "scatter",
         "x": [
          "1/17/2012",
          "5/18/2012"
         ],
         "xaxis": "x",
         "y": [
          11.337,
          39.348
         ],
         "yaxis": "y"
        },
        {
         "hovertemplate": "Manufacturer=Mercury<br>Vehicle_type=Passenger<br>Latest_Launch=%{x}<br>Sales_in_thousands=%{y}<extra></extra>",
         "legendgroup": "Mercury",
         "line": {
          "color": "#B6E880",
          "dash": "solid"
         },
         "marker": {
          "symbol": "circle"
         },
         "mode": "lines",
         "name": "Mercury",
         "orientation": "v",
         "showlegend": true,
         "type": "scatter",
         "x": [
          "12/19/2012",
          "2/23/2012",
          "9/22/2012",
          "7/24/2012"
         ],
         "xaxis": "x",
         "y": [
          14.351,
          26.529,
          67.956,
          81.174
         ],
         "yaxis": "y"
        },
        {
         "hovertemplate": "Manufacturer=Mercury<br>Vehicle_type=Car<br>Latest_Launch=%{x}<br>Sales_in_thousands=%{y}<extra></extra>",
         "legendgroup": "Mercury",
         "line": {
          "color": "#B6E880",
          "dash": "solid"
         },
         "marker": {
          "symbol": "circle"
         },
         "mode": "lines",
         "name": "Mercury",
         "orientation": "v",
         "showlegend": false,
         "type": "scatter",
         "x": [
          "2/13/2008",
          "10/20/2009"
         ],
         "xaxis": "x",
         "y": [
          27.609,
          20.38
         ],
         "yaxis": "y"
        },
        {
         "hovertemplate": "Manufacturer=Mercedes-B<br>Vehicle_type=Passenger<br>Latest_Launch=%{x}<br>Sales_in_thousands=%{y}<extra></extra>",
         "legendgroup": "Mercedes-B",
         "line": {
          "color": "#FF97FF",
          "dash": "solid"
         },
         "marker": {
          "symbol": "circle"
         },
         "mode": "lines",
         "name": "Mercedes-B",
         "orientation": "v",
         "showlegend": true,
         "type": "scatter",
         "x": [
          "4/24/2011",
          "7/12/2011",
          "6/13/2011",
          "3/17/2011",
          "1/16/2011",
          "8/6/2011",
          "7/8/2011",
          "4/11/2011"
         ],
         "xaxis": "x",
         "y": [
          18.392,
          27.602,
          16.774,
          3.311,
          7.998,
          1.526,
          11.592,
          0.954
         ],
         "yaxis": "y"
        },
        {
         "hovertemplate": "Manufacturer=Mercedes-B<br>Vehicle_type=Car<br>Latest_Launch=%{x}<br>Sales_in_thousands=%{y}<extra></extra>",
         "legendgroup": "Mercedes-B",
         "line": {
          "color": "#FF97FF",
          "dash": "solid"
         },
         "marker": {
          "symbol": "circle"
         },
         "mode": "lines",
         "name": "Mercedes-B",
         "orientation": "v",
         "showlegend": false,
         "type": "scatter",
         "x": [
          "2/10/2011"
         ],
         "xaxis": "x",
         "y": [
          28.976
         ],
         "yaxis": "y"
        },
        {
         "hovertemplate": "Manufacturer=Nissan<br>Vehicle_type=Passenger<br>Latest_Launch=%{x}<br>Sales_in_thousands=%{y}<extra></extra>",
         "legendgroup": "Nissan",
         "line": {
          "color": "#FECB52",
          "dash": "solid"
         },
         "marker": {
          "symbol": "circle"
         },
         "mode": "lines",
         "name": "Nissan",
         "orientation": "v",
         "showlegend": true,
         "type": "scatter",
         "x": [
          "8/31/2011",
          "8/2/2011",
          "5/6/2011"
         ],
         "xaxis": "x",
         "y": [
          42.643,
          88.094,
          79.853
         ],
         "yaxis": "y"
        },
        {
         "hovertemplate": "Manufacturer=Nissan<br>Vehicle_type=Car<br>Latest_Launch=%{x}<br>Sales_in_thousands=%{y}<extra></extra>",
         "legendgroup": "Nissan",
         "line": {
          "color": "#FECB52",
          "dash": "solid"
         },
         "marker": {
          "symbol": "circle"
         },
         "mode": "lines",
         "name": "Nissan",
         "orientation": "v",
         "showlegend": false,
         "type": "scatter",
         "x": [
          "3/7/2011",
          "9/25/2011",
          "1/24/2011",
          "8/27/2011"
         ],
         "xaxis": "x",
         "y": [
          27.308,
          42.574,
          54.158,
          65.005
         ],
         "yaxis": "y"
        },
        {
         "hovertemplate": "Manufacturer=Oldsmobile<br>Vehicle_type=Passenger<br>Latest_Launch=%{x}<br>Sales_in_thousands=%{y}<extra></extra>",
         "legendgroup": "Oldsmobile",
         "line": {
          "color": "#636efa",
          "dash": "solid"
         },
         "marker": {
          "symbol": "circle"
         },
         "mode": "lines",
         "name": "Oldsmobile",
         "orientation": "v",
         "showlegend": true,
         "type": "scatter",
         "x": [
          "5/31/2011",
          "4/1/2011",
          "10/20/2009",
          "2/18/2011"
         ],
         "xaxis": "x",
         "y": [
          1.112,
          38.554,
          80.255,
          14.69
         ],
         "yaxis": "y"
        },
        {
         "hovertemplate": "Manufacturer=Oldsmobile<br>Vehicle_type=Car<br>Latest_Launch=%{x}<br>Sales_in_thousands=%{y}<extra></extra>",
         "legendgroup": "Oldsmobile",
         "line": {
          "color": "#636efa",
          "dash": "solid"
         },
         "marker": {
          "symbol": "circle"
         },
         "mode": "lines",
         "name": "Oldsmobile",
         "orientation": "v",
         "showlegend": false,
         "type": "scatter",
         "x": [
          "9/21/2011",
          "6/25/2011"
         ],
         "xaxis": "x",
         "y": [
          20.017,
          24.361
         ],
         "yaxis": "y"
        },
        {
         "hovertemplate": "Manufacturer=Plymouth<br>Vehicle_type=Passenger<br>Latest_Launch=%{x}<br>Sales_in_thousands=%{y}<extra></extra>",
         "legendgroup": "Plymouth",
         "line": {
          "color": "#EF553B",
          "dash": "solid"
         },
         "marker": {
          "symbol": "circle"
         },
         "mode": "lines",
         "name": "Plymouth",
         "orientation": "v",
         "showlegend": true,
         "type": "scatter",
         "x": [
          "4/26/2011",
          "11/14/2011",
          "6/27/2012"
         ],
         "xaxis": "x",
         "y": [
          32.734,
          5.24,
          1.872
         ],
         "yaxis": "y"
        },
        {
         "hovertemplate": "Manufacturer=Plymouth<br>Vehicle_type=Car<br>Latest_Launch=%{x}<br>Sales_in_thousands=%{y}<extra></extra>",
         "legendgroup": "Plymouth",
         "line": {
          "color": "#EF553B",
          "dash": "solid"
         },
         "marker": {
          "symbol": "circle"
         },
         "mode": "lines",
         "name": "Plymouth",
         "orientation": "v",
         "showlegend": false,
         "type": "scatter",
         "x": [
          "4/24/2011"
         ],
         "xaxis": "x",
         "y": [
          24.155
         ],
         "yaxis": "y"
        },
        {
         "hovertemplate": "Manufacturer=Pontiac<br>Vehicle_type=Passenger<br>Latest_Launch=%{x}<br>Sales_in_thousands=%{y}<extra></extra>",
         "legendgroup": "Pontiac",
         "line": {
          "color": "#00cc96",
          "dash": "solid"
         },
         "marker": {
          "symbol": "circle"
         },
         "mode": "lines",
         "name": "Pontiac",
         "orientation": "v",
         "showlegend": true,
         "type": "scatter",
         "x": [
          "1/25/2012",
          "11/26/2012",
          "6/16/2012",
          "10/15/2012",
          "5/18/2011"
         ],
         "xaxis": "x",
         "y": [
          51.645,
          131.097,
          19.911,
          92.364,
          35.945
         ],
         "yaxis": "y"
        },
        {
         "hovertemplate": "Manufacturer=Pontiac<br>Vehicle_type=Car<br>Latest_Launch=%{x}<br>Sales_in_thousands=%{y}<extra></extra>",
         "legendgroup": "Pontiac",
         "line": {
          "color": "#00cc96",
          "dash": "solid"
         },
         "marker": {
          "symbol": "circle"
         },
         "mode": "lines",
         "name": "Pontiac",
         "orientation": "v",
         "showlegend": false,
         "type": "scatter",
         "x": [
          "7/22/2012"
         ],
         "xaxis": "x",
         "y": [
          39.572
         ],
         "yaxis": "y"
        },
        {
         "hovertemplate": "Manufacturer=Porsche<br>Vehicle_type=Passenger<br>Latest_Launch=%{x}<br>Sales_in_thousands=%{y}<extra></extra>",
         "legendgroup": "Porsche",
         "line": {
          "color": "#ab63fa",
          "dash": "solid"
         },
         "marker": {
          "symbol": "circle"
         },
         "mode": "lines",
         "name": "Porsche",
         "orientation": "v",
         "showlegend": true,
         "type": "scatter",
         "x": [
          "2/19/2012",
          "12/21/2012",
          "7/11/2011"
         ],
         "xaxis": "x",
         "y": [
          8.982,
          1.28,
          1.866
         ],
         "yaxis": "y"
        },
        {
         "hovertemplate": "Manufacturer=Saab<br>Vehicle_type=Passenger<br>Latest_Launch=%{x}<br>Sales_in_thousands=%{y}<extra></extra>",
         "legendgroup": "Saab",
         "line": {
          "color": "#FFA15A",
          "dash": "solid"
         },
         "marker": {
          "symbol": "circle"
         },
         "mode": "lines",
         "name": "Saab",
         "orientation": "v",
         "showlegend": true,
         "type": "scatter",
         "x": [
          "11/9/2012",
          "6/12/2011"
         ],
         "xaxis": "x",
         "y": [
          9.191,
          12.115
         ],
         "yaxis": "y"
        },
        {
         "hovertemplate": "Manufacturer=Saturn<br>Vehicle_type=Passenger<br>Latest_Launch=%{x}<br>Sales_in_thousands=%{y}<extra></extra>",
         "legendgroup": "Saturn",
         "line": {
          "color": "#19d3f3",
          "dash": "solid"
         },
         "marker": {
          "symbol": "circle"
         },
         "mode": "lines",
         "name": "Saturn",
         "orientation": "v",
         "showlegend": true,
         "type": "scatter",
         "x": [
          "8/16/2012",
          "3/16/2011",
          "1/15/2011",
          "8/5/2011",
          "12/4/2012"
         ],
         "xaxis": "x",
         "y": [
          80.62,
          24.546,
          5.223,
          8.472,
          49.989
         ],
         "yaxis": "y"
        },
        {
         "hovertemplate": "Manufacturer=Subaru<br>Vehicle_type=Passenger<br>Latest_Launch=%{x}<br>Sales_in_thousands=%{y}<extra></extra>",
         "legendgroup": "Subaru",
         "line": {
          "color": "#FF6692",
          "dash": "solid"
         },
         "marker": {
          "symbol": "circle"
         },
         "mode": "lines",
         "name": "Subaru",
         "orientation": "v",
         "showlegend": true,
         "type": "scatter",
         "x": [
          "7/7/2011"
         ],
         "xaxis": "x",
         "y": [
          47.107
         ],
         "yaxis": "y"
        },
        {
         "hovertemplate": "Manufacturer=Subaru<br>Vehicle_type=Car<br>Latest_Launch=%{x}<br>Sales_in_thousands=%{y}<extra></extra>",
         "legendgroup": "Subaru",
         "line": {
          "color": "#FF6692",
          "dash": "solid"
         },
         "marker": {
          "symbol": "circle"
         },
         "mode": "lines",
         "name": "Subaru",
         "orientation": "v",
         "showlegend": false,
         "type": "scatter",
         "x": [
          "9/10/2012"
         ],
         "xaxis": "x",
         "y": [
          33.028
         ],
         "yaxis": "y"
        },
        {
         "hovertemplate": "Manufacturer=Toyota<br>Vehicle_type=Passenger<br>Latest_Launch=%{x}<br>Sales_in_thousands=%{y}<extra></extra>",
         "legendgroup": "Toyota",
         "line": {
          "color": "#B6E880",
          "dash": "solid"
         },
         "marker": {
          "symbol": "circle"
         },
         "mode": "lines",
         "name": "Toyota",
         "orientation": "v",
         "showlegend": true,
         "type": "scatter",
         "x": [
          "4/11/2011",
          "2/10/2011",
          "8/31/2011",
          "12/29/2012"
         ],
         "xaxis": "x",
         "y": [
          142.535,
          247.994,
          63.849,
          33.269
         ],
         "yaxis": "y"
        },
        {
         "hovertemplate": "Manufacturer=Toyota<br>Vehicle_type=Car<br>Latest_Launch=%{x}<br>Sales_in_thousands=%{y}<extra></extra>",
         "legendgroup": "Toyota",
         "line": {
          "color": "#B6E880",
          "dash": "solid"
         },
         "marker": {
          "symbol": "circle"
         },
         "mode": "lines",
         "name": "Toyota",
         "orientation": "v",
         "showlegend": false,
         "type": "scatter",
         "x": [
          "8/1/2011",
          "10/5/2012",
          "5/6/2011",
          "3/7/2011",
          "9/25/2011"
         ],
         "xaxis": "x",
         "y": [
          84.087,
          65.119,
          25.106,
          68.411,
          9.835
         ],
         "yaxis": "y"
        },
        {
         "hovertemplate": "Manufacturer=Volkswagen<br>Vehicle_type=Passenger<br>Latest_Launch=%{x}<br>Sales_in_thousands=%{y}<extra></extra>",
         "legendgroup": "Volkswagen",
         "line": {
          "color": "#FF97FF",
          "dash": "solid"
         },
         "marker": {
          "symbol": "circle"
         },
         "mode": "lines",
         "name": "Volkswagen",
         "orientation": "v",
         "showlegend": true,
         "type": "scatter",
         "x": [
          "1/24/2011",
          "8/27/2011",
          "10/30/2012",
          "5/31/2011",
          "4/1/2011",
          "10/20/2011"
         ],
         "xaxis": "x",
         "y": [
          9.761,
          83.721,
          51.102,
          9.569,
          5.596,
          49.463
         ],
         "yaxis": "y"
        },
        {
         "hovertemplate": "Manufacturer=Volvo<br>Vehicle_type=Passenger<br>Latest_Launch=%{x}<br>Sales_in_thousands=%{y}<extra></extra>",
         "legendgroup": "Volvo",
         "line": {
          "color": "#FECB52",
          "dash": "solid"
         },
         "marker": {
          "symbol": "circle"
         },
         "mode": "lines",
         "name": "Volvo",
         "orientation": "v",
         "showlegend": true,
         "type": "scatter",
         "x": [
          "2/18/2011",
          "9/21/2011",
          "11/24/2012",
          "6/25/2011",
          "4/26/2011",
          "11/14/2011"
         ],
         "xaxis": "x",
         "y": [
          16.957,
          3.545,
          15.245,
          17.531,
          3.493,
          18.969
         ],
         "yaxis": "y"
        }
       ],
       "layout": {
        "legend": {
         "title": {
          "text": "Manufacturer"
         },
         "tracegroupgap": 0
        },
        "template": {
         "data": {
          "bar": [
           {
            "error_x": {
             "color": "#2a3f5f"
            },
            "error_y": {
             "color": "#2a3f5f"
            },
            "marker": {
             "line": {
              "color": "#E5ECF6",
              "width": 0.5
             },
             "pattern": {
              "fillmode": "overlay",
              "size": 10,
              "solidity": 0.2
             }
            },
            "type": "bar"
           }
          ],
          "barpolar": [
           {
            "marker": {
             "line": {
              "color": "#E5ECF6",
              "width": 0.5
             },
             "pattern": {
              "fillmode": "overlay",
              "size": 10,
              "solidity": 0.2
             }
            },
            "type": "barpolar"
           }
          ],
          "carpet": [
           {
            "aaxis": {
             "endlinecolor": "#2a3f5f",
             "gridcolor": "white",
             "linecolor": "white",
             "minorgridcolor": "white",
             "startlinecolor": "#2a3f5f"
            },
            "baxis": {
             "endlinecolor": "#2a3f5f",
             "gridcolor": "white",
             "linecolor": "white",
             "minorgridcolor": "white",
             "startlinecolor": "#2a3f5f"
            },
            "type": "carpet"
           }
          ],
          "choropleth": [
           {
            "colorbar": {
             "outlinewidth": 0,
             "ticks": ""
            },
            "type": "choropleth"
           }
          ],
          "contour": [
           {
            "colorbar": {
             "outlinewidth": 0,
             "ticks": ""
            },
            "colorscale": [
             [
              0,
              "#0d0887"
             ],
             [
              0.1111111111111111,
              "#46039f"
             ],
             [
              0.2222222222222222,
              "#7201a8"
             ],
             [
              0.3333333333333333,
              "#9c179e"
             ],
             [
              0.4444444444444444,
              "#bd3786"
             ],
             [
              0.5555555555555556,
              "#d8576b"
             ],
             [
              0.6666666666666666,
              "#ed7953"
             ],
             [
              0.7777777777777778,
              "#fb9f3a"
             ],
             [
              0.8888888888888888,
              "#fdca26"
             ],
             [
              1,
              "#f0f921"
             ]
            ],
            "type": "contour"
           }
          ],
          "contourcarpet": [
           {
            "colorbar": {
             "outlinewidth": 0,
             "ticks": ""
            },
            "type": "contourcarpet"
           }
          ],
          "heatmap": [
           {
            "colorbar": {
             "outlinewidth": 0,
             "ticks": ""
            },
            "colorscale": [
             [
              0,
              "#0d0887"
             ],
             [
              0.1111111111111111,
              "#46039f"
             ],
             [
              0.2222222222222222,
              "#7201a8"
             ],
             [
              0.3333333333333333,
              "#9c179e"
             ],
             [
              0.4444444444444444,
              "#bd3786"
             ],
             [
              0.5555555555555556,
              "#d8576b"
             ],
             [
              0.6666666666666666,
              "#ed7953"
             ],
             [
              0.7777777777777778,
              "#fb9f3a"
             ],
             [
              0.8888888888888888,
              "#fdca26"
             ],
             [
              1,
              "#f0f921"
             ]
            ],
            "type": "heatmap"
           }
          ],
          "heatmapgl": [
           {
            "colorbar": {
             "outlinewidth": 0,
             "ticks": ""
            },
            "colorscale": [
             [
              0,
              "#0d0887"
             ],
             [
              0.1111111111111111,
              "#46039f"
             ],
             [
              0.2222222222222222,
              "#7201a8"
             ],
             [
              0.3333333333333333,
              "#9c179e"
             ],
             [
              0.4444444444444444,
              "#bd3786"
             ],
             [
              0.5555555555555556,
              "#d8576b"
             ],
             [
              0.6666666666666666,
              "#ed7953"
             ],
             [
              0.7777777777777778,
              "#fb9f3a"
             ],
             [
              0.8888888888888888,
              "#fdca26"
             ],
             [
              1,
              "#f0f921"
             ]
            ],
            "type": "heatmapgl"
           }
          ],
          "histogram": [
           {
            "marker": {
             "pattern": {
              "fillmode": "overlay",
              "size": 10,
              "solidity": 0.2
             }
            },
            "type": "histogram"
           }
          ],
          "histogram2d": [
           {
            "colorbar": {
             "outlinewidth": 0,
             "ticks": ""
            },
            "colorscale": [
             [
              0,
              "#0d0887"
             ],
             [
              0.1111111111111111,
              "#46039f"
             ],
             [
              0.2222222222222222,
              "#7201a8"
             ],
             [
              0.3333333333333333,
              "#9c179e"
             ],
             [
              0.4444444444444444,
              "#bd3786"
             ],
             [
              0.5555555555555556,
              "#d8576b"
             ],
             [
              0.6666666666666666,
              "#ed7953"
             ],
             [
              0.7777777777777778,
              "#fb9f3a"
             ],
             [
              0.8888888888888888,
              "#fdca26"
             ],
             [
              1,
              "#f0f921"
             ]
            ],
            "type": "histogram2d"
           }
          ],
          "histogram2dcontour": [
           {
            "colorbar": {
             "outlinewidth": 0,
             "ticks": ""
            },
            "colorscale": [
             [
              0,
              "#0d0887"
             ],
             [
              0.1111111111111111,
              "#46039f"
             ],
             [
              0.2222222222222222,
              "#7201a8"
             ],
             [
              0.3333333333333333,
              "#9c179e"
             ],
             [
              0.4444444444444444,
              "#bd3786"
             ],
             [
              0.5555555555555556,
              "#d8576b"
             ],
             [
              0.6666666666666666,
              "#ed7953"
             ],
             [
              0.7777777777777778,
              "#fb9f3a"
             ],
             [
              0.8888888888888888,
              "#fdca26"
             ],
             [
              1,
              "#f0f921"
             ]
            ],
            "type": "histogram2dcontour"
           }
          ],
          "mesh3d": [
           {
            "colorbar": {
             "outlinewidth": 0,
             "ticks": ""
            },
            "type": "mesh3d"
           }
          ],
          "parcoords": [
           {
            "line": {
             "colorbar": {
              "outlinewidth": 0,
              "ticks": ""
             }
            },
            "type": "parcoords"
           }
          ],
          "pie": [
           {
            "automargin": true,
            "type": "pie"
           }
          ],
          "scatter": [
           {
            "marker": {
             "colorbar": {
              "outlinewidth": 0,
              "ticks": ""
             }
            },
            "type": "scatter"
           }
          ],
          "scatter3d": [
           {
            "line": {
             "colorbar": {
              "outlinewidth": 0,
              "ticks": ""
             }
            },
            "marker": {
             "colorbar": {
              "outlinewidth": 0,
              "ticks": ""
             }
            },
            "type": "scatter3d"
           }
          ],
          "scattercarpet": [
           {
            "marker": {
             "colorbar": {
              "outlinewidth": 0,
              "ticks": ""
             }
            },
            "type": "scattercarpet"
           }
          ],
          "scattergeo": [
           {
            "marker": {
             "colorbar": {
              "outlinewidth": 0,
              "ticks": ""
             }
            },
            "type": "scattergeo"
           }
          ],
          "scattergl": [
           {
            "marker": {
             "colorbar": {
              "outlinewidth": 0,
              "ticks": ""
             }
            },
            "type": "scattergl"
           }
          ],
          "scattermapbox": [
           {
            "marker": {
             "colorbar": {
              "outlinewidth": 0,
              "ticks": ""
             }
            },
            "type": "scattermapbox"
           }
          ],
          "scatterpolar": [
           {
            "marker": {
             "colorbar": {
              "outlinewidth": 0,
              "ticks": ""
             }
            },
            "type": "scatterpolar"
           }
          ],
          "scatterpolargl": [
           {
            "marker": {
             "colorbar": {
              "outlinewidth": 0,
              "ticks": ""
             }
            },
            "type": "scatterpolargl"
           }
          ],
          "scatterternary": [
           {
            "marker": {
             "colorbar": {
              "outlinewidth": 0,
              "ticks": ""
             }
            },
            "type": "scatterternary"
           }
          ],
          "surface": [
           {
            "colorbar": {
             "outlinewidth": 0,
             "ticks": ""
            },
            "colorscale": [
             [
              0,
              "#0d0887"
             ],
             [
              0.1111111111111111,
              "#46039f"
             ],
             [
              0.2222222222222222,
              "#7201a8"
             ],
             [
              0.3333333333333333,
              "#9c179e"
             ],
             [
              0.4444444444444444,
              "#bd3786"
             ],
             [
              0.5555555555555556,
              "#d8576b"
             ],
             [
              0.6666666666666666,
              "#ed7953"
             ],
             [
              0.7777777777777778,
              "#fb9f3a"
             ],
             [
              0.8888888888888888,
              "#fdca26"
             ],
             [
              1,
              "#f0f921"
             ]
            ],
            "type": "surface"
           }
          ],
          "table": [
           {
            "cells": {
             "fill": {
              "color": "#EBF0F8"
             },
             "line": {
              "color": "white"
             }
            },
            "header": {
             "fill": {
              "color": "#C8D4E3"
             },
             "line": {
              "color": "white"
             }
            },
            "type": "table"
           }
          ]
         },
         "layout": {
          "annotationdefaults": {
           "arrowcolor": "#2a3f5f",
           "arrowhead": 0,
           "arrowwidth": 1
          },
          "autotypenumbers": "strict",
          "coloraxis": {
           "colorbar": {
            "outlinewidth": 0,
            "ticks": ""
           }
          },
          "colorscale": {
           "diverging": [
            [
             0,
             "#8e0152"
            ],
            [
             0.1,
             "#c51b7d"
            ],
            [
             0.2,
             "#de77ae"
            ],
            [
             0.3,
             "#f1b6da"
            ],
            [
             0.4,
             "#fde0ef"
            ],
            [
             0.5,
             "#f7f7f7"
            ],
            [
             0.6,
             "#e6f5d0"
            ],
            [
             0.7,
             "#b8e186"
            ],
            [
             0.8,
             "#7fbc41"
            ],
            [
             0.9,
             "#4d9221"
            ],
            [
             1,
             "#276419"
            ]
           ],
           "sequential": [
            [
             0,
             "#0d0887"
            ],
            [
             0.1111111111111111,
             "#46039f"
            ],
            [
             0.2222222222222222,
             "#7201a8"
            ],
            [
             0.3333333333333333,
             "#9c179e"
            ],
            [
             0.4444444444444444,
             "#bd3786"
            ],
            [
             0.5555555555555556,
             "#d8576b"
            ],
            [
             0.6666666666666666,
             "#ed7953"
            ],
            [
             0.7777777777777778,
             "#fb9f3a"
            ],
            [
             0.8888888888888888,
             "#fdca26"
            ],
            [
             1,
             "#f0f921"
            ]
           ],
           "sequentialminus": [
            [
             0,
             "#0d0887"
            ],
            [
             0.1111111111111111,
             "#46039f"
            ],
            [
             0.2222222222222222,
             "#7201a8"
            ],
            [
             0.3333333333333333,
             "#9c179e"
            ],
            [
             0.4444444444444444,
             "#bd3786"
            ],
            [
             0.5555555555555556,
             "#d8576b"
            ],
            [
             0.6666666666666666,
             "#ed7953"
            ],
            [
             0.7777777777777778,
             "#fb9f3a"
            ],
            [
             0.8888888888888888,
             "#fdca26"
            ],
            [
             1,
             "#f0f921"
            ]
           ]
          },
          "colorway": [
           "#636efa",
           "#EF553B",
           "#00cc96",
           "#ab63fa",
           "#FFA15A",
           "#19d3f3",
           "#FF6692",
           "#B6E880",
           "#FF97FF",
           "#FECB52"
          ],
          "font": {
           "color": "#2a3f5f"
          },
          "geo": {
           "bgcolor": "white",
           "lakecolor": "white",
           "landcolor": "#E5ECF6",
           "showlakes": true,
           "showland": true,
           "subunitcolor": "white"
          },
          "hoverlabel": {
           "align": "left"
          },
          "hovermode": "closest",
          "mapbox": {
           "style": "light"
          },
          "paper_bgcolor": "white",
          "plot_bgcolor": "#E5ECF6",
          "polar": {
           "angularaxis": {
            "gridcolor": "white",
            "linecolor": "white",
            "ticks": ""
           },
           "bgcolor": "#E5ECF6",
           "radialaxis": {
            "gridcolor": "white",
            "linecolor": "white",
            "ticks": ""
           }
          },
          "scene": {
           "xaxis": {
            "backgroundcolor": "#E5ECF6",
            "gridcolor": "white",
            "gridwidth": 2,
            "linecolor": "white",
            "showbackground": true,
            "ticks": "",
            "zerolinecolor": "white"
           },
           "yaxis": {
            "backgroundcolor": "#E5ECF6",
            "gridcolor": "white",
            "gridwidth": 2,
            "linecolor": "white",
            "showbackground": true,
            "ticks": "",
            "zerolinecolor": "white"
           },
           "zaxis": {
            "backgroundcolor": "#E5ECF6",
            "gridcolor": "white",
            "gridwidth": 2,
            "linecolor": "white",
            "showbackground": true,
            "ticks": "",
            "zerolinecolor": "white"
           }
          },
          "shapedefaults": {
           "line": {
            "color": "#2a3f5f"
           }
          },
          "ternary": {
           "aaxis": {
            "gridcolor": "white",
            "linecolor": "white",
            "ticks": ""
           },
           "baxis": {
            "gridcolor": "white",
            "linecolor": "white",
            "ticks": ""
           },
           "bgcolor": "#E5ECF6",
           "caxis": {
            "gridcolor": "white",
            "linecolor": "white",
            "ticks": ""
           }
          },
          "title": {
           "x": 0.05
          },
          "xaxis": {
           "automargin": true,
           "gridcolor": "white",
           "linecolor": "white",
           "ticks": "",
           "title": {
            "standoff": 15
           },
           "zerolinecolor": "white",
           "zerolinewidth": 2
          },
          "yaxis": {
           "automargin": true,
           "gridcolor": "white",
           "linecolor": "white",
           "ticks": "",
           "title": {
            "standoff": 15
           },
           "zerolinecolor": "white",
           "zerolinewidth": 2
          }
         }
        },
        "title": {
         "text": "Line Chart"
        },
        "xaxis": {
         "anchor": "y",
         "domain": [
          0,
          1
         ],
         "title": {
          "text": "Latest_Launch"
         }
        },
        "yaxis": {
         "anchor": "x",
         "domain": [
          0,
          1
         ],
         "title": {
          "text": "Sales_in_thousands"
         }
        }
       }
      }
     },
     "metadata": {},
     "output_type": "display_data"
    }
   ],
   "source": [
    "code = f\"\"\"\n",
    "\n",
    "params = {out['charts'][2]['parameters']}\n",
    "params['data_frame'] = df\n",
    "params['title'] = \"{out['charts'][2]['title']}\"\n",
    "\n",
    "fig = {out['charts'][2]['chartType']}(**params)\n",
    "\n",
    "fig.show()\n",
    "\"\"\"\n",
    "\n",
    "exec(code)"
   ]
  },
  {
   "cell_type": "code",
   "execution_count": 314,
   "metadata": {},
   "outputs": [
    {
     "data": {
      "application/vnd.plotly.v1+json": {
       "config": {
        "plotlyServerURL": "https://plot.ly"
       },
       "data": [
        {
         "alignmentgroup": "True",
         "bingroup": "x",
         "hovertemplate": "Vehicle_type=Passenger<br>Price_in_thousands=%{x}<br>count=%{y}<extra></extra>",
         "legendgroup": "Passenger",
         "marker": {
          "color": "#636efa",
          "pattern": {
           "shape": ""
          }
         },
         "name": "Passenger",
         "nbinsx": 10,
         "offsetgroup": "Passenger",
         "orientation": "v",
         "showlegend": true,
         "type": "histogram",
         "x": [
          21.5,
          28.4,
          null,
          42,
          23.99,
          33.95,
          62,
          26.99,
          33.4,
          38.9,
          21.975,
          25.3,
          31.965,
          27.885,
          39.895,
          44.475,
          39.665,
          31.01,
          13.26,
          16.535,
          18.89,
          19.39,
          24.34,
          45.705,
          13.96,
          9.235,
          18.89,
          19.84,
          24.495,
          22.245,
          16.48,
          28.34,
          29.185,
          12.64,
          19.045,
          20.23,
          22.505,
          69.725,
          12.07,
          21.56,
          17.035,
          17.885,
          12.315,
          22.195,
          12.885,
          15.35,
          9.699,
          11.799,
          14.999,
          29.465,
          42.8,
          31.505,
          37.805,
          46.305,
          54.005,
          39.08,
          43.33,
          13.987,
          19.047,
          17.357,
          24.997,
          25.45,
          16.24,
          16.54,
          19.035,
          22.605,
          31.75,
          49.9,
          69.7,
          82.6,
          38.9,
          41,
          41.6,
          85.5,
          13.499,
          20.39,
          26.249,
          18.145,
          24.15,
          18.27,
          36.229,
          12.64,
          16.08,
          43,
          21.61,
          19.72,
          25.31,
          21.665,
          23.755,
          41.43,
          71.02,
          74.97,
          33.12,
          26.1,
          10.685,
          12.535,
          14.29,
          18.835,
          15.01,
          22.695,
          13.108,
          17.518,
          25.545,
          16.875,
          14.9,
          16.7,
          21.2,
          19.99,
          17.5,
          15.9,
          23.4,
          24.4,
          27.5,
          28.8,
          45.5,
          36
         ],
         "xaxis": "x",
         "yaxis": "y"
        },
        {
         "alignmentgroup": "True",
         "bingroup": "x",
         "hovertemplate": "Vehicle_type=Car<br>Price_in_thousands=%{x}<br>count=%{y}<extra></extra>",
         "legendgroup": "Car",
         "marker": {
          "color": "#EF553B",
          "pattern": {
           "shape": ""
          }
         },
         "name": "Car",
         "nbinsx": 10,
         "offsetgroup": "Car",
         "orientation": "v",
         "showlegend": true,
         "type": "histogram",
         "x": [
          46.225,
          null,
          19.46,
          21.315,
          18.575,
          16.98,
          26.31,
          19.565,
          31.93,
          21.41,
          36.135,
          12.05,
          26.935,
          20.55,
          26.6,
          26,
          14.46,
          21.62,
          26.895,
          60.105,
          34.605,
          42.66,
          31.807,
          22.527,
          27.56,
          22.51,
          35.3,
          26.399,
          29.299,
          22.799,
          17.89,
          31.598,
          25.345,
          18.85,
          25.635,
          20.095,
          11.528,
          22.368,
          16.888,
          22.288,
          51.728
         ],
         "xaxis": "x",
         "yaxis": "y"
        }
       ],
       "layout": {
        "barmode": "relative",
        "legend": {
         "title": {
          "text": "Vehicle_type"
         },
         "tracegroupgap": 0
        },
        "template": {
         "data": {
          "bar": [
           {
            "error_x": {
             "color": "#2a3f5f"
            },
            "error_y": {
             "color": "#2a3f5f"
            },
            "marker": {
             "line": {
              "color": "#E5ECF6",
              "width": 0.5
             },
             "pattern": {
              "fillmode": "overlay",
              "size": 10,
              "solidity": 0.2
             }
            },
            "type": "bar"
           }
          ],
          "barpolar": [
           {
            "marker": {
             "line": {
              "color": "#E5ECF6",
              "width": 0.5
             },
             "pattern": {
              "fillmode": "overlay",
              "size": 10,
              "solidity": 0.2
             }
            },
            "type": "barpolar"
           }
          ],
          "carpet": [
           {
            "aaxis": {
             "endlinecolor": "#2a3f5f",
             "gridcolor": "white",
             "linecolor": "white",
             "minorgridcolor": "white",
             "startlinecolor": "#2a3f5f"
            },
            "baxis": {
             "endlinecolor": "#2a3f5f",
             "gridcolor": "white",
             "linecolor": "white",
             "minorgridcolor": "white",
             "startlinecolor": "#2a3f5f"
            },
            "type": "carpet"
           }
          ],
          "choropleth": [
           {
            "colorbar": {
             "outlinewidth": 0,
             "ticks": ""
            },
            "type": "choropleth"
           }
          ],
          "contour": [
           {
            "colorbar": {
             "outlinewidth": 0,
             "ticks": ""
            },
            "colorscale": [
             [
              0,
              "#0d0887"
             ],
             [
              0.1111111111111111,
              "#46039f"
             ],
             [
              0.2222222222222222,
              "#7201a8"
             ],
             [
              0.3333333333333333,
              "#9c179e"
             ],
             [
              0.4444444444444444,
              "#bd3786"
             ],
             [
              0.5555555555555556,
              "#d8576b"
             ],
             [
              0.6666666666666666,
              "#ed7953"
             ],
             [
              0.7777777777777778,
              "#fb9f3a"
             ],
             [
              0.8888888888888888,
              "#fdca26"
             ],
             [
              1,
              "#f0f921"
             ]
            ],
            "type": "contour"
           }
          ],
          "contourcarpet": [
           {
            "colorbar": {
             "outlinewidth": 0,
             "ticks": ""
            },
            "type": "contourcarpet"
           }
          ],
          "heatmap": [
           {
            "colorbar": {
             "outlinewidth": 0,
             "ticks": ""
            },
            "colorscale": [
             [
              0,
              "#0d0887"
             ],
             [
              0.1111111111111111,
              "#46039f"
             ],
             [
              0.2222222222222222,
              "#7201a8"
             ],
             [
              0.3333333333333333,
              "#9c179e"
             ],
             [
              0.4444444444444444,
              "#bd3786"
             ],
             [
              0.5555555555555556,
              "#d8576b"
             ],
             [
              0.6666666666666666,
              "#ed7953"
             ],
             [
              0.7777777777777778,
              "#fb9f3a"
             ],
             [
              0.8888888888888888,
              "#fdca26"
             ],
             [
              1,
              "#f0f921"
             ]
            ],
            "type": "heatmap"
           }
          ],
          "heatmapgl": [
           {
            "colorbar": {
             "outlinewidth": 0,
             "ticks": ""
            },
            "colorscale": [
             [
              0,
              "#0d0887"
             ],
             [
              0.1111111111111111,
              "#46039f"
             ],
             [
              0.2222222222222222,
              "#7201a8"
             ],
             [
              0.3333333333333333,
              "#9c179e"
             ],
             [
              0.4444444444444444,
              "#bd3786"
             ],
             [
              0.5555555555555556,
              "#d8576b"
             ],
             [
              0.6666666666666666,
              "#ed7953"
             ],
             [
              0.7777777777777778,
              "#fb9f3a"
             ],
             [
              0.8888888888888888,
              "#fdca26"
             ],
             [
              1,
              "#f0f921"
             ]
            ],
            "type": "heatmapgl"
           }
          ],
          "histogram": [
           {
            "marker": {
             "pattern": {
              "fillmode": "overlay",
              "size": 10,
              "solidity": 0.2
             }
            },
            "type": "histogram"
           }
          ],
          "histogram2d": [
           {
            "colorbar": {
             "outlinewidth": 0,
             "ticks": ""
            },
            "colorscale": [
             [
              0,
              "#0d0887"
             ],
             [
              0.1111111111111111,
              "#46039f"
             ],
             [
              0.2222222222222222,
              "#7201a8"
             ],
             [
              0.3333333333333333,
              "#9c179e"
             ],
             [
              0.4444444444444444,
              "#bd3786"
             ],
             [
              0.5555555555555556,
              "#d8576b"
             ],
             [
              0.6666666666666666,
              "#ed7953"
             ],
             [
              0.7777777777777778,
              "#fb9f3a"
             ],
             [
              0.8888888888888888,
              "#fdca26"
             ],
             [
              1,
              "#f0f921"
             ]
            ],
            "type": "histogram2d"
           }
          ],
          "histogram2dcontour": [
           {
            "colorbar": {
             "outlinewidth": 0,
             "ticks": ""
            },
            "colorscale": [
             [
              0,
              "#0d0887"
             ],
             [
              0.1111111111111111,
              "#46039f"
             ],
             [
              0.2222222222222222,
              "#7201a8"
             ],
             [
              0.3333333333333333,
              "#9c179e"
             ],
             [
              0.4444444444444444,
              "#bd3786"
             ],
             [
              0.5555555555555556,
              "#d8576b"
             ],
             [
              0.6666666666666666,
              "#ed7953"
             ],
             [
              0.7777777777777778,
              "#fb9f3a"
             ],
             [
              0.8888888888888888,
              "#fdca26"
             ],
             [
              1,
              "#f0f921"
             ]
            ],
            "type": "histogram2dcontour"
           }
          ],
          "mesh3d": [
           {
            "colorbar": {
             "outlinewidth": 0,
             "ticks": ""
            },
            "type": "mesh3d"
           }
          ],
          "parcoords": [
           {
            "line": {
             "colorbar": {
              "outlinewidth": 0,
              "ticks": ""
             }
            },
            "type": "parcoords"
           }
          ],
          "pie": [
           {
            "automargin": true,
            "type": "pie"
           }
          ],
          "scatter": [
           {
            "marker": {
             "colorbar": {
              "outlinewidth": 0,
              "ticks": ""
             }
            },
            "type": "scatter"
           }
          ],
          "scatter3d": [
           {
            "line": {
             "colorbar": {
              "outlinewidth": 0,
              "ticks": ""
             }
            },
            "marker": {
             "colorbar": {
              "outlinewidth": 0,
              "ticks": ""
             }
            },
            "type": "scatter3d"
           }
          ],
          "scattercarpet": [
           {
            "marker": {
             "colorbar": {
              "outlinewidth": 0,
              "ticks": ""
             }
            },
            "type": "scattercarpet"
           }
          ],
          "scattergeo": [
           {
            "marker": {
             "colorbar": {
              "outlinewidth": 0,
              "ticks": ""
             }
            },
            "type": "scattergeo"
           }
          ],
          "scattergl": [
           {
            "marker": {
             "colorbar": {
              "outlinewidth": 0,
              "ticks": ""
             }
            },
            "type": "scattergl"
           }
          ],
          "scattermapbox": [
           {
            "marker": {
             "colorbar": {
              "outlinewidth": 0,
              "ticks": ""
             }
            },
            "type": "scattermapbox"
           }
          ],
          "scatterpolar": [
           {
            "marker": {
             "colorbar": {
              "outlinewidth": 0,
              "ticks": ""
             }
            },
            "type": "scatterpolar"
           }
          ],
          "scatterpolargl": [
           {
            "marker": {
             "colorbar": {
              "outlinewidth": 0,
              "ticks": ""
             }
            },
            "type": "scatterpolargl"
           }
          ],
          "scatterternary": [
           {
            "marker": {
             "colorbar": {
              "outlinewidth": 0,
              "ticks": ""
             }
            },
            "type": "scatterternary"
           }
          ],
          "surface": [
           {
            "colorbar": {
             "outlinewidth": 0,
             "ticks": ""
            },
            "colorscale": [
             [
              0,
              "#0d0887"
             ],
             [
              0.1111111111111111,
              "#46039f"
             ],
             [
              0.2222222222222222,
              "#7201a8"
             ],
             [
              0.3333333333333333,
              "#9c179e"
             ],
             [
              0.4444444444444444,
              "#bd3786"
             ],
             [
              0.5555555555555556,
              "#d8576b"
             ],
             [
              0.6666666666666666,
              "#ed7953"
             ],
             [
              0.7777777777777778,
              "#fb9f3a"
             ],
             [
              0.8888888888888888,
              "#fdca26"
             ],
             [
              1,
              "#f0f921"
             ]
            ],
            "type": "surface"
           }
          ],
          "table": [
           {
            "cells": {
             "fill": {
              "color": "#EBF0F8"
             },
             "line": {
              "color": "white"
             }
            },
            "header": {
             "fill": {
              "color": "#C8D4E3"
             },
             "line": {
              "color": "white"
             }
            },
            "type": "table"
           }
          ]
         },
         "layout": {
          "annotationdefaults": {
           "arrowcolor": "#2a3f5f",
           "arrowhead": 0,
           "arrowwidth": 1
          },
          "autotypenumbers": "strict",
          "coloraxis": {
           "colorbar": {
            "outlinewidth": 0,
            "ticks": ""
           }
          },
          "colorscale": {
           "diverging": [
            [
             0,
             "#8e0152"
            ],
            [
             0.1,
             "#c51b7d"
            ],
            [
             0.2,
             "#de77ae"
            ],
            [
             0.3,
             "#f1b6da"
            ],
            [
             0.4,
             "#fde0ef"
            ],
            [
             0.5,
             "#f7f7f7"
            ],
            [
             0.6,
             "#e6f5d0"
            ],
            [
             0.7,
             "#b8e186"
            ],
            [
             0.8,
             "#7fbc41"
            ],
            [
             0.9,
             "#4d9221"
            ],
            [
             1,
             "#276419"
            ]
           ],
           "sequential": [
            [
             0,
             "#0d0887"
            ],
            [
             0.1111111111111111,
             "#46039f"
            ],
            [
             0.2222222222222222,
             "#7201a8"
            ],
            [
             0.3333333333333333,
             "#9c179e"
            ],
            [
             0.4444444444444444,
             "#bd3786"
            ],
            [
             0.5555555555555556,
             "#d8576b"
            ],
            [
             0.6666666666666666,
             "#ed7953"
            ],
            [
             0.7777777777777778,
             "#fb9f3a"
            ],
            [
             0.8888888888888888,
             "#fdca26"
            ],
            [
             1,
             "#f0f921"
            ]
           ],
           "sequentialminus": [
            [
             0,
             "#0d0887"
            ],
            [
             0.1111111111111111,
             "#46039f"
            ],
            [
             0.2222222222222222,
             "#7201a8"
            ],
            [
             0.3333333333333333,
             "#9c179e"
            ],
            [
             0.4444444444444444,
             "#bd3786"
            ],
            [
             0.5555555555555556,
             "#d8576b"
            ],
            [
             0.6666666666666666,
             "#ed7953"
            ],
            [
             0.7777777777777778,
             "#fb9f3a"
            ],
            [
             0.8888888888888888,
             "#fdca26"
            ],
            [
             1,
             "#f0f921"
            ]
           ]
          },
          "colorway": [
           "#636efa",
           "#EF553B",
           "#00cc96",
           "#ab63fa",
           "#FFA15A",
           "#19d3f3",
           "#FF6692",
           "#B6E880",
           "#FF97FF",
           "#FECB52"
          ],
          "font": {
           "color": "#2a3f5f"
          },
          "geo": {
           "bgcolor": "white",
           "lakecolor": "white",
           "landcolor": "#E5ECF6",
           "showlakes": true,
           "showland": true,
           "subunitcolor": "white"
          },
          "hoverlabel": {
           "align": "left"
          },
          "hovermode": "closest",
          "mapbox": {
           "style": "light"
          },
          "paper_bgcolor": "white",
          "plot_bgcolor": "#E5ECF6",
          "polar": {
           "angularaxis": {
            "gridcolor": "white",
            "linecolor": "white",
            "ticks": ""
           },
           "bgcolor": "#E5ECF6",
           "radialaxis": {
            "gridcolor": "white",
            "linecolor": "white",
            "ticks": ""
           }
          },
          "scene": {
           "xaxis": {
            "backgroundcolor": "#E5ECF6",
            "gridcolor": "white",
            "gridwidth": 2,
            "linecolor": "white",
            "showbackground": true,
            "ticks": "",
            "zerolinecolor": "white"
           },
           "yaxis": {
            "backgroundcolor": "#E5ECF6",
            "gridcolor": "white",
            "gridwidth": 2,
            "linecolor": "white",
            "showbackground": true,
            "ticks": "",
            "zerolinecolor": "white"
           },
           "zaxis": {
            "backgroundcolor": "#E5ECF6",
            "gridcolor": "white",
            "gridwidth": 2,
            "linecolor": "white",
            "showbackground": true,
            "ticks": "",
            "zerolinecolor": "white"
           }
          },
          "shapedefaults": {
           "line": {
            "color": "#2a3f5f"
           }
          },
          "ternary": {
           "aaxis": {
            "gridcolor": "white",
            "linecolor": "white",
            "ticks": ""
           },
           "baxis": {
            "gridcolor": "white",
            "linecolor": "white",
            "ticks": ""
           },
           "bgcolor": "#E5ECF6",
           "caxis": {
            "gridcolor": "white",
            "linecolor": "white",
            "ticks": ""
           }
          },
          "title": {
           "x": 0.05
          },
          "xaxis": {
           "automargin": true,
           "gridcolor": "white",
           "linecolor": "white",
           "ticks": "",
           "title": {
            "standoff": 15
           },
           "zerolinecolor": "white",
           "zerolinewidth": 2
          },
          "yaxis": {
           "automargin": true,
           "gridcolor": "white",
           "linecolor": "white",
           "ticks": "",
           "title": {
            "standoff": 15
           },
           "zerolinecolor": "white",
           "zerolinewidth": 2
          }
         }
        },
        "title": {
         "text": "Histogram"
        },
        "xaxis": {
         "anchor": "y",
         "domain": [
          0,
          1
         ],
         "title": {
          "text": "Price_in_thousands"
         }
        },
        "yaxis": {
         "anchor": "x",
         "domain": [
          0,
          1
         ],
         "title": {
          "text": "count"
         }
        }
       }
      }
     },
     "metadata": {},
     "output_type": "display_data"
    }
   ],
   "source": [
    "code = f\"\"\"\n",
    "\n",
    "params = {out['charts'][3]['parameters']}\n",
    "params['data_frame'] = df\n",
    "params['title'] = \"{out['charts'][3]['title']}\"\n",
    "\n",
    "fig = {out['charts'][3]['chartType']}(**params)\n",
    "\n",
    "fig.show()\n",
    "\"\"\"\n",
    "\n",
    "exec(code)"
   ]
  },
  {
   "cell_type": "code",
   "execution_count": 315,
   "metadata": {},
   "outputs": [
    {
     "data": {
      "application/vnd.plotly.v1+json": {
       "config": {
        "plotlyServerURL": "https://plot.ly"
       },
       "data": [
        {
         "alignmentgroup": "True",
         "hovertemplate": "Vehicle_type=Passenger<br>Manufacturer=%{x}<br>Price_in_thousands=%{y}<extra></extra>",
         "legendgroup": "Passenger",
         "marker": {
          "color": "#636efa"
         },
         "name": "Passenger",
         "notched": true,
         "offsetgroup": "Passenger",
         "orientation": "v",
         "showlegend": true,
         "type": "box",
         "x": [
          "Acura",
          "Acura",
          "Acura",
          "Acura",
          "Audi",
          "Audi",
          "Audi",
          "BMW",
          "BMW",
          "BMW",
          "Buick",
          "Buick",
          "Buick",
          "Buick",
          "Cadillac",
          "Cadillac",
          "Cadillac",
          "Cadillac",
          "Chevrolet",
          "Chevrolet",
          "Chevrolet",
          "Chevrolet",
          "Chevrolet",
          "Chevrolet",
          "Chevrolet",
          "Chevrolet",
          "Chevrolet",
          "Chrysler",
          "Chrysler",
          "Chrysler",
          "Chrysler",
          "Chrysler",
          "Chrysler",
          "Dodge",
          "Dodge",
          "Dodge",
          "Dodge",
          "Dodge",
          "Ford",
          "Ford",
          "Ford",
          "Ford",
          "Ford",
          "Ford",
          "Honda",
          "Honda",
          "Hyundai",
          "Hyundai",
          "Hyundai",
          "Infiniti",
          "Jaguar",
          "Lexus",
          "Lexus",
          "Lexus",
          "Lexus",
          "Lincoln",
          "Lincoln",
          "Mitsubishi",
          "Mitsubishi",
          "Mitsubishi",
          "Mitsubishi",
          "Mitsubishi",
          "Mercury",
          "Mercury",
          "Mercury",
          "Mercury",
          "Mercedes-B",
          "Mercedes-B",
          "Mercedes-B",
          "Mercedes-B",
          "Mercedes-B",
          "Mercedes-B",
          "Mercedes-B",
          "Mercedes-B",
          "Nissan",
          "Nissan",
          "Nissan",
          "Oldsmobile",
          "Oldsmobile",
          "Oldsmobile",
          "Oldsmobile",
          "Plymouth",
          "Plymouth",
          "Plymouth",
          "Pontiac",
          "Pontiac",
          "Pontiac",
          "Pontiac",
          "Pontiac",
          "Porsche",
          "Porsche",
          "Porsche",
          "Saab",
          "Saab",
          "Saturn",
          "Saturn",
          "Saturn",
          "Saturn",
          "Saturn",
          "Subaru",
          "Toyota",
          "Toyota",
          "Toyota",
          "Toyota",
          "Volkswagen",
          "Volkswagen",
          "Volkswagen",
          "Volkswagen",
          "Volkswagen",
          "Volkswagen",
          "Volvo",
          "Volvo",
          "Volvo",
          "Volvo",
          "Volvo",
          "Volvo"
         ],
         "x0": " ",
         "xaxis": "x",
         "y": [
          21.5,
          28.4,
          null,
          42,
          23.99,
          33.95,
          62,
          26.99,
          33.4,
          38.9,
          21.975,
          25.3,
          31.965,
          27.885,
          39.895,
          44.475,
          39.665,
          31.01,
          13.26,
          16.535,
          18.89,
          19.39,
          24.34,
          45.705,
          13.96,
          9.235,
          18.89,
          19.84,
          24.495,
          22.245,
          16.48,
          28.34,
          29.185,
          12.64,
          19.045,
          20.23,
          22.505,
          69.725,
          12.07,
          21.56,
          17.035,
          17.885,
          12.315,
          22.195,
          12.885,
          15.35,
          9.699,
          11.799,
          14.999,
          29.465,
          42.8,
          31.505,
          37.805,
          46.305,
          54.005,
          39.08,
          43.33,
          13.987,
          19.047,
          17.357,
          24.997,
          25.45,
          16.24,
          16.54,
          19.035,
          22.605,
          31.75,
          49.9,
          69.7,
          82.6,
          38.9,
          41,
          41.6,
          85.5,
          13.499,
          20.39,
          26.249,
          18.145,
          24.15,
          18.27,
          36.229,
          12.64,
          16.08,
          43,
          21.61,
          19.72,
          25.31,
          21.665,
          23.755,
          41.43,
          71.02,
          74.97,
          33.12,
          26.1,
          10.685,
          12.535,
          14.29,
          18.835,
          15.01,
          22.695,
          13.108,
          17.518,
          25.545,
          16.875,
          14.9,
          16.7,
          21.2,
          19.99,
          17.5,
          15.9,
          23.4,
          24.4,
          27.5,
          28.8,
          45.5,
          36
         ],
         "y0": " ",
         "yaxis": "y"
        },
        {
         "alignmentgroup": "True",
         "hovertemplate": "Vehicle_type=Car<br>Manufacturer=%{x}<br>Price_in_thousands=%{y}<extra></extra>",
         "legendgroup": "Car",
         "marker": {
          "color": "#EF553B"
         },
         "name": "Car",
         "notched": true,
         "offsetgroup": "Car",
         "orientation": "v",
         "showlegend": true,
         "type": "box",
         "x": [
          "Cadillac",
          "Chrysler",
          "Dodge",
          "Dodge",
          "Dodge",
          "Dodge",
          "Dodge",
          "Dodge",
          "Ford",
          "Ford",
          "Ford",
          "Ford",
          "Ford",
          "Honda",
          "Honda",
          "Honda",
          "Jeep",
          "Jeep",
          "Jeep",
          "Lexus",
          "Lexus",
          "Lincoln",
          "Mitsubishi",
          "Mitsubishi",
          "Mercury",
          "Mercury",
          "Mercedes-B",
          "Nissan",
          "Nissan",
          "Nissan",
          "Nissan",
          "Oldsmobile",
          "Oldsmobile",
          "Plymouth",
          "Pontiac",
          "Subaru",
          "Toyota",
          "Toyota",
          "Toyota",
          "Toyota",
          "Toyota"
         ],
         "x0": " ",
         "xaxis": "x",
         "y": [
          46.225,
          null,
          19.46,
          21.315,
          18.575,
          16.98,
          26.31,
          19.565,
          31.93,
          21.41,
          36.135,
          12.05,
          26.935,
          20.55,
          26.6,
          26,
          14.46,
          21.62,
          26.895,
          60.105,
          34.605,
          42.66,
          31.807,
          22.527,
          27.56,
          22.51,
          35.3,
          26.399,
          29.299,
          22.799,
          17.89,
          31.598,
          25.345,
          18.85,
          25.635,
          20.095,
          11.528,
          22.368,
          16.888,
          22.288,
          51.728
         ],
         "y0": " ",
         "yaxis": "y"
        }
       ],
       "layout": {
        "boxmode": "group",
        "legend": {
         "title": {
          "text": "Vehicle_type"
         },
         "tracegroupgap": 0
        },
        "template": {
         "data": {
          "bar": [
           {
            "error_x": {
             "color": "#2a3f5f"
            },
            "error_y": {
             "color": "#2a3f5f"
            },
            "marker": {
             "line": {
              "color": "#E5ECF6",
              "width": 0.5
             },
             "pattern": {
              "fillmode": "overlay",
              "size": 10,
              "solidity": 0.2
             }
            },
            "type": "bar"
           }
          ],
          "barpolar": [
           {
            "marker": {
             "line": {
              "color": "#E5ECF6",
              "width": 0.5
             },
             "pattern": {
              "fillmode": "overlay",
              "size": 10,
              "solidity": 0.2
             }
            },
            "type": "barpolar"
           }
          ],
          "carpet": [
           {
            "aaxis": {
             "endlinecolor": "#2a3f5f",
             "gridcolor": "white",
             "linecolor": "white",
             "minorgridcolor": "white",
             "startlinecolor": "#2a3f5f"
            },
            "baxis": {
             "endlinecolor": "#2a3f5f",
             "gridcolor": "white",
             "linecolor": "white",
             "minorgridcolor": "white",
             "startlinecolor": "#2a3f5f"
            },
            "type": "carpet"
           }
          ],
          "choropleth": [
           {
            "colorbar": {
             "outlinewidth": 0,
             "ticks": ""
            },
            "type": "choropleth"
           }
          ],
          "contour": [
           {
            "colorbar": {
             "outlinewidth": 0,
             "ticks": ""
            },
            "colorscale": [
             [
              0,
              "#0d0887"
             ],
             [
              0.1111111111111111,
              "#46039f"
             ],
             [
              0.2222222222222222,
              "#7201a8"
             ],
             [
              0.3333333333333333,
              "#9c179e"
             ],
             [
              0.4444444444444444,
              "#bd3786"
             ],
             [
              0.5555555555555556,
              "#d8576b"
             ],
             [
              0.6666666666666666,
              "#ed7953"
             ],
             [
              0.7777777777777778,
              "#fb9f3a"
             ],
             [
              0.8888888888888888,
              "#fdca26"
             ],
             [
              1,
              "#f0f921"
             ]
            ],
            "type": "contour"
           }
          ],
          "contourcarpet": [
           {
            "colorbar": {
             "outlinewidth": 0,
             "ticks": ""
            },
            "type": "contourcarpet"
           }
          ],
          "heatmap": [
           {
            "colorbar": {
             "outlinewidth": 0,
             "ticks": ""
            },
            "colorscale": [
             [
              0,
              "#0d0887"
             ],
             [
              0.1111111111111111,
              "#46039f"
             ],
             [
              0.2222222222222222,
              "#7201a8"
             ],
             [
              0.3333333333333333,
              "#9c179e"
             ],
             [
              0.4444444444444444,
              "#bd3786"
             ],
             [
              0.5555555555555556,
              "#d8576b"
             ],
             [
              0.6666666666666666,
              "#ed7953"
             ],
             [
              0.7777777777777778,
              "#fb9f3a"
             ],
             [
              0.8888888888888888,
              "#fdca26"
             ],
             [
              1,
              "#f0f921"
             ]
            ],
            "type": "heatmap"
           }
          ],
          "heatmapgl": [
           {
            "colorbar": {
             "outlinewidth": 0,
             "ticks": ""
            },
            "colorscale": [
             [
              0,
              "#0d0887"
             ],
             [
              0.1111111111111111,
              "#46039f"
             ],
             [
              0.2222222222222222,
              "#7201a8"
             ],
             [
              0.3333333333333333,
              "#9c179e"
             ],
             [
              0.4444444444444444,
              "#bd3786"
             ],
             [
              0.5555555555555556,
              "#d8576b"
             ],
             [
              0.6666666666666666,
              "#ed7953"
             ],
             [
              0.7777777777777778,
              "#fb9f3a"
             ],
             [
              0.8888888888888888,
              "#fdca26"
             ],
             [
              1,
              "#f0f921"
             ]
            ],
            "type": "heatmapgl"
           }
          ],
          "histogram": [
           {
            "marker": {
             "pattern": {
              "fillmode": "overlay",
              "size": 10,
              "solidity": 0.2
             }
            },
            "type": "histogram"
           }
          ],
          "histogram2d": [
           {
            "colorbar": {
             "outlinewidth": 0,
             "ticks": ""
            },
            "colorscale": [
             [
              0,
              "#0d0887"
             ],
             [
              0.1111111111111111,
              "#46039f"
             ],
             [
              0.2222222222222222,
              "#7201a8"
             ],
             [
              0.3333333333333333,
              "#9c179e"
             ],
             [
              0.4444444444444444,
              "#bd3786"
             ],
             [
              0.5555555555555556,
              "#d8576b"
             ],
             [
              0.6666666666666666,
              "#ed7953"
             ],
             [
              0.7777777777777778,
              "#fb9f3a"
             ],
             [
              0.8888888888888888,
              "#fdca26"
             ],
             [
              1,
              "#f0f921"
             ]
            ],
            "type": "histogram2d"
           }
          ],
          "histogram2dcontour": [
           {
            "colorbar": {
             "outlinewidth": 0,
             "ticks": ""
            },
            "colorscale": [
             [
              0,
              "#0d0887"
             ],
             [
              0.1111111111111111,
              "#46039f"
             ],
             [
              0.2222222222222222,
              "#7201a8"
             ],
             [
              0.3333333333333333,
              "#9c179e"
             ],
             [
              0.4444444444444444,
              "#bd3786"
             ],
             [
              0.5555555555555556,
              "#d8576b"
             ],
             [
              0.6666666666666666,
              "#ed7953"
             ],
             [
              0.7777777777777778,
              "#fb9f3a"
             ],
             [
              0.8888888888888888,
              "#fdca26"
             ],
             [
              1,
              "#f0f921"
             ]
            ],
            "type": "histogram2dcontour"
           }
          ],
          "mesh3d": [
           {
            "colorbar": {
             "outlinewidth": 0,
             "ticks": ""
            },
            "type": "mesh3d"
           }
          ],
          "parcoords": [
           {
            "line": {
             "colorbar": {
              "outlinewidth": 0,
              "ticks": ""
             }
            },
            "type": "parcoords"
           }
          ],
          "pie": [
           {
            "automargin": true,
            "type": "pie"
           }
          ],
          "scatter": [
           {
            "marker": {
             "colorbar": {
              "outlinewidth": 0,
              "ticks": ""
             }
            },
            "type": "scatter"
           }
          ],
          "scatter3d": [
           {
            "line": {
             "colorbar": {
              "outlinewidth": 0,
              "ticks": ""
             }
            },
            "marker": {
             "colorbar": {
              "outlinewidth": 0,
              "ticks": ""
             }
            },
            "type": "scatter3d"
           }
          ],
          "scattercarpet": [
           {
            "marker": {
             "colorbar": {
              "outlinewidth": 0,
              "ticks": ""
             }
            },
            "type": "scattercarpet"
           }
          ],
          "scattergeo": [
           {
            "marker": {
             "colorbar": {
              "outlinewidth": 0,
              "ticks": ""
             }
            },
            "type": "scattergeo"
           }
          ],
          "scattergl": [
           {
            "marker": {
             "colorbar": {
              "outlinewidth": 0,
              "ticks": ""
             }
            },
            "type": "scattergl"
           }
          ],
          "scattermapbox": [
           {
            "marker": {
             "colorbar": {
              "outlinewidth": 0,
              "ticks": ""
             }
            },
            "type": "scattermapbox"
           }
          ],
          "scatterpolar": [
           {
            "marker": {
             "colorbar": {
              "outlinewidth": 0,
              "ticks": ""
             }
            },
            "type": "scatterpolar"
           }
          ],
          "scatterpolargl": [
           {
            "marker": {
             "colorbar": {
              "outlinewidth": 0,
              "ticks": ""
             }
            },
            "type": "scatterpolargl"
           }
          ],
          "scatterternary": [
           {
            "marker": {
             "colorbar": {
              "outlinewidth": 0,
              "ticks": ""
             }
            },
            "type": "scatterternary"
           }
          ],
          "surface": [
           {
            "colorbar": {
             "outlinewidth": 0,
             "ticks": ""
            },
            "colorscale": [
             [
              0,
              "#0d0887"
             ],
             [
              0.1111111111111111,
              "#46039f"
             ],
             [
              0.2222222222222222,
              "#7201a8"
             ],
             [
              0.3333333333333333,
              "#9c179e"
             ],
             [
              0.4444444444444444,
              "#bd3786"
             ],
             [
              0.5555555555555556,
              "#d8576b"
             ],
             [
              0.6666666666666666,
              "#ed7953"
             ],
             [
              0.7777777777777778,
              "#fb9f3a"
             ],
             [
              0.8888888888888888,
              "#fdca26"
             ],
             [
              1,
              "#f0f921"
             ]
            ],
            "type": "surface"
           }
          ],
          "table": [
           {
            "cells": {
             "fill": {
              "color": "#EBF0F8"
             },
             "line": {
              "color": "white"
             }
            },
            "header": {
             "fill": {
              "color": "#C8D4E3"
             },
             "line": {
              "color": "white"
             }
            },
            "type": "table"
           }
          ]
         },
         "layout": {
          "annotationdefaults": {
           "arrowcolor": "#2a3f5f",
           "arrowhead": 0,
           "arrowwidth": 1
          },
          "autotypenumbers": "strict",
          "coloraxis": {
           "colorbar": {
            "outlinewidth": 0,
            "ticks": ""
           }
          },
          "colorscale": {
           "diverging": [
            [
             0,
             "#8e0152"
            ],
            [
             0.1,
             "#c51b7d"
            ],
            [
             0.2,
             "#de77ae"
            ],
            [
             0.3,
             "#f1b6da"
            ],
            [
             0.4,
             "#fde0ef"
            ],
            [
             0.5,
             "#f7f7f7"
            ],
            [
             0.6,
             "#e6f5d0"
            ],
            [
             0.7,
             "#b8e186"
            ],
            [
             0.8,
             "#7fbc41"
            ],
            [
             0.9,
             "#4d9221"
            ],
            [
             1,
             "#276419"
            ]
           ],
           "sequential": [
            [
             0,
             "#0d0887"
            ],
            [
             0.1111111111111111,
             "#46039f"
            ],
            [
             0.2222222222222222,
             "#7201a8"
            ],
            [
             0.3333333333333333,
             "#9c179e"
            ],
            [
             0.4444444444444444,
             "#bd3786"
            ],
            [
             0.5555555555555556,
             "#d8576b"
            ],
            [
             0.6666666666666666,
             "#ed7953"
            ],
            [
             0.7777777777777778,
             "#fb9f3a"
            ],
            [
             0.8888888888888888,
             "#fdca26"
            ],
            [
             1,
             "#f0f921"
            ]
           ],
           "sequentialminus": [
            [
             0,
             "#0d0887"
            ],
            [
             0.1111111111111111,
             "#46039f"
            ],
            [
             0.2222222222222222,
             "#7201a8"
            ],
            [
             0.3333333333333333,
             "#9c179e"
            ],
            [
             0.4444444444444444,
             "#bd3786"
            ],
            [
             0.5555555555555556,
             "#d8576b"
            ],
            [
             0.6666666666666666,
             "#ed7953"
            ],
            [
             0.7777777777777778,
             "#fb9f3a"
            ],
            [
             0.8888888888888888,
             "#fdca26"
            ],
            [
             1,
             "#f0f921"
            ]
           ]
          },
          "colorway": [
           "#636efa",
           "#EF553B",
           "#00cc96",
           "#ab63fa",
           "#FFA15A",
           "#19d3f3",
           "#FF6692",
           "#B6E880",
           "#FF97FF",
           "#FECB52"
          ],
          "font": {
           "color": "#2a3f5f"
          },
          "geo": {
           "bgcolor": "white",
           "lakecolor": "white",
           "landcolor": "#E5ECF6",
           "showlakes": true,
           "showland": true,
           "subunitcolor": "white"
          },
          "hoverlabel": {
           "align": "left"
          },
          "hovermode": "closest",
          "mapbox": {
           "style": "light"
          },
          "paper_bgcolor": "white",
          "plot_bgcolor": "#E5ECF6",
          "polar": {
           "angularaxis": {
            "gridcolor": "white",
            "linecolor": "white",
            "ticks": ""
           },
           "bgcolor": "#E5ECF6",
           "radialaxis": {
            "gridcolor": "white",
            "linecolor": "white",
            "ticks": ""
           }
          },
          "scene": {
           "xaxis": {
            "backgroundcolor": "#E5ECF6",
            "gridcolor": "white",
            "gridwidth": 2,
            "linecolor": "white",
            "showbackground": true,
            "ticks": "",
            "zerolinecolor": "white"
           },
           "yaxis": {
            "backgroundcolor": "#E5ECF6",
            "gridcolor": "white",
            "gridwidth": 2,
            "linecolor": "white",
            "showbackground": true,
            "ticks": "",
            "zerolinecolor": "white"
           },
           "zaxis": {
            "backgroundcolor": "#E5ECF6",
            "gridcolor": "white",
            "gridwidth": 2,
            "linecolor": "white",
            "showbackground": true,
            "ticks": "",
            "zerolinecolor": "white"
           }
          },
          "shapedefaults": {
           "line": {
            "color": "#2a3f5f"
           }
          },
          "ternary": {
           "aaxis": {
            "gridcolor": "white",
            "linecolor": "white",
            "ticks": ""
           },
           "baxis": {
            "gridcolor": "white",
            "linecolor": "white",
            "ticks": ""
           },
           "bgcolor": "#E5ECF6",
           "caxis": {
            "gridcolor": "white",
            "linecolor": "white",
            "ticks": ""
           }
          },
          "title": {
           "x": 0.05
          },
          "xaxis": {
           "automargin": true,
           "gridcolor": "white",
           "linecolor": "white",
           "ticks": "",
           "title": {
            "standoff": 15
           },
           "zerolinecolor": "white",
           "zerolinewidth": 2
          },
          "yaxis": {
           "automargin": true,
           "gridcolor": "white",
           "linecolor": "white",
           "ticks": "",
           "title": {
            "standoff": 15
           },
           "zerolinecolor": "white",
           "zerolinewidth": 2
          }
         }
        },
        "title": {
         "text": "Box Plot"
        },
        "xaxis": {
         "anchor": "y",
         "domain": [
          0,
          1
         ],
         "title": {
          "text": "Manufacturer"
         }
        },
        "yaxis": {
         "anchor": "x",
         "domain": [
          0,
          1
         ],
         "title": {
          "text": "Price_in_thousands"
         }
        }
       }
      }
     },
     "metadata": {},
     "output_type": "display_data"
    }
   ],
   "source": [
    "code = f\"\"\"\n",
    "\n",
    "params = {out['charts'][4]['parameters']}\n",
    "params['data_frame'] = df\n",
    "params['title'] = \"{out['charts'][4]['title']}\"\n",
    "\n",
    "fig = {out['charts'][4]['chartType']}(**params)\n",
    "\n",
    "fig.show()\n",
    "\"\"\"\n",
    "\n",
    "exec(code)"
   ]
  },
  {
   "cell_type": "code",
   "execution_count": 316,
   "metadata": {},
   "outputs": [
    {
     "data": {
      "application/vnd.plotly.v1+json": {
       "config": {
        "plotlyServerURL": "https://plot.ly"
       },
       "data": [
        {
         "hovertemplate": "Manufacturer=Acura<br>Vehicle_type=Passenger<br>Latest_Launch=%{x}<br>Sales_in_thousands=%{y}<extra></extra>",
         "legendgroup": "Acura",
         "line": {
          "color": "#636efa"
         },
         "marker": {
          "symbol": "circle"
         },
         "mode": "lines",
         "name": "Acura",
         "orientation": "v",
         "showlegend": true,
         "stackgroup": "1",
         "type": "scatter",
         "x": [
          "2/2/2012",
          "6/3/2011",
          "1/4/2012",
          "3/10/2011"
         ],
         "xaxis": "x",
         "y": [
          16.919,
          39.384,
          14.114,
          8.588
         ],
         "yaxis": "y"
        },
        {
         "hovertemplate": "Manufacturer=Audi<br>Vehicle_type=Passenger<br>Latest_Launch=%{x}<br>Sales_in_thousands=%{y}<extra></extra>",
         "legendgroup": "Audi",
         "line": {
          "color": "#EF553B"
         },
         "marker": {
          "symbol": "circle"
         },
         "mode": "lines",
         "name": "Audi",
         "orientation": "v",
         "showlegend": true,
         "stackgroup": "1",
         "type": "scatter",
         "x": [
          "10/8/2011",
          "8/9/2011",
          "2/27/2012"
         ],
         "xaxis": "x",
         "y": [
          20.397,
          18.78,
          1.38
         ],
         "yaxis": "y"
        },
        {
         "hovertemplate": "Manufacturer=BMW<br>Vehicle_type=Passenger<br>Latest_Launch=%{x}<br>Sales_in_thousands=%{y}<extra></extra>",
         "legendgroup": "BMW",
         "line": {
          "color": "#00cc96"
         },
         "marker": {
          "symbol": "circle"
         },
         "mode": "lines",
         "name": "BMW",
         "orientation": "v",
         "showlegend": true,
         "stackgroup": "1",
         "type": "scatter",
         "x": [
          "6/28/2011",
          "1/29/2012",
          "4/4/2011"
         ],
         "xaxis": "x",
         "y": [
          19.747,
          9.231,
          17.527
         ],
         "yaxis": "y"
        },
        {
         "hovertemplate": "Manufacturer=Buick<br>Vehicle_type=Passenger<br>Latest_Launch=%{x}<br>Sales_in_thousands=%{y}<extra></extra>",
         "legendgroup": "Buick",
         "line": {
          "color": "#ab63fa"
         },
         "marker": {
          "symbol": "circle"
         },
         "mode": "lines",
         "name": "Buick",
         "orientation": "v",
         "showlegend": true,
         "stackgroup": "1",
         "type": "scatter",
         "x": [
          "11/2/2011",
          "9/3/2011",
          "3/23/2012",
          "7/23/2011"
         ],
         "xaxis": "x",
         "y": [
          91.561,
          39.35,
          27.851,
          83.257
         ],
         "yaxis": "y"
        },
        {
         "hovertemplate": "Manufacturer=Cadillac<br>Vehicle_type=Passenger<br>Latest_Launch=%{x}<br>Sales_in_thousands=%{y}<extra></extra>",
         "legendgroup": "Cadillac",
         "line": {
          "color": "#FFA15A"
         },
         "marker": {
          "symbol": "circle"
         },
         "mode": "lines",
         "name": "Cadillac",
         "orientation": "v",
         "showlegend": true,
         "stackgroup": "1",
         "type": "scatter",
         "x": [
          "2/23/2012",
          "4/29/2011",
          "11/27/2011",
          "9/28/2011"
         ],
         "xaxis": "x",
         "y": [
          63.729,
          15.943,
          6.536,
          11.185
         ],
         "yaxis": "y"
        },
        {
         "hovertemplate": "Manufacturer=Cadillac<br>Vehicle_type=Car<br>Latest_Launch=%{x}<br>Sales_in_thousands=%{y}<extra></extra>",
         "legendgroup": "Cadillac",
         "line": {
          "color": "#FFA15A"
         },
         "marker": {
          "symbol": "circle"
         },
         "mode": "lines",
         "name": "Cadillac",
         "orientation": "v",
         "showlegend": false,
         "stackgroup": "1",
         "type": "scatter",
         "x": [
          "4/17/2012"
         ],
         "xaxis": "x",
         "y": [
          14.785
         ],
         "yaxis": "y"
        },
        {
         "hovertemplate": "Manufacturer=Chevrolet<br>Vehicle_type=Passenger<br>Latest_Launch=%{x}<br>Sales_in_thousands=%{y}<extra></extra>",
         "legendgroup": "Chevrolet",
         "line": {
          "color": "#19d3f3"
         },
         "marker": {
          "symbol": "circle"
         },
         "mode": "lines",
         "name": "Chevrolet",
         "orientation": "v",
         "showlegend": true,
         "stackgroup": "1",
         "type": "scatter",
         "x": [
          "8/17/2011",
          "3/19/2012",
          "5/24/2011",
          "12/22/2011",
          "10/23/2011",
          "5/12/2012",
          "9/11/2011",
          "4/13/2012",
          "6/18/2011"
         ],
         "xaxis": "x",
         "y": [
          145.519,
          135.126,
          24.629,
          42.593,
          26.402,
          17.947,
          32.299,
          21.855,
          107.995
         ],
         "yaxis": "y"
        },
        {
         "hovertemplate": "Manufacturer=Chrysler<br>Vehicle_type=Passenger<br>Latest_Launch=%{x}<br>Sales_in_thousands=%{y}<extra></extra>",
         "legendgroup": "Chrysler",
         "line": {
          "color": "#FF6692"
         },
         "marker": {
          "symbol": "circle"
         },
         "mode": "lines",
         "name": "Chrysler",
         "orientation": "v",
         "showlegend": true,
         "stackgroup": "1",
         "type": "scatter",
         "x": [
          "1/16/2012",
          "11/17/2011",
          "6/6/2012",
          "10/6/2011",
          "5/8/2012",
          "2/10/2012"
         ],
         "xaxis": "x",
         "y": [
          7.854,
          32.775,
          31.148,
          32.306,
          13.462,
          30.696
         ],
         "yaxis": "y"
        },
        {
         "hovertemplate": "Manufacturer=Chrysler<br>Vehicle_type=Car<br>Latest_Launch=%{x}<br>Sales_in_thousands=%{y}<extra></extra>",
         "legendgroup": "Chrysler",
         "line": {
          "color": "#FF6692"
         },
         "marker": {
          "symbol": "circle"
         },
         "mode": "lines",
         "name": "Chrysler",
         "orientation": "v",
         "showlegend": false,
         "stackgroup": "1",
         "type": "scatter",
         "x": [
          "7/13/2011"
         ],
         "xaxis": "x",
         "y": [
          53.48
         ],
         "yaxis": "y"
        },
        {
         "hovertemplate": "Manufacturer=Dodge<br>Vehicle_type=Passenger<br>Latest_Launch=%{x}<br>Sales_in_thousands=%{y}<extra></extra>",
         "legendgroup": "Dodge",
         "line": {
          "color": "#B6E880"
         },
         "marker": {
          "symbol": "circle"
         },
         "mode": "lines",
         "name": "Dodge",
         "orientation": "v",
         "showlegend": true,
         "stackgroup": "1",
         "type": "scatter",
         "x": [
          "12/12/2011",
          "7/1/2012",
          "10/31/2011",
          "6/2/2012",
          "8/7/2011"
         ],
         "xaxis": "x",
         "y": [
          76.034,
          4.734,
          71.186,
          88.028,
          0.916
         ],
         "yaxis": "y"
        },
        {
         "hovertemplate": "Manufacturer=Dodge<br>Vehicle_type=Car<br>Latest_Launch=%{x}<br>Sales_in_thousands=%{y}<extra></extra>",
         "legendgroup": "Dodge",
         "line": {
          "color": "#B6E880"
         },
         "marker": {
          "symbol": "circle"
         },
         "mode": "lines",
         "name": "Dodge",
         "orientation": "v",
         "showlegend": false,
         "stackgroup": "1",
         "type": "scatter",
         "x": [
          "3/6/2012",
          "1/6/2012",
          "7/26/2012",
          "11/25/2011",
          "6/27/2012",
          "9/1/2011"
         ],
         "xaxis": "x",
         "y": [
          227.061,
          16.767,
          31.038,
          111.313,
          101.323,
          181.749
         ],
         "yaxis": "y"
        },
        {
         "hovertemplate": "Manufacturer=Ford<br>Vehicle_type=Passenger<br>Latest_Launch=%{x}<br>Sales_in_thousands=%{y}<extra></extra>",
         "legendgroup": "Ford",
         "line": {
          "color": "#FF97FF"
         },
         "marker": {
          "symbol": "circle"
         },
         "mode": "lines",
         "name": "Ford",
         "orientation": "v",
         "showlegend": true,
         "stackgroup": "1",
         "type": "scatter",
         "x": [
          "3/31/2012",
          "1/31/2012",
          "8/20/2012",
          "12/20/2011",
          "7/22/2012",
          "9/26/2011"
         ],
         "xaxis": "x",
         "y": [
          70.227,
          113.369,
          35.068,
          245.815,
          175.67,
          63.403
         ],
         "yaxis": "y"
        },
        {
         "hovertemplate": "Manufacturer=Ford<br>Vehicle_type=Car<br>Latest_Launch=%{x}<br>Sales_in_thousands=%{y}<extra></extra>",
         "legendgroup": "Ford",
         "line": {
          "color": "#FF97FF"
         },
         "marker": {
          "symbol": "circle"
         },
         "mode": "lines",
         "name": "Ford",
         "orientation": "v",
         "showlegend": false,
         "stackgroup": "1",
         "type": "scatter",
         "x": [
          "4/25/2012",
          "2/25/2012",
          "9/14/2012",
          "1/14/2012",
          "8/16/2012"
         ],
         "xaxis": "x",
         "y": [
          276.747,
          155.787,
          125.338,
          220.65,
          540.561
         ],
         "yaxis": "y"
        },
        {
         "hovertemplate": "Manufacturer=Honda<br>Vehicle_type=Passenger<br>Latest_Launch=%{x}<br>Sales_in_thousands=%{y}<extra></extra>",
         "legendgroup": "Honda",
         "line": {
          "color": "#FECB52"
         },
         "marker": {
          "symbol": "circle"
         },
         "mode": "lines",
         "name": "Honda",
         "orientation": "v",
         "showlegend": true,
         "stackgroup": "1",
         "type": "scatter",
         "x": [
          "10/21/2011",
          "5/20/2012"
         ],
         "xaxis": "x",
         "y": [
          199.685,
          230.902
         ],
         "yaxis": "y"
        },
        {
         "hovertemplate": "Manufacturer=Honda<br>Vehicle_type=Car<br>Latest_Launch=%{x}<br>Sales_in_thousands=%{y}<extra></extra>",
         "legendgroup": "Honda",
         "line": {
          "color": "#FECB52"
         },
         "marker": {
          "symbol": "circle"
         },
         "mode": "lines",
         "name": "Honda",
         "orientation": "v",
         "showlegend": false,
         "stackgroup": "1",
         "type": "scatter",
         "x": [
          "3/21/2012",
          "10/9/2012",
          "2/8/2012"
         ],
         "xaxis": "x",
         "y": [
          73.203,
          12.855,
          76.029
         ],
         "yaxis": "y"
        },
        {
         "hovertemplate": "Manufacturer=Hyundai<br>Vehicle_type=Passenger<br>Latest_Launch=%{x}<br>Sales_in_thousands=%{y}<extra></extra>",
         "legendgroup": "Hyundai",
         "line": {
          "color": "#636efa"
         },
         "marker": {
          "symbol": "circle"
         },
         "mode": "lines",
         "name": "Hyundai",
         "orientation": "v",
         "showlegend": true,
         "stackgroup": "1",
         "type": "scatter",
         "x": [
          "9/10/2012",
          "11/15/2011",
          "6/14/2012"
         ],
         "xaxis": "x",
         "y": [
          41.184,
          66.692,
          29.45
         ],
         "yaxis": "y"
        },
        {
         "hovertemplate": "Manufacturer=Infiniti<br>Vehicle_type=Passenger<br>Latest_Launch=%{x}<br>Sales_in_thousands=%{y}<extra></extra>",
         "legendgroup": "Infiniti",
         "line": {
          "color": "#EF553B"
         },
         "marker": {
          "symbol": "circle"
         },
         "mode": "lines",
         "name": "Infiniti",
         "orientation": "v",
         "showlegend": true,
         "stackgroup": "1",
         "type": "scatter",
         "x": [
          "4/15/2012"
         ],
         "xaxis": "x",
         "y": [
          23.713
         ],
         "yaxis": "y"
        },
        {
         "hovertemplate": "Manufacturer=Jaguar<br>Vehicle_type=Passenger<br>Latest_Launch=%{x}<br>Sales_in_thousands=%{y}<extra></extra>",
         "legendgroup": "Jaguar",
         "line": {
          "color": "#00cc96"
         },
         "marker": {
          "symbol": "circle"
         },
         "mode": "lines",
         "name": "Jaguar",
         "orientation": "v",
         "showlegend": true,
         "stackgroup": "1",
         "type": "scatter",
         "x": [
          "11/3/2012"
         ],
         "xaxis": "x",
         "y": [
          15.467
         ],
         "yaxis": "y"
        },
        {
         "hovertemplate": "Manufacturer=Jeep<br>Vehicle_type=Car<br>Latest_Launch=%{x}<br>Sales_in_thousands=%{y}<extra></extra>",
         "legendgroup": "Jeep",
         "line": {
          "color": "#ab63fa"
         },
         "marker": {
          "symbol": "circle"
         },
         "mode": "lines",
         "name": "Jeep",
         "orientation": "v",
         "showlegend": true,
         "stackgroup": "1",
         "type": "scatter",
         "x": [
          "3/4/2012",
          "10/5/2012",
          "12/10/2011"
         ],
         "xaxis": "x",
         "y": [
          55.557,
          80.556,
          157.04
         ],
         "yaxis": "y"
        },
        {
         "hovertemplate": "Manufacturer=Lexus<br>Vehicle_type=Passenger<br>Latest_Launch=%{x}<br>Sales_in_thousands=%{y}<extra></extra>",
         "legendgroup": "Lexus",
         "line": {
          "color": "#FFA15A"
         },
         "marker": {
          "symbol": "circle"
         },
         "mode": "lines",
         "name": "Lexus",
         "orientation": "v",
         "showlegend": true,
         "stackgroup": "1",
         "type": "scatter",
         "x": [
          "7/9/2012",
          "5/10/2012",
          "11/28/2012",
          "3/29/2012"
         ],
         "xaxis": "x",
         "y": [
          24.072,
          12.698,
          3.334,
          6.375
         ],
         "yaxis": "y"
        },
        {
         "hovertemplate": "Manufacturer=Lexus<br>Vehicle_type=Car<br>Latest_Launch=%{x}<br>Sales_in_thousands=%{y}<extra></extra>",
         "legendgroup": "Lexus",
         "line": {
          "color": "#FFA15A"
         },
         "marker": {
          "symbol": "circle"
         },
         "mode": "lines",
         "name": "Lexus",
         "orientation": "v",
         "showlegend": false,
         "stackgroup": "1",
         "type": "scatter",
         "x": [
          "10/30/2012",
          "1/4/2012"
         ],
         "xaxis": "x",
         "y": [
          9.126,
          51.238
         ],
         "yaxis": "y"
        },
        {
         "hovertemplate": "Manufacturer=Lincoln<br>Vehicle_type=Passenger<br>Latest_Launch=%{x}<br>Sales_in_thousands=%{y}<extra></extra>",
         "legendgroup": "Lincoln",
         "line": {
          "color": "#19d3f3"
         },
         "marker": {
          "symbol": "circle"
         },
         "mode": "lines",
         "name": "Lincoln",
         "orientation": "v",
         "showlegend": true,
         "stackgroup": "1",
         "type": "scatter",
         "x": [
          "8/3/2012",
          "6/4/2012"
         ],
         "xaxis": "x",
         "y": [
          13.798,
          48.911
         ],
         "yaxis": "y"
        },
        {
         "hovertemplate": "Manufacturer=Lincoln<br>Vehicle_type=Car<br>Latest_Launch=%{x}<br>Sales_in_thousands=%{y}<extra></extra>",
         "legendgroup": "Lincoln",
         "line": {
          "color": "#19d3f3"
         },
         "marker": {
          "symbol": "circle"
         },
         "mode": "lines",
         "name": "Lincoln",
         "orientation": "v",
         "showlegend": false,
         "stackgroup": "1",
         "type": "scatter",
         "x": [
          "12/23/2012"
         ],
         "xaxis": "x",
         "y": [
          22.925
         ],
         "yaxis": "y"
        },
        {
         "hovertemplate": "Manufacturer=Mitsubishi<br>Vehicle_type=Passenger<br>Latest_Launch=%{x}<br>Sales_in_thousands=%{y}<extra></extra>",
         "legendgroup": "Mitsubishi",
         "line": {
          "color": "#FF6692"
         },
         "marker": {
          "symbol": "circle"
         },
         "mode": "lines",
         "name": "Mitsubishi",
         "orientation": "v",
         "showlegend": true,
         "stackgroup": "1",
         "type": "scatter",
         "x": [
          "4/23/2012",
          "11/24/2012",
          "1/29/2012",
          "8/28/2012",
          "6/29/2012"
         ],
         "xaxis": "x",
         "y": [
          26.232,
          42.541,
          55.616,
          5.711,
          0.11
         ],
         "yaxis": "y"
        },
        {
         "hovertemplate": "Manufacturer=Mitsubishi<br>Vehicle_type=Car<br>Latest_Launch=%{x}<br>Sales_in_thousands=%{y}<extra></extra>",
         "legendgroup": "Mitsubishi",
         "line": {
          "color": "#FF6692"
         },
         "marker": {
          "symbol": "circle"
         },
         "mode": "lines",
         "name": "Mitsubishi",
         "orientation": "v",
         "showlegend": false,
         "stackgroup": "1",
         "type": "scatter",
         "x": [
          "1/17/2012",
          "5/18/2012"
         ],
         "xaxis": "x",
         "y": [
          11.337,
          39.348
         ],
         "yaxis": "y"
        },
        {
         "hovertemplate": "Manufacturer=Mercury<br>Vehicle_type=Passenger<br>Latest_Launch=%{x}<br>Sales_in_thousands=%{y}<extra></extra>",
         "legendgroup": "Mercury",
         "line": {
          "color": "#B6E880"
         },
         "marker": {
          "symbol": "circle"
         },
         "mode": "lines",
         "name": "Mercury",
         "orientation": "v",
         "showlegend": true,
         "stackgroup": "1",
         "type": "scatter",
         "x": [
          "12/19/2012",
          "2/23/2012",
          "9/22/2012",
          "7/24/2012"
         ],
         "xaxis": "x",
         "y": [
          14.351,
          26.529,
          67.956,
          81.174
         ],
         "yaxis": "y"
        },
        {
         "hovertemplate": "Manufacturer=Mercury<br>Vehicle_type=Car<br>Latest_Launch=%{x}<br>Sales_in_thousands=%{y}<extra></extra>",
         "legendgroup": "Mercury",
         "line": {
          "color": "#B6E880"
         },
         "marker": {
          "symbol": "circle"
         },
         "mode": "lines",
         "name": "Mercury",
         "orientation": "v",
         "showlegend": false,
         "stackgroup": "1",
         "type": "scatter",
         "x": [
          "2/13/2008",
          "10/20/2009"
         ],
         "xaxis": "x",
         "y": [
          27.609,
          20.38
         ],
         "yaxis": "y"
        },
        {
         "hovertemplate": "Manufacturer=Mercedes-B<br>Vehicle_type=Passenger<br>Latest_Launch=%{x}<br>Sales_in_thousands=%{y}<extra></extra>",
         "legendgroup": "Mercedes-B",
         "line": {
          "color": "#FF97FF"
         },
         "marker": {
          "symbol": "circle"
         },
         "mode": "lines",
         "name": "Mercedes-B",
         "orientation": "v",
         "showlegend": true,
         "stackgroup": "1",
         "type": "scatter",
         "x": [
          "4/24/2011",
          "7/12/2011",
          "6/13/2011",
          "3/17/2011",
          "1/16/2011",
          "8/6/2011",
          "7/8/2011",
          "4/11/2011"
         ],
         "xaxis": "x",
         "y": [
          18.392,
          27.602,
          16.774,
          3.311,
          7.998,
          1.526,
          11.592,
          0.954
         ],
         "yaxis": "y"
        },
        {
         "hovertemplate": "Manufacturer=Mercedes-B<br>Vehicle_type=Car<br>Latest_Launch=%{x}<br>Sales_in_thousands=%{y}<extra></extra>",
         "legendgroup": "Mercedes-B",
         "line": {
          "color": "#FF97FF"
         },
         "marker": {
          "symbol": "circle"
         },
         "mode": "lines",
         "name": "Mercedes-B",
         "orientation": "v",
         "showlegend": false,
         "stackgroup": "1",
         "type": "scatter",
         "x": [
          "2/10/2011"
         ],
         "xaxis": "x",
         "y": [
          28.976
         ],
         "yaxis": "y"
        },
        {
         "hovertemplate": "Manufacturer=Nissan<br>Vehicle_type=Passenger<br>Latest_Launch=%{x}<br>Sales_in_thousands=%{y}<extra></extra>",
         "legendgroup": "Nissan",
         "line": {
          "color": "#FECB52"
         },
         "marker": {
          "symbol": "circle"
         },
         "mode": "lines",
         "name": "Nissan",
         "orientation": "v",
         "showlegend": true,
         "stackgroup": "1",
         "type": "scatter",
         "x": [
          "8/31/2011",
          "8/2/2011",
          "5/6/2011"
         ],
         "xaxis": "x",
         "y": [
          42.643,
          88.094,
          79.853
         ],
         "yaxis": "y"
        },
        {
         "hovertemplate": "Manufacturer=Nissan<br>Vehicle_type=Car<br>Latest_Launch=%{x}<br>Sales_in_thousands=%{y}<extra></extra>",
         "legendgroup": "Nissan",
         "line": {
          "color": "#FECB52"
         },
         "marker": {
          "symbol": "circle"
         },
         "mode": "lines",
         "name": "Nissan",
         "orientation": "v",
         "showlegend": false,
         "stackgroup": "1",
         "type": "scatter",
         "x": [
          "3/7/2011",
          "9/25/2011",
          "1/24/2011",
          "8/27/2011"
         ],
         "xaxis": "x",
         "y": [
          27.308,
          42.574,
          54.158,
          65.005
         ],
         "yaxis": "y"
        },
        {
         "hovertemplate": "Manufacturer=Oldsmobile<br>Vehicle_type=Passenger<br>Latest_Launch=%{x}<br>Sales_in_thousands=%{y}<extra></extra>",
         "legendgroup": "Oldsmobile",
         "line": {
          "color": "#636efa"
         },
         "marker": {
          "symbol": "circle"
         },
         "mode": "lines",
         "name": "Oldsmobile",
         "orientation": "v",
         "showlegend": true,
         "stackgroup": "1",
         "type": "scatter",
         "x": [
          "5/31/2011",
          "4/1/2011",
          "10/20/2009",
          "2/18/2011"
         ],
         "xaxis": "x",
         "y": [
          1.112,
          38.554,
          80.255,
          14.69
         ],
         "yaxis": "y"
        },
        {
         "hovertemplate": "Manufacturer=Oldsmobile<br>Vehicle_type=Car<br>Latest_Launch=%{x}<br>Sales_in_thousands=%{y}<extra></extra>",
         "legendgroup": "Oldsmobile",
         "line": {
          "color": "#636efa"
         },
         "marker": {
          "symbol": "circle"
         },
         "mode": "lines",
         "name": "Oldsmobile",
         "orientation": "v",
         "showlegend": false,
         "stackgroup": "1",
         "type": "scatter",
         "x": [
          "9/21/2011",
          "6/25/2011"
         ],
         "xaxis": "x",
         "y": [
          20.017,
          24.361
         ],
         "yaxis": "y"
        },
        {
         "hovertemplate": "Manufacturer=Plymouth<br>Vehicle_type=Passenger<br>Latest_Launch=%{x}<br>Sales_in_thousands=%{y}<extra></extra>",
         "legendgroup": "Plymouth",
         "line": {
          "color": "#EF553B"
         },
         "marker": {
          "symbol": "circle"
         },
         "mode": "lines",
         "name": "Plymouth",
         "orientation": "v",
         "showlegend": true,
         "stackgroup": "1",
         "type": "scatter",
         "x": [
          "4/26/2011",
          "11/14/2011",
          "6/27/2012"
         ],
         "xaxis": "x",
         "y": [
          32.734,
          5.24,
          1.872
         ],
         "yaxis": "y"
        },
        {
         "hovertemplate": "Manufacturer=Plymouth<br>Vehicle_type=Car<br>Latest_Launch=%{x}<br>Sales_in_thousands=%{y}<extra></extra>",
         "legendgroup": "Plymouth",
         "line": {
          "color": "#EF553B"
         },
         "marker": {
          "symbol": "circle"
         },
         "mode": "lines",
         "name": "Plymouth",
         "orientation": "v",
         "showlegend": false,
         "stackgroup": "1",
         "type": "scatter",
         "x": [
          "4/24/2011"
         ],
         "xaxis": "x",
         "y": [
          24.155
         ],
         "yaxis": "y"
        },
        {
         "hovertemplate": "Manufacturer=Pontiac<br>Vehicle_type=Passenger<br>Latest_Launch=%{x}<br>Sales_in_thousands=%{y}<extra></extra>",
         "legendgroup": "Pontiac",
         "line": {
          "color": "#00cc96"
         },
         "marker": {
          "symbol": "circle"
         },
         "mode": "lines",
         "name": "Pontiac",
         "orientation": "v",
         "showlegend": true,
         "stackgroup": "1",
         "type": "scatter",
         "x": [
          "1/25/2012",
          "11/26/2012",
          "6/16/2012",
          "10/15/2012",
          "5/18/2011"
         ],
         "xaxis": "x",
         "y": [
          51.645,
          131.097,
          19.911,
          92.364,
          35.945
         ],
         "yaxis": "y"
        },
        {
         "hovertemplate": "Manufacturer=Pontiac<br>Vehicle_type=Car<br>Latest_Launch=%{x}<br>Sales_in_thousands=%{y}<extra></extra>",
         "legendgroup": "Pontiac",
         "line": {
          "color": "#00cc96"
         },
         "marker": {
          "symbol": "circle"
         },
         "mode": "lines",
         "name": "Pontiac",
         "orientation": "v",
         "showlegend": false,
         "stackgroup": "1",
         "type": "scatter",
         "x": [
          "7/22/2012"
         ],
         "xaxis": "x",
         "y": [
          39.572
         ],
         "yaxis": "y"
        },
        {
         "hovertemplate": "Manufacturer=Porsche<br>Vehicle_type=Passenger<br>Latest_Launch=%{x}<br>Sales_in_thousands=%{y}<extra></extra>",
         "legendgroup": "Porsche",
         "line": {
          "color": "#ab63fa"
         },
         "marker": {
          "symbol": "circle"
         },
         "mode": "lines",
         "name": "Porsche",
         "orientation": "v",
         "showlegend": true,
         "stackgroup": "1",
         "type": "scatter",
         "x": [
          "2/19/2012",
          "12/21/2012",
          "7/11/2011"
         ],
         "xaxis": "x",
         "y": [
          8.982,
          1.28,
          1.866
         ],
         "yaxis": "y"
        },
        {
         "hovertemplate": "Manufacturer=Saab<br>Vehicle_type=Passenger<br>Latest_Launch=%{x}<br>Sales_in_thousands=%{y}<extra></extra>",
         "legendgroup": "Saab",
         "line": {
          "color": "#FFA15A"
         },
         "marker": {
          "symbol": "circle"
         },
         "mode": "lines",
         "name": "Saab",
         "orientation": "v",
         "showlegend": true,
         "stackgroup": "1",
         "type": "scatter",
         "x": [
          "11/9/2012",
          "6/12/2011"
         ],
         "xaxis": "x",
         "y": [
          9.191,
          12.115
         ],
         "yaxis": "y"
        },
        {
         "hovertemplate": "Manufacturer=Saturn<br>Vehicle_type=Passenger<br>Latest_Launch=%{x}<br>Sales_in_thousands=%{y}<extra></extra>",
         "legendgroup": "Saturn",
         "line": {
          "color": "#19d3f3"
         },
         "marker": {
          "symbol": "circle"
         },
         "mode": "lines",
         "name": "Saturn",
         "orientation": "v",
         "showlegend": true,
         "stackgroup": "1",
         "type": "scatter",
         "x": [
          "8/16/2012",
          "3/16/2011",
          "1/15/2011",
          "8/5/2011",
          "12/4/2012"
         ],
         "xaxis": "x",
         "y": [
          80.62,
          24.546,
          5.223,
          8.472,
          49.989
         ],
         "yaxis": "y"
        },
        {
         "hovertemplate": "Manufacturer=Subaru<br>Vehicle_type=Passenger<br>Latest_Launch=%{x}<br>Sales_in_thousands=%{y}<extra></extra>",
         "legendgroup": "Subaru",
         "line": {
          "color": "#FF6692"
         },
         "marker": {
          "symbol": "circle"
         },
         "mode": "lines",
         "name": "Subaru",
         "orientation": "v",
         "showlegend": true,
         "stackgroup": "1",
         "type": "scatter",
         "x": [
          "7/7/2011"
         ],
         "xaxis": "x",
         "y": [
          47.107
         ],
         "yaxis": "y"
        },
        {
         "hovertemplate": "Manufacturer=Subaru<br>Vehicle_type=Car<br>Latest_Launch=%{x}<br>Sales_in_thousands=%{y}<extra></extra>",
         "legendgroup": "Subaru",
         "line": {
          "color": "#FF6692"
         },
         "marker": {
          "symbol": "circle"
         },
         "mode": "lines",
         "name": "Subaru",
         "orientation": "v",
         "showlegend": false,
         "stackgroup": "1",
         "type": "scatter",
         "x": [
          "9/10/2012"
         ],
         "xaxis": "x",
         "y": [
          33.028
         ],
         "yaxis": "y"
        },
        {
         "hovertemplate": "Manufacturer=Toyota<br>Vehicle_type=Passenger<br>Latest_Launch=%{x}<br>Sales_in_thousands=%{y}<extra></extra>",
         "legendgroup": "Toyota",
         "line": {
          "color": "#B6E880"
         },
         "marker": {
          "symbol": "circle"
         },
         "mode": "lines",
         "name": "Toyota",
         "orientation": "v",
         "showlegend": true,
         "stackgroup": "1",
         "type": "scatter",
         "x": [
          "4/11/2011",
          "2/10/2011",
          "8/31/2011",
          "12/29/2012"
         ],
         "xaxis": "x",
         "y": [
          142.535,
          247.994,
          63.849,
          33.269
         ],
         "yaxis": "y"
        },
        {
         "hovertemplate": "Manufacturer=Toyota<br>Vehicle_type=Car<br>Latest_Launch=%{x}<br>Sales_in_thousands=%{y}<extra></extra>",
         "legendgroup": "Toyota",
         "line": {
          "color": "#B6E880"
         },
         "marker": {
          "symbol": "circle"
         },
         "mode": "lines",
         "name": "Toyota",
         "orientation": "v",
         "showlegend": false,
         "stackgroup": "1",
         "type": "scatter",
         "x": [
          "8/1/2011",
          "10/5/2012",
          "5/6/2011",
          "3/7/2011",
          "9/25/2011"
         ],
         "xaxis": "x",
         "y": [
          84.087,
          65.119,
          25.106,
          68.411,
          9.835
         ],
         "yaxis": "y"
        },
        {
         "hovertemplate": "Manufacturer=Volkswagen<br>Vehicle_type=Passenger<br>Latest_Launch=%{x}<br>Sales_in_thousands=%{y}<extra></extra>",
         "legendgroup": "Volkswagen",
         "line": {
          "color": "#FF97FF"
         },
         "marker": {
          "symbol": "circle"
         },
         "mode": "lines",
         "name": "Volkswagen",
         "orientation": "v",
         "showlegend": true,
         "stackgroup": "1",
         "type": "scatter",
         "x": [
          "1/24/2011",
          "8/27/2011",
          "10/30/2012",
          "5/31/2011",
          "4/1/2011",
          "10/20/2011"
         ],
         "xaxis": "x",
         "y": [
          9.761,
          83.721,
          51.102,
          9.569,
          5.596,
          49.463
         ],
         "yaxis": "y"
        },
        {
         "hovertemplate": "Manufacturer=Volvo<br>Vehicle_type=Passenger<br>Latest_Launch=%{x}<br>Sales_in_thousands=%{y}<extra></extra>",
         "legendgroup": "Volvo",
         "line": {
          "color": "#FECB52"
         },
         "marker": {
          "symbol": "circle"
         },
         "mode": "lines",
         "name": "Volvo",
         "orientation": "v",
         "showlegend": true,
         "stackgroup": "1",
         "type": "scatter",
         "x": [
          "2/18/2011",
          "9/21/2011",
          "11/24/2012",
          "6/25/2011",
          "4/26/2011",
          "11/14/2011"
         ],
         "xaxis": "x",
         "y": [
          16.957,
          3.545,
          15.245,
          17.531,
          3.493,
          18.969
         ],
         "yaxis": "y"
        }
       ],
       "layout": {
        "legend": {
         "title": {
          "text": "Manufacturer"
         },
         "tracegroupgap": 0
        },
        "template": {
         "data": {
          "bar": [
           {
            "error_x": {
             "color": "#2a3f5f"
            },
            "error_y": {
             "color": "#2a3f5f"
            },
            "marker": {
             "line": {
              "color": "#E5ECF6",
              "width": 0.5
             },
             "pattern": {
              "fillmode": "overlay",
              "size": 10,
              "solidity": 0.2
             }
            },
            "type": "bar"
           }
          ],
          "barpolar": [
           {
            "marker": {
             "line": {
              "color": "#E5ECF6",
              "width": 0.5
             },
             "pattern": {
              "fillmode": "overlay",
              "size": 10,
              "solidity": 0.2
             }
            },
            "type": "barpolar"
           }
          ],
          "carpet": [
           {
            "aaxis": {
             "endlinecolor": "#2a3f5f",
             "gridcolor": "white",
             "linecolor": "white",
             "minorgridcolor": "white",
             "startlinecolor": "#2a3f5f"
            },
            "baxis": {
             "endlinecolor": "#2a3f5f",
             "gridcolor": "white",
             "linecolor": "white",
             "minorgridcolor": "white",
             "startlinecolor": "#2a3f5f"
            },
            "type": "carpet"
           }
          ],
          "choropleth": [
           {
            "colorbar": {
             "outlinewidth": 0,
             "ticks": ""
            },
            "type": "choropleth"
           }
          ],
          "contour": [
           {
            "colorbar": {
             "outlinewidth": 0,
             "ticks": ""
            },
            "colorscale": [
             [
              0,
              "#0d0887"
             ],
             [
              0.1111111111111111,
              "#46039f"
             ],
             [
              0.2222222222222222,
              "#7201a8"
             ],
             [
              0.3333333333333333,
              "#9c179e"
             ],
             [
              0.4444444444444444,
              "#bd3786"
             ],
             [
              0.5555555555555556,
              "#d8576b"
             ],
             [
              0.6666666666666666,
              "#ed7953"
             ],
             [
              0.7777777777777778,
              "#fb9f3a"
             ],
             [
              0.8888888888888888,
              "#fdca26"
             ],
             [
              1,
              "#f0f921"
             ]
            ],
            "type": "contour"
           }
          ],
          "contourcarpet": [
           {
            "colorbar": {
             "outlinewidth": 0,
             "ticks": ""
            },
            "type": "contourcarpet"
           }
          ],
          "heatmap": [
           {
            "colorbar": {
             "outlinewidth": 0,
             "ticks": ""
            },
            "colorscale": [
             [
              0,
              "#0d0887"
             ],
             [
              0.1111111111111111,
              "#46039f"
             ],
             [
              0.2222222222222222,
              "#7201a8"
             ],
             [
              0.3333333333333333,
              "#9c179e"
             ],
             [
              0.4444444444444444,
              "#bd3786"
             ],
             [
              0.5555555555555556,
              "#d8576b"
             ],
             [
              0.6666666666666666,
              "#ed7953"
             ],
             [
              0.7777777777777778,
              "#fb9f3a"
             ],
             [
              0.8888888888888888,
              "#fdca26"
             ],
             [
              1,
              "#f0f921"
             ]
            ],
            "type": "heatmap"
           }
          ],
          "heatmapgl": [
           {
            "colorbar": {
             "outlinewidth": 0,
             "ticks": ""
            },
            "colorscale": [
             [
              0,
              "#0d0887"
             ],
             [
              0.1111111111111111,
              "#46039f"
             ],
             [
              0.2222222222222222,
              "#7201a8"
             ],
             [
              0.3333333333333333,
              "#9c179e"
             ],
             [
              0.4444444444444444,
              "#bd3786"
             ],
             [
              0.5555555555555556,
              "#d8576b"
             ],
             [
              0.6666666666666666,
              "#ed7953"
             ],
             [
              0.7777777777777778,
              "#fb9f3a"
             ],
             [
              0.8888888888888888,
              "#fdca26"
             ],
             [
              1,
              "#f0f921"
             ]
            ],
            "type": "heatmapgl"
           }
          ],
          "histogram": [
           {
            "marker": {
             "pattern": {
              "fillmode": "overlay",
              "size": 10,
              "solidity": 0.2
             }
            },
            "type": "histogram"
           }
          ],
          "histogram2d": [
           {
            "colorbar": {
             "outlinewidth": 0,
             "ticks": ""
            },
            "colorscale": [
             [
              0,
              "#0d0887"
             ],
             [
              0.1111111111111111,
              "#46039f"
             ],
             [
              0.2222222222222222,
              "#7201a8"
             ],
             [
              0.3333333333333333,
              "#9c179e"
             ],
             [
              0.4444444444444444,
              "#bd3786"
             ],
             [
              0.5555555555555556,
              "#d8576b"
             ],
             [
              0.6666666666666666,
              "#ed7953"
             ],
             [
              0.7777777777777778,
              "#fb9f3a"
             ],
             [
              0.8888888888888888,
              "#fdca26"
             ],
             [
              1,
              "#f0f921"
             ]
            ],
            "type": "histogram2d"
           }
          ],
          "histogram2dcontour": [
           {
            "colorbar": {
             "outlinewidth": 0,
             "ticks": ""
            },
            "colorscale": [
             [
              0,
              "#0d0887"
             ],
             [
              0.1111111111111111,
              "#46039f"
             ],
             [
              0.2222222222222222,
              "#7201a8"
             ],
             [
              0.3333333333333333,
              "#9c179e"
             ],
             [
              0.4444444444444444,
              "#bd3786"
             ],
             [
              0.5555555555555556,
              "#d8576b"
             ],
             [
              0.6666666666666666,
              "#ed7953"
             ],
             [
              0.7777777777777778,
              "#fb9f3a"
             ],
             [
              0.8888888888888888,
              "#fdca26"
             ],
             [
              1,
              "#f0f921"
             ]
            ],
            "type": "histogram2dcontour"
           }
          ],
          "mesh3d": [
           {
            "colorbar": {
             "outlinewidth": 0,
             "ticks": ""
            },
            "type": "mesh3d"
           }
          ],
          "parcoords": [
           {
            "line": {
             "colorbar": {
              "outlinewidth": 0,
              "ticks": ""
             }
            },
            "type": "parcoords"
           }
          ],
          "pie": [
           {
            "automargin": true,
            "type": "pie"
           }
          ],
          "scatter": [
           {
            "marker": {
             "colorbar": {
              "outlinewidth": 0,
              "ticks": ""
             }
            },
            "type": "scatter"
           }
          ],
          "scatter3d": [
           {
            "line": {
             "colorbar": {
              "outlinewidth": 0,
              "ticks": ""
             }
            },
            "marker": {
             "colorbar": {
              "outlinewidth": 0,
              "ticks": ""
             }
            },
            "type": "scatter3d"
           }
          ],
          "scattercarpet": [
           {
            "marker": {
             "colorbar": {
              "outlinewidth": 0,
              "ticks": ""
             }
            },
            "type": "scattercarpet"
           }
          ],
          "scattergeo": [
           {
            "marker": {
             "colorbar": {
              "outlinewidth": 0,
              "ticks": ""
             }
            },
            "type": "scattergeo"
           }
          ],
          "scattergl": [
           {
            "marker": {
             "colorbar": {
              "outlinewidth": 0,
              "ticks": ""
             }
            },
            "type": "scattergl"
           }
          ],
          "scattermapbox": [
           {
            "marker": {
             "colorbar": {
              "outlinewidth": 0,
              "ticks": ""
             }
            },
            "type": "scattermapbox"
           }
          ],
          "scatterpolar": [
           {
            "marker": {
             "colorbar": {
              "outlinewidth": 0,
              "ticks": ""
             }
            },
            "type": "scatterpolar"
           }
          ],
          "scatterpolargl": [
           {
            "marker": {
             "colorbar": {
              "outlinewidth": 0,
              "ticks": ""
             }
            },
            "type": "scatterpolargl"
           }
          ],
          "scatterternary": [
           {
            "marker": {
             "colorbar": {
              "outlinewidth": 0,
              "ticks": ""
             }
            },
            "type": "scatterternary"
           }
          ],
          "surface": [
           {
            "colorbar": {
             "outlinewidth": 0,
             "ticks": ""
            },
            "colorscale": [
             [
              0,
              "#0d0887"
             ],
             [
              0.1111111111111111,
              "#46039f"
             ],
             [
              0.2222222222222222,
              "#7201a8"
             ],
             [
              0.3333333333333333,
              "#9c179e"
             ],
             [
              0.4444444444444444,
              "#bd3786"
             ],
             [
              0.5555555555555556,
              "#d8576b"
             ],
             [
              0.6666666666666666,
              "#ed7953"
             ],
             [
              0.7777777777777778,
              "#fb9f3a"
             ],
             [
              0.8888888888888888,
              "#fdca26"
             ],
             [
              1,
              "#f0f921"
             ]
            ],
            "type": "surface"
           }
          ],
          "table": [
           {
            "cells": {
             "fill": {
              "color": "#EBF0F8"
             },
             "line": {
              "color": "white"
             }
            },
            "header": {
             "fill": {
              "color": "#C8D4E3"
             },
             "line": {
              "color": "white"
             }
            },
            "type": "table"
           }
          ]
         },
         "layout": {
          "annotationdefaults": {
           "arrowcolor": "#2a3f5f",
           "arrowhead": 0,
           "arrowwidth": 1
          },
          "autotypenumbers": "strict",
          "coloraxis": {
           "colorbar": {
            "outlinewidth": 0,
            "ticks": ""
           }
          },
          "colorscale": {
           "diverging": [
            [
             0,
             "#8e0152"
            ],
            [
             0.1,
             "#c51b7d"
            ],
            [
             0.2,
             "#de77ae"
            ],
            [
             0.3,
             "#f1b6da"
            ],
            [
             0.4,
             "#fde0ef"
            ],
            [
             0.5,
             "#f7f7f7"
            ],
            [
             0.6,
             "#e6f5d0"
            ],
            [
             0.7,
             "#b8e186"
            ],
            [
             0.8,
             "#7fbc41"
            ],
            [
             0.9,
             "#4d9221"
            ],
            [
             1,
             "#276419"
            ]
           ],
           "sequential": [
            [
             0,
             "#0d0887"
            ],
            [
             0.1111111111111111,
             "#46039f"
            ],
            [
             0.2222222222222222,
             "#7201a8"
            ],
            [
             0.3333333333333333,
             "#9c179e"
            ],
            [
             0.4444444444444444,
             "#bd3786"
            ],
            [
             0.5555555555555556,
             "#d8576b"
            ],
            [
             0.6666666666666666,
             "#ed7953"
            ],
            [
             0.7777777777777778,
             "#fb9f3a"
            ],
            [
             0.8888888888888888,
             "#fdca26"
            ],
            [
             1,
             "#f0f921"
            ]
           ],
           "sequentialminus": [
            [
             0,
             "#0d0887"
            ],
            [
             0.1111111111111111,
             "#46039f"
            ],
            [
             0.2222222222222222,
             "#7201a8"
            ],
            [
             0.3333333333333333,
             "#9c179e"
            ],
            [
             0.4444444444444444,
             "#bd3786"
            ],
            [
             0.5555555555555556,
             "#d8576b"
            ],
            [
             0.6666666666666666,
             "#ed7953"
            ],
            [
             0.7777777777777778,
             "#fb9f3a"
            ],
            [
             0.8888888888888888,
             "#fdca26"
            ],
            [
             1,
             "#f0f921"
            ]
           ]
          },
          "colorway": [
           "#636efa",
           "#EF553B",
           "#00cc96",
           "#ab63fa",
           "#FFA15A",
           "#19d3f3",
           "#FF6692",
           "#B6E880",
           "#FF97FF",
           "#FECB52"
          ],
          "font": {
           "color": "#2a3f5f"
          },
          "geo": {
           "bgcolor": "white",
           "lakecolor": "white",
           "landcolor": "#E5ECF6",
           "showlakes": true,
           "showland": true,
           "subunitcolor": "white"
          },
          "hoverlabel": {
           "align": "left"
          },
          "hovermode": "closest",
          "mapbox": {
           "style": "light"
          },
          "paper_bgcolor": "white",
          "plot_bgcolor": "#E5ECF6",
          "polar": {
           "angularaxis": {
            "gridcolor": "white",
            "linecolor": "white",
            "ticks": ""
           },
           "bgcolor": "#E5ECF6",
           "radialaxis": {
            "gridcolor": "white",
            "linecolor": "white",
            "ticks": ""
           }
          },
          "scene": {
           "xaxis": {
            "backgroundcolor": "#E5ECF6",
            "gridcolor": "white",
            "gridwidth": 2,
            "linecolor": "white",
            "showbackground": true,
            "ticks": "",
            "zerolinecolor": "white"
           },
           "yaxis": {
            "backgroundcolor": "#E5ECF6",
            "gridcolor": "white",
            "gridwidth": 2,
            "linecolor": "white",
            "showbackground": true,
            "ticks": "",
            "zerolinecolor": "white"
           },
           "zaxis": {
            "backgroundcolor": "#E5ECF6",
            "gridcolor": "white",
            "gridwidth": 2,
            "linecolor": "white",
            "showbackground": true,
            "ticks": "",
            "zerolinecolor": "white"
           }
          },
          "shapedefaults": {
           "line": {
            "color": "#2a3f5f"
           }
          },
          "ternary": {
           "aaxis": {
            "gridcolor": "white",
            "linecolor": "white",
            "ticks": ""
           },
           "baxis": {
            "gridcolor": "white",
            "linecolor": "white",
            "ticks": ""
           },
           "bgcolor": "#E5ECF6",
           "caxis": {
            "gridcolor": "white",
            "linecolor": "white",
            "ticks": ""
           }
          },
          "title": {
           "x": 0.05
          },
          "xaxis": {
           "automargin": true,
           "gridcolor": "white",
           "linecolor": "white",
           "ticks": "",
           "title": {
            "standoff": 15
           },
           "zerolinecolor": "white",
           "zerolinewidth": 2
          },
          "yaxis": {
           "automargin": true,
           "gridcolor": "white",
           "linecolor": "white",
           "ticks": "",
           "title": {
            "standoff": 15
           },
           "zerolinecolor": "white",
           "zerolinewidth": 2
          }
         }
        },
        "title": {
         "text": "Area Chart"
        },
        "xaxis": {
         "anchor": "y",
         "domain": [
          0,
          1
         ],
         "title": {
          "text": "Latest_Launch"
         }
        },
        "yaxis": {
         "anchor": "x",
         "domain": [
          0,
          1
         ],
         "title": {
          "text": "Sales_in_thousands"
         }
        }
       }
      }
     },
     "metadata": {},
     "output_type": "display_data"
    }
   ],
   "source": [
    "code = f\"\"\"\n",
    "\n",
    "params = {out['charts'][5]['parameters']}\n",
    "params['data_frame'] = df\n",
    "params['title'] = \"{out['charts'][5]['title']}\"\n",
    "\n",
    "fig = {out['charts'][5]['chartType']}(**params)\n",
    "\n",
    "fig.show()\n",
    "\"\"\"\n",
    "\n",
    "exec(code)"
   ]
  },
  {
   "cell_type": "code",
   "execution_count": 317,
   "metadata": {},
   "outputs": [
    {
     "data": {
      "application/vnd.plotly.v1+json": {
       "config": {
        "plotlyServerURL": "https://plot.ly"
       },
       "data": [
        {
         "dimensions": [
          {
           "axis": {
            "matches": true
           },
           "label": "Price_in_thousands",
           "values": [
            21.5,
            28.4,
            null,
            42,
            23.99,
            33.95,
            62,
            26.99,
            33.4,
            38.9,
            21.975,
            25.3,
            31.965,
            27.885,
            39.895,
            44.475,
            39.665,
            31.01,
            46.225,
            13.26,
            16.535,
            18.89,
            19.39,
            24.34,
            45.705,
            13.96,
            9.235,
            18.89,
            19.84,
            24.495,
            22.245,
            16.48,
            28.34,
            null,
            29.185,
            12.64,
            19.045,
            20.23,
            22.505,
            69.725,
            19.46,
            21.315,
            18.575,
            16.98,
            26.31,
            19.565,
            12.07,
            21.56,
            17.035,
            17.885,
            12.315,
            22.195,
            31.93,
            21.41,
            36.135,
            12.05,
            26.935,
            12.885,
            15.35,
            20.55,
            26.6,
            26,
            9.699,
            11.799,
            14.999,
            29.465,
            42.8,
            14.46,
            21.62,
            26.895,
            31.505,
            37.805,
            46.305,
            54.005,
            60.105,
            34.605,
            39.08,
            43.33,
            42.66,
            13.987,
            19.047,
            17.357,
            24.997,
            25.45,
            31.807,
            22.527,
            16.24,
            16.54,
            19.035,
            22.605,
            27.56,
            22.51,
            31.75,
            49.9,
            69.7,
            82.6,
            38.9,
            41,
            41.6,
            85.5,
            35.3,
            13.499,
            20.39,
            26.249,
            26.399,
            29.299,
            22.799,
            17.89,
            18.145,
            24.15,
            18.27,
            36.229,
            31.598,
            25.345,
            12.64,
            16.08,
            18.85,
            43,
            21.61,
            19.72,
            25.31,
            21.665,
            23.755,
            25.635,
            41.43,
            71.02,
            74.97,
            33.12,
            26.1,
            10.685,
            12.535,
            14.29,
            18.835,
            15.01,
            22.695,
            20.095,
            13.108,
            17.518,
            25.545,
            16.875,
            11.528,
            22.368,
            16.888,
            22.288,
            51.728,
            14.9,
            16.7,
            21.2,
            19.99,
            17.5,
            15.9,
            23.4,
            24.4,
            27.5,
            28.8,
            45.5,
            36
           ]
          },
          {
           "axis": {
            "matches": true
           },
           "label": "Horsepower",
           "values": [
            140,
            225,
            225,
            210,
            150,
            200,
            310,
            170,
            193,
            193,
            175,
            240,
            205,
            205,
            275,
            275,
            275,
            200,
            255,
            115,
            170,
            175,
            180,
            200,
            345,
            120,
            55,
            180,
            163,
            168,
            200,
            132,
            253,
            null,
            253,
            132,
            163,
            168,
            202,
            450,
            230,
            175,
            175,
            120,
            230,
            150,
            110,
            190,
            170,
            155,
            107,
            200,
            210,
            150,
            240,
            119,
            220,
            106,
            135,
            146,
            205,
            210,
            92,
            140,
            148,
            227,
            240,
            120,
            190,
            195,
            210,
            225,
            300,
            290,
            230,
            220,
            275,
            215,
            300,
            113,
            154,
            145,
            210,
            161,
            200,
            173,
            125,
            125,
            153,
            200,
            210,
            170,
            185,
            221,
            275,
            302,
            190,
            185,
            215,
            302,
            215,
            126,
            155,
            222,
            170,
            170,
            170,
            170,
            150,
            215,
            150,
            250,
            190,
            185,
            132,
            132,
            150,
            253,
            150,
            175,
            200,
            195,
            205,
            185,
            217,
            300,
            300,
            170,
            185,
            100,
            100,
            124,
            137,
            137,
            165,
            165,
            120,
            133,
            210,
            140,
            142,
            194,
            127,
            150,
            230,
            115,
            115,
            150,
            115,
            115,
            115,
            160,
            160,
            168,
            168,
            236,
            201
           ]
          },
          {
           "axis": {
            "matches": true
           },
           "label": "Curb_weight",
           "values": [
            2.639,
            3.517,
            3.47,
            3.85,
            2.998,
            3.561,
            3.902,
            3.179,
            3.197,
            3.472,
            3.368,
            3.543,
            3.778,
            3.591,
            3.978,
            null,
            3.843,
            3.77,
            5.572,
            2.676,
            3.051,
            3.33,
            3.34,
            3.5,
            3.21,
            2.398,
            1.895,
            3.389,
            2.967,
            3.332,
            3.452,
            2.911,
            3.564,
            null,
            3.567,
            2.567,
            2.879,
            3.058,
            3.489,
            3.375,
            4.47,
            4.245,
            4.298,
            3.557,
            4.394,
            3.533,
            2.468,
            3.203,
            2.769,
            3.368,
            2.564,
            3.908,
            3.876,
            3.761,
            4.808,
            3.086,
            4.241,
            2.339,
            2.932,
            3.219,
            3.857,
            4.288,
            2.24,
            2.626,
            3.072,
            3.342,
            3.65,
            3.045,
            3.194,
            3.88,
            3.373,
            3.638,
            3.693,
            3.89,
            5.401,
            3.9,
            3.868,
            4.121,
            5.393,
            2.25,
            2.91,
            2.945,
            3.443,
            3.131,
            4.52,
            3.51,
            2.769,
            2.892,
            3.379,
            3.958,
            3.876,
            3.944,
            3.25,
            3.823,
            4.133,
            4.125,
            3.055,
            2.975,
            3.213,
            4.115,
            4.387,
            2.593,
            3.012,
            3.294,
            3.991,
            3.947,
            3.821,
            3.217,
            3.102,
            3.455,
            2.958,
            3.967,
            4.068,
            3.948,
            2.559,
            2.942,
            3.528,
            2.85,
            2.906,
            3.091,
            3.492,
            3.396,
            3.59,
            3.942,
            2.778,
            3.032,
            3.075,
            3.28,
            2.99,
            2.332,
            2.367,
            2.452,
            3.075,
            2.91,
            3.415,
            3.125,
            2.42,
            2.998,
            3.417,
            2.425,
            2.58,
            3.759,
            2.668,
            3.44,
            5.115,
            2.767,
            2.853,
            3.043,
            3.079,
            2.762,
            2.769,
            2.998,
            3.042,
            3.208,
            3.259,
            3.601,
            3.6
           ]
          }
         ],
         "hovertemplate": "%{xaxis.title.text}=%{x}<br>%{yaxis.title.text}=%{y}<extra></extra>",
         "legendgroup": "",
         "marker": {
          "color": "#636efa",
          "symbol": "circle"
         },
         "name": "",
         "showlegend": false,
         "type": "splom"
        }
       ],
       "layout": {
        "dragmode": "select",
        "legend": {
         "tracegroupgap": 0
        },
        "template": {
         "data": {
          "bar": [
           {
            "error_x": {
             "color": "#2a3f5f"
            },
            "error_y": {
             "color": "#2a3f5f"
            },
            "marker": {
             "line": {
              "color": "#E5ECF6",
              "width": 0.5
             },
             "pattern": {
              "fillmode": "overlay",
              "size": 10,
              "solidity": 0.2
             }
            },
            "type": "bar"
           }
          ],
          "barpolar": [
           {
            "marker": {
             "line": {
              "color": "#E5ECF6",
              "width": 0.5
             },
             "pattern": {
              "fillmode": "overlay",
              "size": 10,
              "solidity": 0.2
             }
            },
            "type": "barpolar"
           }
          ],
          "carpet": [
           {
            "aaxis": {
             "endlinecolor": "#2a3f5f",
             "gridcolor": "white",
             "linecolor": "white",
             "minorgridcolor": "white",
             "startlinecolor": "#2a3f5f"
            },
            "baxis": {
             "endlinecolor": "#2a3f5f",
             "gridcolor": "white",
             "linecolor": "white",
             "minorgridcolor": "white",
             "startlinecolor": "#2a3f5f"
            },
            "type": "carpet"
           }
          ],
          "choropleth": [
           {
            "colorbar": {
             "outlinewidth": 0,
             "ticks": ""
            },
            "type": "choropleth"
           }
          ],
          "contour": [
           {
            "colorbar": {
             "outlinewidth": 0,
             "ticks": ""
            },
            "colorscale": [
             [
              0,
              "#0d0887"
             ],
             [
              0.1111111111111111,
              "#46039f"
             ],
             [
              0.2222222222222222,
              "#7201a8"
             ],
             [
              0.3333333333333333,
              "#9c179e"
             ],
             [
              0.4444444444444444,
              "#bd3786"
             ],
             [
              0.5555555555555556,
              "#d8576b"
             ],
             [
              0.6666666666666666,
              "#ed7953"
             ],
             [
              0.7777777777777778,
              "#fb9f3a"
             ],
             [
              0.8888888888888888,
              "#fdca26"
             ],
             [
              1,
              "#f0f921"
             ]
            ],
            "type": "contour"
           }
          ],
          "contourcarpet": [
           {
            "colorbar": {
             "outlinewidth": 0,
             "ticks": ""
            },
            "type": "contourcarpet"
           }
          ],
          "heatmap": [
           {
            "colorbar": {
             "outlinewidth": 0,
             "ticks": ""
            },
            "colorscale": [
             [
              0,
              "#0d0887"
             ],
             [
              0.1111111111111111,
              "#46039f"
             ],
             [
              0.2222222222222222,
              "#7201a8"
             ],
             [
              0.3333333333333333,
              "#9c179e"
             ],
             [
              0.4444444444444444,
              "#bd3786"
             ],
             [
              0.5555555555555556,
              "#d8576b"
             ],
             [
              0.6666666666666666,
              "#ed7953"
             ],
             [
              0.7777777777777778,
              "#fb9f3a"
             ],
             [
              0.8888888888888888,
              "#fdca26"
             ],
             [
              1,
              "#f0f921"
             ]
            ],
            "type": "heatmap"
           }
          ],
          "heatmapgl": [
           {
            "colorbar": {
             "outlinewidth": 0,
             "ticks": ""
            },
            "colorscale": [
             [
              0,
              "#0d0887"
             ],
             [
              0.1111111111111111,
              "#46039f"
             ],
             [
              0.2222222222222222,
              "#7201a8"
             ],
             [
              0.3333333333333333,
              "#9c179e"
             ],
             [
              0.4444444444444444,
              "#bd3786"
             ],
             [
              0.5555555555555556,
              "#d8576b"
             ],
             [
              0.6666666666666666,
              "#ed7953"
             ],
             [
              0.7777777777777778,
              "#fb9f3a"
             ],
             [
              0.8888888888888888,
              "#fdca26"
             ],
             [
              1,
              "#f0f921"
             ]
            ],
            "type": "heatmapgl"
           }
          ],
          "histogram": [
           {
            "marker": {
             "pattern": {
              "fillmode": "overlay",
              "size": 10,
              "solidity": 0.2
             }
            },
            "type": "histogram"
           }
          ],
          "histogram2d": [
           {
            "colorbar": {
             "outlinewidth": 0,
             "ticks": ""
            },
            "colorscale": [
             [
              0,
              "#0d0887"
             ],
             [
              0.1111111111111111,
              "#46039f"
             ],
             [
              0.2222222222222222,
              "#7201a8"
             ],
             [
              0.3333333333333333,
              "#9c179e"
             ],
             [
              0.4444444444444444,
              "#bd3786"
             ],
             [
              0.5555555555555556,
              "#d8576b"
             ],
             [
              0.6666666666666666,
              "#ed7953"
             ],
             [
              0.7777777777777778,
              "#fb9f3a"
             ],
             [
              0.8888888888888888,
              "#fdca26"
             ],
             [
              1,
              "#f0f921"
             ]
            ],
            "type": "histogram2d"
           }
          ],
          "histogram2dcontour": [
           {
            "colorbar": {
             "outlinewidth": 0,
             "ticks": ""
            },
            "colorscale": [
             [
              0,
              "#0d0887"
             ],
             [
              0.1111111111111111,
              "#46039f"
             ],
             [
              0.2222222222222222,
              "#7201a8"
             ],
             [
              0.3333333333333333,
              "#9c179e"
             ],
             [
              0.4444444444444444,
              "#bd3786"
             ],
             [
              0.5555555555555556,
              "#d8576b"
             ],
             [
              0.6666666666666666,
              "#ed7953"
             ],
             [
              0.7777777777777778,
              "#fb9f3a"
             ],
             [
              0.8888888888888888,
              "#fdca26"
             ],
             [
              1,
              "#f0f921"
             ]
            ],
            "type": "histogram2dcontour"
           }
          ],
          "mesh3d": [
           {
            "colorbar": {
             "outlinewidth": 0,
             "ticks": ""
            },
            "type": "mesh3d"
           }
          ],
          "parcoords": [
           {
            "line": {
             "colorbar": {
              "outlinewidth": 0,
              "ticks": ""
             }
            },
            "type": "parcoords"
           }
          ],
          "pie": [
           {
            "automargin": true,
            "type": "pie"
           }
          ],
          "scatter": [
           {
            "marker": {
             "colorbar": {
              "outlinewidth": 0,
              "ticks": ""
             }
            },
            "type": "scatter"
           }
          ],
          "scatter3d": [
           {
            "line": {
             "colorbar": {
              "outlinewidth": 0,
              "ticks": ""
             }
            },
            "marker": {
             "colorbar": {
              "outlinewidth": 0,
              "ticks": ""
             }
            },
            "type": "scatter3d"
           }
          ],
          "scattercarpet": [
           {
            "marker": {
             "colorbar": {
              "outlinewidth": 0,
              "ticks": ""
             }
            },
            "type": "scattercarpet"
           }
          ],
          "scattergeo": [
           {
            "marker": {
             "colorbar": {
              "outlinewidth": 0,
              "ticks": ""
             }
            },
            "type": "scattergeo"
           }
          ],
          "scattergl": [
           {
            "marker": {
             "colorbar": {
              "outlinewidth": 0,
              "ticks": ""
             }
            },
            "type": "scattergl"
           }
          ],
          "scattermapbox": [
           {
            "marker": {
             "colorbar": {
              "outlinewidth": 0,
              "ticks": ""
             }
            },
            "type": "scattermapbox"
           }
          ],
          "scatterpolar": [
           {
            "marker": {
             "colorbar": {
              "outlinewidth": 0,
              "ticks": ""
             }
            },
            "type": "scatterpolar"
           }
          ],
          "scatterpolargl": [
           {
            "marker": {
             "colorbar": {
              "outlinewidth": 0,
              "ticks": ""
             }
            },
            "type": "scatterpolargl"
           }
          ],
          "scatterternary": [
           {
            "marker": {
             "colorbar": {
              "outlinewidth": 0,
              "ticks": ""
             }
            },
            "type": "scatterternary"
           }
          ],
          "surface": [
           {
            "colorbar": {
             "outlinewidth": 0,
             "ticks": ""
            },
            "colorscale": [
             [
              0,
              "#0d0887"
             ],
             [
              0.1111111111111111,
              "#46039f"
             ],
             [
              0.2222222222222222,
              "#7201a8"
             ],
             [
              0.3333333333333333,
              "#9c179e"
             ],
             [
              0.4444444444444444,
              "#bd3786"
             ],
             [
              0.5555555555555556,
              "#d8576b"
             ],
             [
              0.6666666666666666,
              "#ed7953"
             ],
             [
              0.7777777777777778,
              "#fb9f3a"
             ],
             [
              0.8888888888888888,
              "#fdca26"
             ],
             [
              1,
              "#f0f921"
             ]
            ],
            "type": "surface"
           }
          ],
          "table": [
           {
            "cells": {
             "fill": {
              "color": "#EBF0F8"
             },
             "line": {
              "color": "white"
             }
            },
            "header": {
             "fill": {
              "color": "#C8D4E3"
             },
             "line": {
              "color": "white"
             }
            },
            "type": "table"
           }
          ]
         },
         "layout": {
          "annotationdefaults": {
           "arrowcolor": "#2a3f5f",
           "arrowhead": 0,
           "arrowwidth": 1
          },
          "autotypenumbers": "strict",
          "coloraxis": {
           "colorbar": {
            "outlinewidth": 0,
            "ticks": ""
           }
          },
          "colorscale": {
           "diverging": [
            [
             0,
             "#8e0152"
            ],
            [
             0.1,
             "#c51b7d"
            ],
            [
             0.2,
             "#de77ae"
            ],
            [
             0.3,
             "#f1b6da"
            ],
            [
             0.4,
             "#fde0ef"
            ],
            [
             0.5,
             "#f7f7f7"
            ],
            [
             0.6,
             "#e6f5d0"
            ],
            [
             0.7,
             "#b8e186"
            ],
            [
             0.8,
             "#7fbc41"
            ],
            [
             0.9,
             "#4d9221"
            ],
            [
             1,
             "#276419"
            ]
           ],
           "sequential": [
            [
             0,
             "#0d0887"
            ],
            [
             0.1111111111111111,
             "#46039f"
            ],
            [
             0.2222222222222222,
             "#7201a8"
            ],
            [
             0.3333333333333333,
             "#9c179e"
            ],
            [
             0.4444444444444444,
             "#bd3786"
            ],
            [
             0.5555555555555556,
             "#d8576b"
            ],
            [
             0.6666666666666666,
             "#ed7953"
            ],
            [
             0.7777777777777778,
             "#fb9f3a"
            ],
            [
             0.8888888888888888,
             "#fdca26"
            ],
            [
             1,
             "#f0f921"
            ]
           ],
           "sequentialminus": [
            [
             0,
             "#0d0887"
            ],
            [
             0.1111111111111111,
             "#46039f"
            ],
            [
             0.2222222222222222,
             "#7201a8"
            ],
            [
             0.3333333333333333,
             "#9c179e"
            ],
            [
             0.4444444444444444,
             "#bd3786"
            ],
            [
             0.5555555555555556,
             "#d8576b"
            ],
            [
             0.6666666666666666,
             "#ed7953"
            ],
            [
             0.7777777777777778,
             "#fb9f3a"
            ],
            [
             0.8888888888888888,
             "#fdca26"
            ],
            [
             1,
             "#f0f921"
            ]
           ]
          },
          "colorway": [
           "#636efa",
           "#EF553B",
           "#00cc96",
           "#ab63fa",
           "#FFA15A",
           "#19d3f3",
           "#FF6692",
           "#B6E880",
           "#FF97FF",
           "#FECB52"
          ],
          "font": {
           "color": "#2a3f5f"
          },
          "geo": {
           "bgcolor": "white",
           "lakecolor": "white",
           "landcolor": "#E5ECF6",
           "showlakes": true,
           "showland": true,
           "subunitcolor": "white"
          },
          "hoverlabel": {
           "align": "left"
          },
          "hovermode": "closest",
          "mapbox": {
           "style": "light"
          },
          "paper_bgcolor": "white",
          "plot_bgcolor": "#E5ECF6",
          "polar": {
           "angularaxis": {
            "gridcolor": "white",
            "linecolor": "white",
            "ticks": ""
           },
           "bgcolor": "#E5ECF6",
           "radialaxis": {
            "gridcolor": "white",
            "linecolor": "white",
            "ticks": ""
           }
          },
          "scene": {
           "xaxis": {
            "backgroundcolor": "#E5ECF6",
            "gridcolor": "white",
            "gridwidth": 2,
            "linecolor": "white",
            "showbackground": true,
            "ticks": "",
            "zerolinecolor": "white"
           },
           "yaxis": {
            "backgroundcolor": "#E5ECF6",
            "gridcolor": "white",
            "gridwidth": 2,
            "linecolor": "white",
            "showbackground": true,
            "ticks": "",
            "zerolinecolor": "white"
           },
           "zaxis": {
            "backgroundcolor": "#E5ECF6",
            "gridcolor": "white",
            "gridwidth": 2,
            "linecolor": "white",
            "showbackground": true,
            "ticks": "",
            "zerolinecolor": "white"
           }
          },
          "shapedefaults": {
           "line": {
            "color": "#2a3f5f"
           }
          },
          "ternary": {
           "aaxis": {
            "gridcolor": "white",
            "linecolor": "white",
            "ticks": ""
           },
           "baxis": {
            "gridcolor": "white",
            "linecolor": "white",
            "ticks": ""
           },
           "bgcolor": "#E5ECF6",
           "caxis": {
            "gridcolor": "white",
            "linecolor": "white",
            "ticks": ""
           }
          },
          "title": {
           "x": 0.05
          },
          "xaxis": {
           "automargin": true,
           "gridcolor": "white",
           "linecolor": "white",
           "ticks": "",
           "title": {
            "standoff": 15
           },
           "zerolinecolor": "white",
           "zerolinewidth": 2
          },
          "yaxis": {
           "automargin": true,
           "gridcolor": "white",
           "linecolor": "white",
           "ticks": "",
           "title": {
            "standoff": 15
           },
           "zerolinecolor": "white",
           "zerolinewidth": 2
          }
         }
        },
        "title": {
         "text": "Scatter Matrix"
        }
       }
      }
     },
     "metadata": {},
     "output_type": "display_data"
    }
   ],
   "source": [
    "code = f\"\"\"\n",
    "\n",
    "params = {out['charts'][6]['parameters']}\n",
    "params['data_frame'] = df\n",
    "params['title'] = \"{out['charts'][6]['title']}\"\n",
    "\n",
    "fig = {out['charts'][6]['chartType']}(**params)\n",
    "\n",
    "fig.show()\n",
    "\"\"\"\n",
    "\n",
    "exec(code)"
   ]
  },
  {
   "cell_type": "code",
   "execution_count": 318,
   "metadata": {},
   "outputs": [
    {
     "data": {
      "application/vnd.plotly.v1+json": {
       "config": {
        "plotlyServerURL": "https://plot.ly"
       },
       "data": [
        {
         "domain": {
          "x": [
           0,
           1
          ],
          "y": [
           0,
           1
          ]
         },
         "hole": 0.3,
         "hovertemplate": "Manufacturer=%{label}<br>Sales_in_thousands=%{value}<extra></extra>",
         "labels": [
          "Acura",
          "Acura",
          "Acura",
          "Acura",
          "Audi",
          "Audi",
          "Audi",
          "BMW",
          "BMW",
          "BMW",
          "Buick",
          "Buick",
          "Buick",
          "Buick",
          "Cadillac",
          "Cadillac",
          "Cadillac",
          "Cadillac",
          "Cadillac",
          "Chevrolet",
          "Chevrolet",
          "Chevrolet",
          "Chevrolet",
          "Chevrolet",
          "Chevrolet",
          "Chevrolet",
          "Chevrolet",
          "Chevrolet",
          "Chrysler",
          "Chrysler",
          "Chrysler",
          "Chrysler",
          "Chrysler",
          "Chrysler",
          "Chrysler",
          "Dodge",
          "Dodge",
          "Dodge",
          "Dodge",
          "Dodge",
          "Dodge",
          "Dodge",
          "Dodge",
          "Dodge",
          "Dodge",
          "Dodge",
          "Ford",
          "Ford",
          "Ford",
          "Ford",
          "Ford",
          "Ford",
          "Ford",
          "Ford",
          "Ford",
          "Ford",
          "Ford",
          "Honda",
          "Honda",
          "Honda",
          "Honda",
          "Honda",
          "Hyundai",
          "Hyundai",
          "Hyundai",
          "Infiniti",
          "Jaguar",
          "Jeep",
          "Jeep",
          "Jeep",
          "Lexus",
          "Lexus",
          "Lexus",
          "Lexus",
          "Lexus",
          "Lexus",
          "Lincoln",
          "Lincoln",
          "Lincoln",
          "Mitsubishi",
          "Mitsubishi",
          "Mitsubishi",
          "Mitsubishi",
          "Mitsubishi",
          "Mitsubishi",
          "Mitsubishi",
          "Mercury",
          "Mercury",
          "Mercury",
          "Mercury",
          "Mercury",
          "Mercury",
          "Mercedes-B",
          "Mercedes-B",
          "Mercedes-B",
          "Mercedes-B",
          "Mercedes-B",
          "Mercedes-B",
          "Mercedes-B",
          "Mercedes-B",
          "Mercedes-B",
          "Nissan",
          "Nissan",
          "Nissan",
          "Nissan",
          "Nissan",
          "Nissan",
          "Nissan",
          "Oldsmobile",
          "Oldsmobile",
          "Oldsmobile",
          "Oldsmobile",
          "Oldsmobile",
          "Oldsmobile",
          "Plymouth",
          "Plymouth",
          "Plymouth",
          "Plymouth",
          "Pontiac",
          "Pontiac",
          "Pontiac",
          "Pontiac",
          "Pontiac",
          "Pontiac",
          "Porsche",
          "Porsche",
          "Porsche",
          "Saab",
          "Saab",
          "Saturn",
          "Saturn",
          "Saturn",
          "Saturn",
          "Saturn",
          "Subaru",
          "Subaru",
          "Toyota",
          "Toyota",
          "Toyota",
          "Toyota",
          "Toyota",
          "Toyota",
          "Toyota",
          "Toyota",
          "Toyota",
          "Volkswagen",
          "Volkswagen",
          "Volkswagen",
          "Volkswagen",
          "Volkswagen",
          "Volkswagen",
          "Volvo",
          "Volvo",
          "Volvo",
          "Volvo",
          "Volvo",
          "Volvo"
         ],
         "legendgroup": "",
         "name": "",
         "showlegend": true,
         "type": "pie",
         "values": [
          16.919,
          39.384,
          14.114,
          8.588,
          20.397,
          18.78,
          1.38,
          19.747,
          9.231,
          17.527,
          91.561,
          39.35,
          27.851,
          83.257,
          63.729,
          15.943,
          6.536,
          11.185,
          14.785,
          145.519,
          135.126,
          24.629,
          42.593,
          26.402,
          17.947,
          32.299,
          21.855,
          107.995,
          7.854,
          32.775,
          31.148,
          32.306,
          13.462,
          53.48,
          30.696,
          76.034,
          4.734,
          71.186,
          88.028,
          0.916,
          227.061,
          16.767,
          31.038,
          111.313,
          101.323,
          181.749,
          70.227,
          113.369,
          35.068,
          245.815,
          175.67,
          63.403,
          276.747,
          155.787,
          125.338,
          220.65,
          540.561,
          199.685,
          230.902,
          73.203,
          12.855,
          76.029,
          41.184,
          66.692,
          29.45,
          23.713,
          15.467,
          55.557,
          80.556,
          157.04,
          24.072,
          12.698,
          3.334,
          6.375,
          9.126,
          51.238,
          13.798,
          48.911,
          22.925,
          26.232,
          42.541,
          55.616,
          5.711,
          0.11,
          11.337,
          39.348,
          14.351,
          26.529,
          67.956,
          81.174,
          27.609,
          20.38,
          18.392,
          27.602,
          16.774,
          3.311,
          7.998,
          1.526,
          11.592,
          0.954,
          28.976,
          42.643,
          88.094,
          79.853,
          27.308,
          42.574,
          54.158,
          65.005,
          1.112,
          38.554,
          80.255,
          14.69,
          20.017,
          24.361,
          32.734,
          5.24,
          24.155,
          1.872,
          51.645,
          131.097,
          19.911,
          92.364,
          35.945,
          39.572,
          8.982,
          1.28,
          1.866,
          9.191,
          12.115,
          80.62,
          24.546,
          5.223,
          8.472,
          49.989,
          47.107,
          33.028,
          142.535,
          247.994,
          63.849,
          33.269,
          84.087,
          65.119,
          25.106,
          68.411,
          9.835,
          9.761,
          83.721,
          51.102,
          9.569,
          5.596,
          49.463,
          16.957,
          3.545,
          15.245,
          17.531,
          3.493,
          18.969
         ]
        }
       ],
       "layout": {
        "legend": {
         "tracegroupgap": 0
        },
        "template": {
         "data": {
          "bar": [
           {
            "error_x": {
             "color": "#2a3f5f"
            },
            "error_y": {
             "color": "#2a3f5f"
            },
            "marker": {
             "line": {
              "color": "#E5ECF6",
              "width": 0.5
             },
             "pattern": {
              "fillmode": "overlay",
              "size": 10,
              "solidity": 0.2
             }
            },
            "type": "bar"
           }
          ],
          "barpolar": [
           {
            "marker": {
             "line": {
              "color": "#E5ECF6",
              "width": 0.5
             },
             "pattern": {
              "fillmode": "overlay",
              "size": 10,
              "solidity": 0.2
             }
            },
            "type": "barpolar"
           }
          ],
          "carpet": [
           {
            "aaxis": {
             "endlinecolor": "#2a3f5f",
             "gridcolor": "white",
             "linecolor": "white",
             "minorgridcolor": "white",
             "startlinecolor": "#2a3f5f"
            },
            "baxis": {
             "endlinecolor": "#2a3f5f",
             "gridcolor": "white",
             "linecolor": "white",
             "minorgridcolor": "white",
             "startlinecolor": "#2a3f5f"
            },
            "type": "carpet"
           }
          ],
          "choropleth": [
           {
            "colorbar": {
             "outlinewidth": 0,
             "ticks": ""
            },
            "type": "choropleth"
           }
          ],
          "contour": [
           {
            "colorbar": {
             "outlinewidth": 0,
             "ticks": ""
            },
            "colorscale": [
             [
              0,
              "#0d0887"
             ],
             [
              0.1111111111111111,
              "#46039f"
             ],
             [
              0.2222222222222222,
              "#7201a8"
             ],
             [
              0.3333333333333333,
              "#9c179e"
             ],
             [
              0.4444444444444444,
              "#bd3786"
             ],
             [
              0.5555555555555556,
              "#d8576b"
             ],
             [
              0.6666666666666666,
              "#ed7953"
             ],
             [
              0.7777777777777778,
              "#fb9f3a"
             ],
             [
              0.8888888888888888,
              "#fdca26"
             ],
             [
              1,
              "#f0f921"
             ]
            ],
            "type": "contour"
           }
          ],
          "contourcarpet": [
           {
            "colorbar": {
             "outlinewidth": 0,
             "ticks": ""
            },
            "type": "contourcarpet"
           }
          ],
          "heatmap": [
           {
            "colorbar": {
             "outlinewidth": 0,
             "ticks": ""
            },
            "colorscale": [
             [
              0,
              "#0d0887"
             ],
             [
              0.1111111111111111,
              "#46039f"
             ],
             [
              0.2222222222222222,
              "#7201a8"
             ],
             [
              0.3333333333333333,
              "#9c179e"
             ],
             [
              0.4444444444444444,
              "#bd3786"
             ],
             [
              0.5555555555555556,
              "#d8576b"
             ],
             [
              0.6666666666666666,
              "#ed7953"
             ],
             [
              0.7777777777777778,
              "#fb9f3a"
             ],
             [
              0.8888888888888888,
              "#fdca26"
             ],
             [
              1,
              "#f0f921"
             ]
            ],
            "type": "heatmap"
           }
          ],
          "heatmapgl": [
           {
            "colorbar": {
             "outlinewidth": 0,
             "ticks": ""
            },
            "colorscale": [
             [
              0,
              "#0d0887"
             ],
             [
              0.1111111111111111,
              "#46039f"
             ],
             [
              0.2222222222222222,
              "#7201a8"
             ],
             [
              0.3333333333333333,
              "#9c179e"
             ],
             [
              0.4444444444444444,
              "#bd3786"
             ],
             [
              0.5555555555555556,
              "#d8576b"
             ],
             [
              0.6666666666666666,
              "#ed7953"
             ],
             [
              0.7777777777777778,
              "#fb9f3a"
             ],
             [
              0.8888888888888888,
              "#fdca26"
             ],
             [
              1,
              "#f0f921"
             ]
            ],
            "type": "heatmapgl"
           }
          ],
          "histogram": [
           {
            "marker": {
             "pattern": {
              "fillmode": "overlay",
              "size": 10,
              "solidity": 0.2
             }
            },
            "type": "histogram"
           }
          ],
          "histogram2d": [
           {
            "colorbar": {
             "outlinewidth": 0,
             "ticks": ""
            },
            "colorscale": [
             [
              0,
              "#0d0887"
             ],
             [
              0.1111111111111111,
              "#46039f"
             ],
             [
              0.2222222222222222,
              "#7201a8"
             ],
             [
              0.3333333333333333,
              "#9c179e"
             ],
             [
              0.4444444444444444,
              "#bd3786"
             ],
             [
              0.5555555555555556,
              "#d8576b"
             ],
             [
              0.6666666666666666,
              "#ed7953"
             ],
             [
              0.7777777777777778,
              "#fb9f3a"
             ],
             [
              0.8888888888888888,
              "#fdca26"
             ],
             [
              1,
              "#f0f921"
             ]
            ],
            "type": "histogram2d"
           }
          ],
          "histogram2dcontour": [
           {
            "colorbar": {
             "outlinewidth": 0,
             "ticks": ""
            },
            "colorscale": [
             [
              0,
              "#0d0887"
             ],
             [
              0.1111111111111111,
              "#46039f"
             ],
             [
              0.2222222222222222,
              "#7201a8"
             ],
             [
              0.3333333333333333,
              "#9c179e"
             ],
             [
              0.4444444444444444,
              "#bd3786"
             ],
             [
              0.5555555555555556,
              "#d8576b"
             ],
             [
              0.6666666666666666,
              "#ed7953"
             ],
             [
              0.7777777777777778,
              "#fb9f3a"
             ],
             [
              0.8888888888888888,
              "#fdca26"
             ],
             [
              1,
              "#f0f921"
             ]
            ],
            "type": "histogram2dcontour"
           }
          ],
          "mesh3d": [
           {
            "colorbar": {
             "outlinewidth": 0,
             "ticks": ""
            },
            "type": "mesh3d"
           }
          ],
          "parcoords": [
           {
            "line": {
             "colorbar": {
              "outlinewidth": 0,
              "ticks": ""
             }
            },
            "type": "parcoords"
           }
          ],
          "pie": [
           {
            "automargin": true,
            "type": "pie"
           }
          ],
          "scatter": [
           {
            "marker": {
             "colorbar": {
              "outlinewidth": 0,
              "ticks": ""
             }
            },
            "type": "scatter"
           }
          ],
          "scatter3d": [
           {
            "line": {
             "colorbar": {
              "outlinewidth": 0,
              "ticks": ""
             }
            },
            "marker": {
             "colorbar": {
              "outlinewidth": 0,
              "ticks": ""
             }
            },
            "type": "scatter3d"
           }
          ],
          "scattercarpet": [
           {
            "marker": {
             "colorbar": {
              "outlinewidth": 0,
              "ticks": ""
             }
            },
            "type": "scattercarpet"
           }
          ],
          "scattergeo": [
           {
            "marker": {
             "colorbar": {
              "outlinewidth": 0,
              "ticks": ""
             }
            },
            "type": "scattergeo"
           }
          ],
          "scattergl": [
           {
            "marker": {
             "colorbar": {
              "outlinewidth": 0,
              "ticks": ""
             }
            },
            "type": "scattergl"
           }
          ],
          "scattermapbox": [
           {
            "marker": {
             "colorbar": {
              "outlinewidth": 0,
              "ticks": ""
             }
            },
            "type": "scattermapbox"
           }
          ],
          "scatterpolar": [
           {
            "marker": {
             "colorbar": {
              "outlinewidth": 0,
              "ticks": ""
             }
            },
            "type": "scatterpolar"
           }
          ],
          "scatterpolargl": [
           {
            "marker": {
             "colorbar": {
              "outlinewidth": 0,
              "ticks": ""
             }
            },
            "type": "scatterpolargl"
           }
          ],
          "scatterternary": [
           {
            "marker": {
             "colorbar": {
              "outlinewidth": 0,
              "ticks": ""
             }
            },
            "type": "scatterternary"
           }
          ],
          "surface": [
           {
            "colorbar": {
             "outlinewidth": 0,
             "ticks": ""
            },
            "colorscale": [
             [
              0,
              "#0d0887"
             ],
             [
              0.1111111111111111,
              "#46039f"
             ],
             [
              0.2222222222222222,
              "#7201a8"
             ],
             [
              0.3333333333333333,
              "#9c179e"
             ],
             [
              0.4444444444444444,
              "#bd3786"
             ],
             [
              0.5555555555555556,
              "#d8576b"
             ],
             [
              0.6666666666666666,
              "#ed7953"
             ],
             [
              0.7777777777777778,
              "#fb9f3a"
             ],
             [
              0.8888888888888888,
              "#fdca26"
             ],
             [
              1,
              "#f0f921"
             ]
            ],
            "type": "surface"
           }
          ],
          "table": [
           {
            "cells": {
             "fill": {
              "color": "#EBF0F8"
             },
             "line": {
              "color": "white"
             }
            },
            "header": {
             "fill": {
              "color": "#C8D4E3"
             },
             "line": {
              "color": "white"
             }
            },
            "type": "table"
           }
          ]
         },
         "layout": {
          "annotationdefaults": {
           "arrowcolor": "#2a3f5f",
           "arrowhead": 0,
           "arrowwidth": 1
          },
          "autotypenumbers": "strict",
          "coloraxis": {
           "colorbar": {
            "outlinewidth": 0,
            "ticks": ""
           }
          },
          "colorscale": {
           "diverging": [
            [
             0,
             "#8e0152"
            ],
            [
             0.1,
             "#c51b7d"
            ],
            [
             0.2,
             "#de77ae"
            ],
            [
             0.3,
             "#f1b6da"
            ],
            [
             0.4,
             "#fde0ef"
            ],
            [
             0.5,
             "#f7f7f7"
            ],
            [
             0.6,
             "#e6f5d0"
            ],
            [
             0.7,
             "#b8e186"
            ],
            [
             0.8,
             "#7fbc41"
            ],
            [
             0.9,
             "#4d9221"
            ],
            [
             1,
             "#276419"
            ]
           ],
           "sequential": [
            [
             0,
             "#0d0887"
            ],
            [
             0.1111111111111111,
             "#46039f"
            ],
            [
             0.2222222222222222,
             "#7201a8"
            ],
            [
             0.3333333333333333,
             "#9c179e"
            ],
            [
             0.4444444444444444,
             "#bd3786"
            ],
            [
             0.5555555555555556,
             "#d8576b"
            ],
            [
             0.6666666666666666,
             "#ed7953"
            ],
            [
             0.7777777777777778,
             "#fb9f3a"
            ],
            [
             0.8888888888888888,
             "#fdca26"
            ],
            [
             1,
             "#f0f921"
            ]
           ],
           "sequentialminus": [
            [
             0,
             "#0d0887"
            ],
            [
             0.1111111111111111,
             "#46039f"
            ],
            [
             0.2222222222222222,
             "#7201a8"
            ],
            [
             0.3333333333333333,
             "#9c179e"
            ],
            [
             0.4444444444444444,
             "#bd3786"
            ],
            [
             0.5555555555555556,
             "#d8576b"
            ],
            [
             0.6666666666666666,
             "#ed7953"
            ],
            [
             0.7777777777777778,
             "#fb9f3a"
            ],
            [
             0.8888888888888888,
             "#fdca26"
            ],
            [
             1,
             "#f0f921"
            ]
           ]
          },
          "colorway": [
           "#636efa",
           "#EF553B",
           "#00cc96",
           "#ab63fa",
           "#FFA15A",
           "#19d3f3",
           "#FF6692",
           "#B6E880",
           "#FF97FF",
           "#FECB52"
          ],
          "font": {
           "color": "#2a3f5f"
          },
          "geo": {
           "bgcolor": "white",
           "lakecolor": "white",
           "landcolor": "#E5ECF6",
           "showlakes": true,
           "showland": true,
           "subunitcolor": "white"
          },
          "hoverlabel": {
           "align": "left"
          },
          "hovermode": "closest",
          "mapbox": {
           "style": "light"
          },
          "paper_bgcolor": "white",
          "plot_bgcolor": "#E5ECF6",
          "polar": {
           "angularaxis": {
            "gridcolor": "white",
            "linecolor": "white",
            "ticks": ""
           },
           "bgcolor": "#E5ECF6",
           "radialaxis": {
            "gridcolor": "white",
            "linecolor": "white",
            "ticks": ""
           }
          },
          "scene": {
           "xaxis": {
            "backgroundcolor": "#E5ECF6",
            "gridcolor": "white",
            "gridwidth": 2,
            "linecolor": "white",
            "showbackground": true,
            "ticks": "",
            "zerolinecolor": "white"
           },
           "yaxis": {
            "backgroundcolor": "#E5ECF6",
            "gridcolor": "white",
            "gridwidth": 2,
            "linecolor": "white",
            "showbackground": true,
            "ticks": "",
            "zerolinecolor": "white"
           },
           "zaxis": {
            "backgroundcolor": "#E5ECF6",
            "gridcolor": "white",
            "gridwidth": 2,
            "linecolor": "white",
            "showbackground": true,
            "ticks": "",
            "zerolinecolor": "white"
           }
          },
          "shapedefaults": {
           "line": {
            "color": "#2a3f5f"
           }
          },
          "ternary": {
           "aaxis": {
            "gridcolor": "white",
            "linecolor": "white",
            "ticks": ""
           },
           "baxis": {
            "gridcolor": "white",
            "linecolor": "white",
            "ticks": ""
           },
           "bgcolor": "#E5ECF6",
           "caxis": {
            "gridcolor": "white",
            "linecolor": "white",
            "ticks": ""
           }
          },
          "title": {
           "x": 0.05
          },
          "xaxis": {
           "automargin": true,
           "gridcolor": "white",
           "linecolor": "white",
           "ticks": "",
           "title": {
            "standoff": 15
           },
           "zerolinecolor": "white",
           "zerolinewidth": 2
          },
          "yaxis": {
           "automargin": true,
           "gridcolor": "white",
           "linecolor": "white",
           "ticks": "",
           "title": {
            "standoff": 15
           },
           "zerolinecolor": "white",
           "zerolinewidth": 2
          }
         }
        },
        "title": {
         "text": "Pie Chart"
        }
       }
      }
     },
     "metadata": {},
     "output_type": "display_data"
    }
   ],
   "source": [
    "code = f\"\"\"\n",
    "\n",
    "params = {out['charts'][7]['parameters']}\n",
    "params['data_frame'] = df\n",
    "params['title'] = \"{out['charts'][7]['title']}\"\n",
    "\n",
    "fig = {out['charts'][7]['chartType']}(**params)\n",
    "\n",
    "fig.show()\n",
    "\"\"\"\n",
    "\n",
    "exec(code)"
   ]
  },
  {
   "cell_type": "code",
   "execution_count": 319,
   "metadata": {},
   "outputs": [
    {
     "name": "stderr",
     "output_type": "stream",
     "text": [
      "c:\\ProgramData\\Anaconda3\\lib\\site-packages\\plotly\\express\\_core.py:1637: FutureWarning:\n",
      "\n",
      "The frame.append method is deprecated and will be removed from pandas in a future version. Use pandas.concat instead.\n",
      "\n",
      "c:\\ProgramData\\Anaconda3\\lib\\site-packages\\plotly\\express\\_core.py:1637: FutureWarning:\n",
      "\n",
      "The frame.append method is deprecated and will be removed from pandas in a future version. Use pandas.concat instead.\n",
      "\n"
     ]
    },
    {
     "data": {
      "application/vnd.plotly.v1+json": {
       "config": {
        "plotlyServerURL": "https://plot.ly"
       },
       "data": [
        {
         "branchvalues": "total",
         "customdata": [
          [
           46.225
          ],
          [
           null
          ],
          [
           20.1185333604283
          ],
          [
           25.714729888111663
          ],
          [
           23.586213885135763
          ],
          [
           23.08885032730349
          ],
          [
           38.46016201709628
          ],
          [
           42.66
          ],
          [
           35.3
          ],
          [
           25.415362687282503
          ],
          [
           24.6027099733649
          ],
          [
           23.09485683302917
          ],
          [
           28.16545835774483
          ],
          [
           18.85
          ],
          [
           25.635
          ],
          [
           20.095
          ],
          [
           19.335820302663148
          ],
          [
           null
          ],
          [
           29.89533323470671
          ],
          [
           32.751042468551766
          ],
          [
           25.698340357575237
          ],
          [
           39.60891101003152
          ],
          [
           17.33632761808556
          ],
          [
           23.34922838485979
          ],
          [
           18.830624621208973
          ],
          [
           16.852010682934594
          ],
          [
           14.206854654227834
          ],
          [
           11.855461267349227
          ],
          [
           29.465000000000003
          ],
          [
           42.8
          ],
          [
           37.373846145571115
          ],
          [
           42.39486309780096
          ],
          [
           49.25075270281001
          ],
          [
           20.000687490132098
          ],
          [
           17.572150295676213
          ],
          [
           21.21627766750558
          ],
          [
           21.912913506325637
          ],
          [
           14.51872107614315
          ],
          [
           21.332262419854846
          ],
          [
           49.71338060686017
          ],
          [
           29.128293438468038
          ],
          [
           12.75481486526503
          ],
          [
           22.695
          ],
          [
           17.23612521352536
          ],
          [
           17.697923685065867
          ],
          [
           29.69682598362819
          ],
          [
           null
          ],
          [
           29.89533323470671
          ],
          [
           32.751042468551766
          ],
          [
           25.698340357575237
          ],
          [
           40.480907976608606
          ],
          [
           17.33632761808556
          ],
          [
           null
          ],
          [
           19.777650011152023
          ],
          [
           22.63192759197779
          ],
          [
           16.771961609586384
          ],
          [
           11.855461267349227
          ],
          [
           29.465000000000003
          ],
          [
           42.8
          ],
          [
           23.08885032730349
          ],
          [
           37.987591278792245
          ],
          [
           42.46584265595441
          ],
          [
           45.799422838847384
          ],
          [
           21.092477153265353
          ],
          [
           19.54204397578706
          ],
          [
           22.104928557308547
          ],
          [
           23.463150869606512
          ],
          [
           16.15341494664146
          ],
          [
           21.791782818850628
          ],
          [
           49.71338060686017
          ],
          [
           29.128293438468038
          ],
          [
           12.75481486526503
          ],
          [
           21.623398327821803
          ],
          [
           17.952541331117732
          ],
          [
           17.697923685065867
          ],
          [
           29.69682598362819
          ]
         ],
         "domain": {
          "x": [
           0,
           1
          ],
          "y": [
           0,
           1
          ]
         },
         "hovertemplate": "labels=%{label}<br>Sales_in_thousands=%{value}<br>parent=%{parent}<br>id=%{id}<br>Price_in_thousands=%{color}<extra></extra>",
         "ids": [
          "Cadillac/Car",
          "Chrysler/Car",
          "Dodge/Car",
          "Ford/Car",
          "Honda/Car",
          "Jeep/Car",
          "Lexus/Car",
          "Lincoln/Car",
          "Mercedes-B/Car",
          "Mercury/Car",
          "Mitsubishi/Car",
          "Nissan/Car",
          "Oldsmobile/Car",
          "Plymouth/Car",
          "Pontiac/Car",
          "Subaru/Car",
          "Toyota/Car",
          "Acura/Passenger",
          "Audi/Passenger",
          "BMW/Passenger",
          "Buick/Passenger",
          "Cadillac/Passenger",
          "Chevrolet/Passenger",
          "Chrysler/Passenger",
          "Dodge/Passenger",
          "Ford/Passenger",
          "Honda/Passenger",
          "Hyundai/Passenger",
          "Infiniti/Passenger",
          "Jaguar/Passenger",
          "Lexus/Passenger",
          "Lincoln/Passenger",
          "Mercedes-B/Passenger",
          "Mercury/Passenger",
          "Mitsubishi/Passenger",
          "Nissan/Passenger",
          "Oldsmobile/Passenger",
          "Plymouth/Passenger",
          "Pontiac/Passenger",
          "Porsche/Passenger",
          "Saab/Passenger",
          "Saturn/Passenger",
          "Subaru/Passenger",
          "Toyota/Passenger",
          "Volkswagen/Passenger",
          "Volvo/Passenger",
          "Acura",
          "Audi",
          "BMW",
          "Buick",
          "Cadillac",
          "Chevrolet",
          "Chrysler",
          "Dodge",
          "Ford",
          "Honda",
          "Hyundai",
          "Infiniti",
          "Jaguar",
          "Jeep",
          "Lexus",
          "Lincoln",
          "Mercedes-B",
          "Mercury",
          "Mitsubishi",
          "Nissan",
          "Oldsmobile",
          "Plymouth",
          "Pontiac",
          "Porsche",
          "Saab",
          "Saturn",
          "Subaru",
          "Toyota",
          "Volkswagen",
          "Volvo"
         ],
         "labels": [
          "Car",
          "Car",
          "Car",
          "Car",
          "Car",
          "Car",
          "Car",
          "Car",
          "Car",
          "Car",
          "Car",
          "Car",
          "Car",
          "Car",
          "Car",
          "Car",
          "Car",
          "Passenger",
          "Passenger",
          "Passenger",
          "Passenger",
          "Passenger",
          "Passenger",
          "Passenger",
          "Passenger",
          "Passenger",
          "Passenger",
          "Passenger",
          "Passenger",
          "Passenger",
          "Passenger",
          "Passenger",
          "Passenger",
          "Passenger",
          "Passenger",
          "Passenger",
          "Passenger",
          "Passenger",
          "Passenger",
          "Passenger",
          "Passenger",
          "Passenger",
          "Passenger",
          "Passenger",
          "Passenger",
          "Passenger",
          "Acura",
          "Audi",
          "BMW",
          "Buick",
          "Cadillac",
          "Chevrolet",
          "Chrysler",
          "Dodge",
          "Ford",
          "Honda",
          "Hyundai",
          "Infiniti",
          "Jaguar",
          "Jeep",
          "Lexus",
          "Lincoln",
          "Mercedes-B",
          "Mercury",
          "Mitsubishi",
          "Nissan",
          "Oldsmobile",
          "Plymouth",
          "Pontiac",
          "Porsche",
          "Saab",
          "Saturn",
          "Subaru",
          "Toyota",
          "Volkswagen",
          "Volvo"
         ],
         "marker": {
          "coloraxis": "coloraxis",
          "colors": [
           46.225,
           null,
           20.1185333604283,
           25.714729888111663,
           23.586213885135763,
           23.08885032730349,
           38.46016201709628,
           42.66,
           35.3,
           25.415362687282503,
           24.6027099733649,
           23.09485683302917,
           28.16545835774483,
           18.85,
           25.635,
           20.095,
           19.335820302663148,
           null,
           29.89533323470671,
           32.751042468551766,
           25.698340357575237,
           39.60891101003152,
           17.33632761808556,
           23.34922838485979,
           18.830624621208973,
           16.852010682934594,
           14.206854654227834,
           11.855461267349227,
           29.465000000000003,
           42.8,
           37.373846145571115,
           42.39486309780096,
           49.25075270281001,
           20.000687490132098,
           17.572150295676213,
           21.21627766750558,
           21.912913506325637,
           14.51872107614315,
           21.332262419854846,
           49.71338060686017,
           29.128293438468038,
           12.75481486526503,
           22.695,
           17.23612521352536,
           17.697923685065867,
           29.69682598362819,
           null,
           29.89533323470671,
           32.751042468551766,
           25.698340357575237,
           40.480907976608606,
           17.33632761808556,
           null,
           19.777650011152023,
           22.63192759197779,
           16.771961609586384,
           11.855461267349227,
           29.465000000000003,
           42.8,
           23.08885032730349,
           37.987591278792245,
           42.46584265595441,
           45.799422838847384,
           21.092477153265353,
           19.54204397578706,
           22.104928557308547,
           23.463150869606512,
           16.15341494664146,
           21.791782818850628,
           49.71338060686017,
           29.128293438468038,
           12.75481486526503,
           21.623398327821803,
           17.952541331117732,
           17.697923685065867,
           29.69682598362819
          ]
         },
         "name": "",
         "parents": [
          "Cadillac",
          "Chrysler",
          "Dodge",
          "Ford",
          "Honda",
          "Jeep",
          "Lexus",
          "Lincoln",
          "Mercedes-B",
          "Mercury",
          "Mitsubishi",
          "Nissan",
          "Oldsmobile",
          "Plymouth",
          "Pontiac",
          "Subaru",
          "Toyota",
          "Acura",
          "Audi",
          "BMW",
          "Buick",
          "Cadillac",
          "Chevrolet",
          "Chrysler",
          "Dodge",
          "Ford",
          "Honda",
          "Hyundai",
          "Infiniti",
          "Jaguar",
          "Lexus",
          "Lincoln",
          "Mercedes-B",
          "Mercury",
          "Mitsubishi",
          "Nissan",
          "Oldsmobile",
          "Plymouth",
          "Pontiac",
          "Porsche",
          "Saab",
          "Saturn",
          "Subaru",
          "Toyota",
          "Volkswagen",
          "Volvo",
          "",
          "",
          "",
          "",
          "",
          "",
          "",
          "",
          "",
          "",
          "",
          "",
          "",
          "",
          "",
          "",
          "",
          "",
          "",
          "",
          "",
          "",
          "",
          "",
          "",
          "",
          "",
          "",
          "",
          ""
         ],
         "type": "sunburst",
         "values": [
          14.785,
          53.48,
          669.251,
          1319.083,
          162.087,
          293.153,
          60.364,
          22.925,
          28.976,
          47.989000000000004,
          50.685,
          189.045,
          44.378,
          24.155,
          39.572,
          33.028,
          252.55800000000002,
          79.005,
          40.557,
          46.505,
          242.019,
          97.393,
          554.365,
          148.24099999999999,
          240.89800000000002,
          703.552,
          430.587,
          137.326,
          23.713,
          15.467,
          46.479,
          62.709,
          88.149,
          190.01,
          130.21,
          210.58999999999997,
          134.611,
          39.846000000000004,
          330.96200000000005,
          12.128,
          21.306,
          168.85,
          47.107,
          487.647,
          209.212,
          75.74,
          79.005,
          40.557,
          46.505,
          242.019,
          112.178,
          554.365,
          201.721,
          910.149,
          2022.635,
          592.674,
          137.326,
          23.713,
          15.467,
          293.153,
          106.84299999999999,
          85.634,
          117.125,
          237.999,
          180.89499999999998,
          399.635,
          178.989,
          64.001,
          370.53400000000005,
          12.128,
          21.306,
          168.85,
          80.13499999999999,
          740.205,
          209.212,
          75.74
         ]
        }
       ],
       "layout": {
        "coloraxis": {
         "colorbar": {
          "title": {
           "text": "Price_in_thousands"
          }
         },
         "colorscale": [
          [
           0,
           "#0d0887"
          ],
          [
           0.1111111111111111,
           "#46039f"
          ],
          [
           0.2222222222222222,
           "#7201a8"
          ],
          [
           0.3333333333333333,
           "#9c179e"
          ],
          [
           0.4444444444444444,
           "#bd3786"
          ],
          [
           0.5555555555555556,
           "#d8576b"
          ],
          [
           0.6666666666666666,
           "#ed7953"
          ],
          [
           0.7777777777777778,
           "#fb9f3a"
          ],
          [
           0.8888888888888888,
           "#fdca26"
          ],
          [
           1,
           "#f0f921"
          ]
         ]
        },
        "legend": {
         "tracegroupgap": 0
        },
        "template": {
         "data": {
          "bar": [
           {
            "error_x": {
             "color": "#2a3f5f"
            },
            "error_y": {
             "color": "#2a3f5f"
            },
            "marker": {
             "line": {
              "color": "#E5ECF6",
              "width": 0.5
             },
             "pattern": {
              "fillmode": "overlay",
              "size": 10,
              "solidity": 0.2
             }
            },
            "type": "bar"
           }
          ],
          "barpolar": [
           {
            "marker": {
             "line": {
              "color": "#E5ECF6",
              "width": 0.5
             },
             "pattern": {
              "fillmode": "overlay",
              "size": 10,
              "solidity": 0.2
             }
            },
            "type": "barpolar"
           }
          ],
          "carpet": [
           {
            "aaxis": {
             "endlinecolor": "#2a3f5f",
             "gridcolor": "white",
             "linecolor": "white",
             "minorgridcolor": "white",
             "startlinecolor": "#2a3f5f"
            },
            "baxis": {
             "endlinecolor": "#2a3f5f",
             "gridcolor": "white",
             "linecolor": "white",
             "minorgridcolor": "white",
             "startlinecolor": "#2a3f5f"
            },
            "type": "carpet"
           }
          ],
          "choropleth": [
           {
            "colorbar": {
             "outlinewidth": 0,
             "ticks": ""
            },
            "type": "choropleth"
           }
          ],
          "contour": [
           {
            "colorbar": {
             "outlinewidth": 0,
             "ticks": ""
            },
            "colorscale": [
             [
              0,
              "#0d0887"
             ],
             [
              0.1111111111111111,
              "#46039f"
             ],
             [
              0.2222222222222222,
              "#7201a8"
             ],
             [
              0.3333333333333333,
              "#9c179e"
             ],
             [
              0.4444444444444444,
              "#bd3786"
             ],
             [
              0.5555555555555556,
              "#d8576b"
             ],
             [
              0.6666666666666666,
              "#ed7953"
             ],
             [
              0.7777777777777778,
              "#fb9f3a"
             ],
             [
              0.8888888888888888,
              "#fdca26"
             ],
             [
              1,
              "#f0f921"
             ]
            ],
            "type": "contour"
           }
          ],
          "contourcarpet": [
           {
            "colorbar": {
             "outlinewidth": 0,
             "ticks": ""
            },
            "type": "contourcarpet"
           }
          ],
          "heatmap": [
           {
            "colorbar": {
             "outlinewidth": 0,
             "ticks": ""
            },
            "colorscale": [
             [
              0,
              "#0d0887"
             ],
             [
              0.1111111111111111,
              "#46039f"
             ],
             [
              0.2222222222222222,
              "#7201a8"
             ],
             [
              0.3333333333333333,
              "#9c179e"
             ],
             [
              0.4444444444444444,
              "#bd3786"
             ],
             [
              0.5555555555555556,
              "#d8576b"
             ],
             [
              0.6666666666666666,
              "#ed7953"
             ],
             [
              0.7777777777777778,
              "#fb9f3a"
             ],
             [
              0.8888888888888888,
              "#fdca26"
             ],
             [
              1,
              "#f0f921"
             ]
            ],
            "type": "heatmap"
           }
          ],
          "heatmapgl": [
           {
            "colorbar": {
             "outlinewidth": 0,
             "ticks": ""
            },
            "colorscale": [
             [
              0,
              "#0d0887"
             ],
             [
              0.1111111111111111,
              "#46039f"
             ],
             [
              0.2222222222222222,
              "#7201a8"
             ],
             [
              0.3333333333333333,
              "#9c179e"
             ],
             [
              0.4444444444444444,
              "#bd3786"
             ],
             [
              0.5555555555555556,
              "#d8576b"
             ],
             [
              0.6666666666666666,
              "#ed7953"
             ],
             [
              0.7777777777777778,
              "#fb9f3a"
             ],
             [
              0.8888888888888888,
              "#fdca26"
             ],
             [
              1,
              "#f0f921"
             ]
            ],
            "type": "heatmapgl"
           }
          ],
          "histogram": [
           {
            "marker": {
             "pattern": {
              "fillmode": "overlay",
              "size": 10,
              "solidity": 0.2
             }
            },
            "type": "histogram"
           }
          ],
          "histogram2d": [
           {
            "colorbar": {
             "outlinewidth": 0,
             "ticks": ""
            },
            "colorscale": [
             [
              0,
              "#0d0887"
             ],
             [
              0.1111111111111111,
              "#46039f"
             ],
             [
              0.2222222222222222,
              "#7201a8"
             ],
             [
              0.3333333333333333,
              "#9c179e"
             ],
             [
              0.4444444444444444,
              "#bd3786"
             ],
             [
              0.5555555555555556,
              "#d8576b"
             ],
             [
              0.6666666666666666,
              "#ed7953"
             ],
             [
              0.7777777777777778,
              "#fb9f3a"
             ],
             [
              0.8888888888888888,
              "#fdca26"
             ],
             [
              1,
              "#f0f921"
             ]
            ],
            "type": "histogram2d"
           }
          ],
          "histogram2dcontour": [
           {
            "colorbar": {
             "outlinewidth": 0,
             "ticks": ""
            },
            "colorscale": [
             [
              0,
              "#0d0887"
             ],
             [
              0.1111111111111111,
              "#46039f"
             ],
             [
              0.2222222222222222,
              "#7201a8"
             ],
             [
              0.3333333333333333,
              "#9c179e"
             ],
             [
              0.4444444444444444,
              "#bd3786"
             ],
             [
              0.5555555555555556,
              "#d8576b"
             ],
             [
              0.6666666666666666,
              "#ed7953"
             ],
             [
              0.7777777777777778,
              "#fb9f3a"
             ],
             [
              0.8888888888888888,
              "#fdca26"
             ],
             [
              1,
              "#f0f921"
             ]
            ],
            "type": "histogram2dcontour"
           }
          ],
          "mesh3d": [
           {
            "colorbar": {
             "outlinewidth": 0,
             "ticks": ""
            },
            "type": "mesh3d"
           }
          ],
          "parcoords": [
           {
            "line": {
             "colorbar": {
              "outlinewidth": 0,
              "ticks": ""
             }
            },
            "type": "parcoords"
           }
          ],
          "pie": [
           {
            "automargin": true,
            "type": "pie"
           }
          ],
          "scatter": [
           {
            "marker": {
             "colorbar": {
              "outlinewidth": 0,
              "ticks": ""
             }
            },
            "type": "scatter"
           }
          ],
          "scatter3d": [
           {
            "line": {
             "colorbar": {
              "outlinewidth": 0,
              "ticks": ""
             }
            },
            "marker": {
             "colorbar": {
              "outlinewidth": 0,
              "ticks": ""
             }
            },
            "type": "scatter3d"
           }
          ],
          "scattercarpet": [
           {
            "marker": {
             "colorbar": {
              "outlinewidth": 0,
              "ticks": ""
             }
            },
            "type": "scattercarpet"
           }
          ],
          "scattergeo": [
           {
            "marker": {
             "colorbar": {
              "outlinewidth": 0,
              "ticks": ""
             }
            },
            "type": "scattergeo"
           }
          ],
          "scattergl": [
           {
            "marker": {
             "colorbar": {
              "outlinewidth": 0,
              "ticks": ""
             }
            },
            "type": "scattergl"
           }
          ],
          "scattermapbox": [
           {
            "marker": {
             "colorbar": {
              "outlinewidth": 0,
              "ticks": ""
             }
            },
            "type": "scattermapbox"
           }
          ],
          "scatterpolar": [
           {
            "marker": {
             "colorbar": {
              "outlinewidth": 0,
              "ticks": ""
             }
            },
            "type": "scatterpolar"
           }
          ],
          "scatterpolargl": [
           {
            "marker": {
             "colorbar": {
              "outlinewidth": 0,
              "ticks": ""
             }
            },
            "type": "scatterpolargl"
           }
          ],
          "scatterternary": [
           {
            "marker": {
             "colorbar": {
              "outlinewidth": 0,
              "ticks": ""
             }
            },
            "type": "scatterternary"
           }
          ],
          "surface": [
           {
            "colorbar": {
             "outlinewidth": 0,
             "ticks": ""
            },
            "colorscale": [
             [
              0,
              "#0d0887"
             ],
             [
              0.1111111111111111,
              "#46039f"
             ],
             [
              0.2222222222222222,
              "#7201a8"
             ],
             [
              0.3333333333333333,
              "#9c179e"
             ],
             [
              0.4444444444444444,
              "#bd3786"
             ],
             [
              0.5555555555555556,
              "#d8576b"
             ],
             [
              0.6666666666666666,
              "#ed7953"
             ],
             [
              0.7777777777777778,
              "#fb9f3a"
             ],
             [
              0.8888888888888888,
              "#fdca26"
             ],
             [
              1,
              "#f0f921"
             ]
            ],
            "type": "surface"
           }
          ],
          "table": [
           {
            "cells": {
             "fill": {
              "color": "#EBF0F8"
             },
             "line": {
              "color": "white"
             }
            },
            "header": {
             "fill": {
              "color": "#C8D4E3"
             },
             "line": {
              "color": "white"
             }
            },
            "type": "table"
           }
          ]
         },
         "layout": {
          "annotationdefaults": {
           "arrowcolor": "#2a3f5f",
           "arrowhead": 0,
           "arrowwidth": 1
          },
          "autotypenumbers": "strict",
          "coloraxis": {
           "colorbar": {
            "outlinewidth": 0,
            "ticks": ""
           }
          },
          "colorscale": {
           "diverging": [
            [
             0,
             "#8e0152"
            ],
            [
             0.1,
             "#c51b7d"
            ],
            [
             0.2,
             "#de77ae"
            ],
            [
             0.3,
             "#f1b6da"
            ],
            [
             0.4,
             "#fde0ef"
            ],
            [
             0.5,
             "#f7f7f7"
            ],
            [
             0.6,
             "#e6f5d0"
            ],
            [
             0.7,
             "#b8e186"
            ],
            [
             0.8,
             "#7fbc41"
            ],
            [
             0.9,
             "#4d9221"
            ],
            [
             1,
             "#276419"
            ]
           ],
           "sequential": [
            [
             0,
             "#0d0887"
            ],
            [
             0.1111111111111111,
             "#46039f"
            ],
            [
             0.2222222222222222,
             "#7201a8"
            ],
            [
             0.3333333333333333,
             "#9c179e"
            ],
            [
             0.4444444444444444,
             "#bd3786"
            ],
            [
             0.5555555555555556,
             "#d8576b"
            ],
            [
             0.6666666666666666,
             "#ed7953"
            ],
            [
             0.7777777777777778,
             "#fb9f3a"
            ],
            [
             0.8888888888888888,
             "#fdca26"
            ],
            [
             1,
             "#f0f921"
            ]
           ],
           "sequentialminus": [
            [
             0,
             "#0d0887"
            ],
            [
             0.1111111111111111,
             "#46039f"
            ],
            [
             0.2222222222222222,
             "#7201a8"
            ],
            [
             0.3333333333333333,
             "#9c179e"
            ],
            [
             0.4444444444444444,
             "#bd3786"
            ],
            [
             0.5555555555555556,
             "#d8576b"
            ],
            [
             0.6666666666666666,
             "#ed7953"
            ],
            [
             0.7777777777777778,
             "#fb9f3a"
            ],
            [
             0.8888888888888888,
             "#fdca26"
            ],
            [
             1,
             "#f0f921"
            ]
           ]
          },
          "colorway": [
           "#636efa",
           "#EF553B",
           "#00cc96",
           "#ab63fa",
           "#FFA15A",
           "#19d3f3",
           "#FF6692",
           "#B6E880",
           "#FF97FF",
           "#FECB52"
          ],
          "font": {
           "color": "#2a3f5f"
          },
          "geo": {
           "bgcolor": "white",
           "lakecolor": "white",
           "landcolor": "#E5ECF6",
           "showlakes": true,
           "showland": true,
           "subunitcolor": "white"
          },
          "hoverlabel": {
           "align": "left"
          },
          "hovermode": "closest",
          "mapbox": {
           "style": "light"
          },
          "paper_bgcolor": "white",
          "plot_bgcolor": "#E5ECF6",
          "polar": {
           "angularaxis": {
            "gridcolor": "white",
            "linecolor": "white",
            "ticks": ""
           },
           "bgcolor": "#E5ECF6",
           "radialaxis": {
            "gridcolor": "white",
            "linecolor": "white",
            "ticks": ""
           }
          },
          "scene": {
           "xaxis": {
            "backgroundcolor": "#E5ECF6",
            "gridcolor": "white",
            "gridwidth": 2,
            "linecolor": "white",
            "showbackground": true,
            "ticks": "",
            "zerolinecolor": "white"
           },
           "yaxis": {
            "backgroundcolor": "#E5ECF6",
            "gridcolor": "white",
            "gridwidth": 2,
            "linecolor": "white",
            "showbackground": true,
            "ticks": "",
            "zerolinecolor": "white"
           },
           "zaxis": {
            "backgroundcolor": "#E5ECF6",
            "gridcolor": "white",
            "gridwidth": 2,
            "linecolor": "white",
            "showbackground": true,
            "ticks": "",
            "zerolinecolor": "white"
           }
          },
          "shapedefaults": {
           "line": {
            "color": "#2a3f5f"
           }
          },
          "ternary": {
           "aaxis": {
            "gridcolor": "white",
            "linecolor": "white",
            "ticks": ""
           },
           "baxis": {
            "gridcolor": "white",
            "linecolor": "white",
            "ticks": ""
           },
           "bgcolor": "#E5ECF6",
           "caxis": {
            "gridcolor": "white",
            "linecolor": "white",
            "ticks": ""
           }
          },
          "title": {
           "x": 0.05
          },
          "xaxis": {
           "automargin": true,
           "gridcolor": "white",
           "linecolor": "white",
           "ticks": "",
           "title": {
            "standoff": 15
           },
           "zerolinecolor": "white",
           "zerolinewidth": 2
          },
          "yaxis": {
           "automargin": true,
           "gridcolor": "white",
           "linecolor": "white",
           "ticks": "",
           "title": {
            "standoff": 15
           },
           "zerolinecolor": "white",
           "zerolinewidth": 2
          }
         }
        },
        "title": {
         "text": "Sunburst Chart"
        }
       }
      }
     },
     "metadata": {},
     "output_type": "display_data"
    }
   ],
   "source": [
    "code = f\"\"\"\n",
    "\n",
    "params = {out['charts'][8]['parameters']}\n",
    "params['data_frame'] = df\n",
    "params['title'] = \"{out['charts'][8]['title']}\"\n",
    "\n",
    "fig = {out['charts'][8]['chartType']}(**params)\n",
    "\n",
    "fig.show()\n",
    "\"\"\"\n",
    "\n",
    "exec(code)"
   ]
  },
  {
   "cell_type": "code",
   "execution_count": 320,
   "metadata": {},
   "outputs": [
    {
     "data": {
      "application/vnd.plotly.v1+json": {
       "config": {
        "plotlyServerURL": "https://plot.ly"
       },
       "data": [
        {
         "hovertemplate": "Manufacturer=Acura<br>Horsepower=%{x}<br>Price_in_thousands=%{y}<br>Sales_in_thousands=%{z}<extra></extra>",
         "legendgroup": "Acura",
         "marker": {
          "color": "#636efa",
          "symbol": "circle"
         },
         "mode": "markers",
         "name": "Acura",
         "scene": "scene",
         "showlegend": true,
         "type": "scatter3d",
         "x": [
          140,
          225,
          225,
          210
         ],
         "y": [
          21.5,
          28.4,
          null,
          42
         ],
         "z": [
          16.919,
          39.384,
          14.114,
          8.588
         ]
        },
        {
         "hovertemplate": "Manufacturer=Audi<br>Horsepower=%{x}<br>Price_in_thousands=%{y}<br>Sales_in_thousands=%{z}<extra></extra>",
         "legendgroup": "Audi",
         "marker": {
          "color": "#EF553B",
          "symbol": "circle"
         },
         "mode": "markers",
         "name": "Audi",
         "scene": "scene",
         "showlegend": true,
         "type": "scatter3d",
         "x": [
          150,
          200,
          310
         ],
         "y": [
          23.99,
          33.95,
          62
         ],
         "z": [
          20.397,
          18.78,
          1.38
         ]
        },
        {
         "hovertemplate": "Manufacturer=BMW<br>Horsepower=%{x}<br>Price_in_thousands=%{y}<br>Sales_in_thousands=%{z}<extra></extra>",
         "legendgroup": "BMW",
         "marker": {
          "color": "#00cc96",
          "symbol": "circle"
         },
         "mode": "markers",
         "name": "BMW",
         "scene": "scene",
         "showlegend": true,
         "type": "scatter3d",
         "x": [
          170,
          193,
          193
         ],
         "y": [
          26.99,
          33.4,
          38.9
         ],
         "z": [
          19.747,
          9.231,
          17.527
         ]
        },
        {
         "hovertemplate": "Manufacturer=Buick<br>Horsepower=%{x}<br>Price_in_thousands=%{y}<br>Sales_in_thousands=%{z}<extra></extra>",
         "legendgroup": "Buick",
         "marker": {
          "color": "#ab63fa",
          "symbol": "circle"
         },
         "mode": "markers",
         "name": "Buick",
         "scene": "scene",
         "showlegend": true,
         "type": "scatter3d",
         "x": [
          175,
          240,
          205,
          205
         ],
         "y": [
          21.975,
          25.3,
          31.965,
          27.885
         ],
         "z": [
          91.561,
          39.35,
          27.851,
          83.257
         ]
        },
        {
         "hovertemplate": "Manufacturer=Cadillac<br>Horsepower=%{x}<br>Price_in_thousands=%{y}<br>Sales_in_thousands=%{z}<extra></extra>",
         "legendgroup": "Cadillac",
         "marker": {
          "color": "#FFA15A",
          "symbol": "circle"
         },
         "mode": "markers",
         "name": "Cadillac",
         "scene": "scene",
         "showlegend": true,
         "type": "scatter3d",
         "x": [
          275,
          275,
          275,
          200,
          255
         ],
         "y": [
          39.895,
          44.475,
          39.665,
          31.01,
          46.225
         ],
         "z": [
          63.729,
          15.943,
          6.536,
          11.185,
          14.785
         ]
        },
        {
         "hovertemplate": "Manufacturer=Chevrolet<br>Horsepower=%{x}<br>Price_in_thousands=%{y}<br>Sales_in_thousands=%{z}<extra></extra>",
         "legendgroup": "Chevrolet",
         "marker": {
          "color": "#19d3f3",
          "symbol": "circle"
         },
         "mode": "markers",
         "name": "Chevrolet",
         "scene": "scene",
         "showlegend": true,
         "type": "scatter3d",
         "x": [
          115,
          170,
          175,
          180,
          200,
          345,
          120,
          55,
          180
         ],
         "y": [
          13.26,
          16.535,
          18.89,
          19.39,
          24.34,
          45.705,
          13.96,
          9.235,
          18.89
         ],
         "z": [
          145.519,
          135.126,
          24.629,
          42.593,
          26.402,
          17.947,
          32.299,
          21.855,
          107.995
         ]
        },
        {
         "hovertemplate": "Manufacturer=Chrysler<br>Horsepower=%{x}<br>Price_in_thousands=%{y}<br>Sales_in_thousands=%{z}<extra></extra>",
         "legendgroup": "Chrysler",
         "marker": {
          "color": "#FF6692",
          "symbol": "circle"
         },
         "mode": "markers",
         "name": "Chrysler",
         "scene": "scene",
         "showlegend": true,
         "type": "scatter3d",
         "x": [
          163,
          168,
          200,
          132,
          253,
          null,
          253
         ],
         "y": [
          19.84,
          24.495,
          22.245,
          16.48,
          28.34,
          null,
          29.185
         ],
         "z": [
          7.854,
          32.775,
          31.148,
          32.306,
          13.462,
          53.48,
          30.696
         ]
        },
        {
         "hovertemplate": "Manufacturer=Dodge<br>Horsepower=%{x}<br>Price_in_thousands=%{y}<br>Sales_in_thousands=%{z}<extra></extra>",
         "legendgroup": "Dodge",
         "marker": {
          "color": "#B6E880",
          "symbol": "circle"
         },
         "mode": "markers",
         "name": "Dodge",
         "scene": "scene",
         "showlegend": true,
         "type": "scatter3d",
         "x": [
          132,
          163,
          168,
          202,
          450,
          230,
          175,
          175,
          120,
          230,
          150
         ],
         "y": [
          12.64,
          19.045,
          20.23,
          22.505,
          69.725,
          19.46,
          21.315,
          18.575,
          16.98,
          26.31,
          19.565
         ],
         "z": [
          76.034,
          4.734,
          71.186,
          88.028,
          0.916,
          227.061,
          16.767,
          31.038,
          111.313,
          101.323,
          181.749
         ]
        },
        {
         "hovertemplate": "Manufacturer=Ford<br>Horsepower=%{x}<br>Price_in_thousands=%{y}<br>Sales_in_thousands=%{z}<extra></extra>",
         "legendgroup": "Ford",
         "marker": {
          "color": "#FF97FF",
          "symbol": "circle"
         },
         "mode": "markers",
         "name": "Ford",
         "scene": "scene",
         "showlegend": true,
         "type": "scatter3d",
         "x": [
          110,
          190,
          170,
          155,
          107,
          200,
          210,
          150,
          240,
          119,
          220
         ],
         "y": [
          12.07,
          21.56,
          17.035,
          17.885,
          12.315,
          22.195,
          31.93,
          21.41,
          36.135,
          12.05,
          26.935
         ],
         "z": [
          70.227,
          113.369,
          35.068,
          245.815,
          175.67,
          63.403,
          276.747,
          155.787,
          125.338,
          220.65,
          540.561
         ]
        },
        {
         "hovertemplate": "Manufacturer=Honda<br>Horsepower=%{x}<br>Price_in_thousands=%{y}<br>Sales_in_thousands=%{z}<extra></extra>",
         "legendgroup": "Honda",
         "marker": {
          "color": "#FECB52",
          "symbol": "circle"
         },
         "mode": "markers",
         "name": "Honda",
         "scene": "scene",
         "showlegend": true,
         "type": "scatter3d",
         "x": [
          106,
          135,
          146,
          205,
          210
         ],
         "y": [
          12.885,
          15.35,
          20.55,
          26.6,
          26
         ],
         "z": [
          199.685,
          230.902,
          73.203,
          12.855,
          76.029
         ]
        },
        {
         "hovertemplate": "Manufacturer=Hyundai<br>Horsepower=%{x}<br>Price_in_thousands=%{y}<br>Sales_in_thousands=%{z}<extra></extra>",
         "legendgroup": "Hyundai",
         "marker": {
          "color": "#636efa",
          "symbol": "circle"
         },
         "mode": "markers",
         "name": "Hyundai",
         "scene": "scene",
         "showlegend": true,
         "type": "scatter3d",
         "x": [
          92,
          140,
          148
         ],
         "y": [
          9.699,
          11.799,
          14.999
         ],
         "z": [
          41.184,
          66.692,
          29.45
         ]
        },
        {
         "hovertemplate": "Manufacturer=Infiniti<br>Horsepower=%{x}<br>Price_in_thousands=%{y}<br>Sales_in_thousands=%{z}<extra></extra>",
         "legendgroup": "Infiniti",
         "marker": {
          "color": "#EF553B",
          "symbol": "circle"
         },
         "mode": "markers",
         "name": "Infiniti",
         "scene": "scene",
         "showlegend": true,
         "type": "scatter3d",
         "x": [
          227
         ],
         "y": [
          29.465
         ],
         "z": [
          23.713
         ]
        },
        {
         "hovertemplate": "Manufacturer=Jaguar<br>Horsepower=%{x}<br>Price_in_thousands=%{y}<br>Sales_in_thousands=%{z}<extra></extra>",
         "legendgroup": "Jaguar",
         "marker": {
          "color": "#00cc96",
          "symbol": "circle"
         },
         "mode": "markers",
         "name": "Jaguar",
         "scene": "scene",
         "showlegend": true,
         "type": "scatter3d",
         "x": [
          240
         ],
         "y": [
          42.8
         ],
         "z": [
          15.467
         ]
        },
        {
         "hovertemplate": "Manufacturer=Jeep<br>Horsepower=%{x}<br>Price_in_thousands=%{y}<br>Sales_in_thousands=%{z}<extra></extra>",
         "legendgroup": "Jeep",
         "marker": {
          "color": "#ab63fa",
          "symbol": "circle"
         },
         "mode": "markers",
         "name": "Jeep",
         "scene": "scene",
         "showlegend": true,
         "type": "scatter3d",
         "x": [
          120,
          190,
          195
         ],
         "y": [
          14.46,
          21.62,
          26.895
         ],
         "z": [
          55.557,
          80.556,
          157.04
         ]
        },
        {
         "hovertemplate": "Manufacturer=Lexus<br>Horsepower=%{x}<br>Price_in_thousands=%{y}<br>Sales_in_thousands=%{z}<extra></extra>",
         "legendgroup": "Lexus",
         "marker": {
          "color": "#FFA15A",
          "symbol": "circle"
         },
         "mode": "markers",
         "name": "Lexus",
         "scene": "scene",
         "showlegend": true,
         "type": "scatter3d",
         "x": [
          210,
          225,
          300,
          290,
          230,
          220
         ],
         "y": [
          31.505,
          37.805,
          46.305,
          54.005,
          60.105,
          34.605
         ],
         "z": [
          24.072,
          12.698,
          3.334,
          6.375,
          9.126,
          51.238
         ]
        },
        {
         "hovertemplate": "Manufacturer=Lincoln<br>Horsepower=%{x}<br>Price_in_thousands=%{y}<br>Sales_in_thousands=%{z}<extra></extra>",
         "legendgroup": "Lincoln",
         "marker": {
          "color": "#19d3f3",
          "symbol": "circle"
         },
         "mode": "markers",
         "name": "Lincoln",
         "scene": "scene",
         "showlegend": true,
         "type": "scatter3d",
         "x": [
          275,
          215,
          300
         ],
         "y": [
          39.08,
          43.33,
          42.66
         ],
         "z": [
          13.798,
          48.911,
          22.925
         ]
        },
        {
         "hovertemplate": "Manufacturer=Mitsubishi<br>Horsepower=%{x}<br>Price_in_thousands=%{y}<br>Sales_in_thousands=%{z}<extra></extra>",
         "legendgroup": "Mitsubishi",
         "marker": {
          "color": "#FF6692",
          "symbol": "circle"
         },
         "mode": "markers",
         "name": "Mitsubishi",
         "scene": "scene",
         "showlegend": true,
         "type": "scatter3d",
         "x": [
          113,
          154,
          145,
          210,
          161,
          200,
          173
         ],
         "y": [
          13.987,
          19.047,
          17.357,
          24.997,
          25.45,
          31.807,
          22.527
         ],
         "z": [
          26.232,
          42.541,
          55.616,
          5.711,
          0.11,
          11.337,
          39.348
         ]
        },
        {
         "hovertemplate": "Manufacturer=Mercury<br>Horsepower=%{x}<br>Price_in_thousands=%{y}<br>Sales_in_thousands=%{z}<extra></extra>",
         "legendgroup": "Mercury",
         "marker": {
          "color": "#B6E880",
          "symbol": "circle"
         },
         "mode": "markers",
         "name": "Mercury",
         "scene": "scene",
         "showlegend": true,
         "type": "scatter3d",
         "x": [
          125,
          125,
          153,
          200,
          210,
          170
         ],
         "y": [
          16.24,
          16.54,
          19.035,
          22.605,
          27.56,
          22.51
         ],
         "z": [
          14.351,
          26.529,
          67.956,
          81.174,
          27.609,
          20.38
         ]
        },
        {
         "hovertemplate": "Manufacturer=Mercedes-B<br>Horsepower=%{x}<br>Price_in_thousands=%{y}<br>Sales_in_thousands=%{z}<extra></extra>",
         "legendgroup": "Mercedes-B",
         "marker": {
          "color": "#FF97FF",
          "symbol": "circle"
         },
         "mode": "markers",
         "name": "Mercedes-B",
         "scene": "scene",
         "showlegend": true,
         "type": "scatter3d",
         "x": [
          185,
          221,
          275,
          302,
          190,
          185,
          215,
          302,
          215
         ],
         "y": [
          31.75,
          49.9,
          69.7,
          82.6,
          38.9,
          41,
          41.6,
          85.5,
          35.3
         ],
         "z": [
          18.392,
          27.602,
          16.774,
          3.311,
          7.998,
          1.526,
          11.592,
          0.954,
          28.976
         ]
        },
        {
         "hovertemplate": "Manufacturer=Nissan<br>Horsepower=%{x}<br>Price_in_thousands=%{y}<br>Sales_in_thousands=%{z}<extra></extra>",
         "legendgroup": "Nissan",
         "marker": {
          "color": "#FECB52",
          "symbol": "circle"
         },
         "mode": "markers",
         "name": "Nissan",
         "scene": "scene",
         "showlegend": true,
         "type": "scatter3d",
         "x": [
          126,
          155,
          222,
          170,
          170,
          170,
          170
         ],
         "y": [
          13.499,
          20.39,
          26.249,
          26.399,
          29.299,
          22.799,
          17.89
         ],
         "z": [
          42.643,
          88.094,
          79.853,
          27.308,
          42.574,
          54.158,
          65.005
         ]
        },
        {
         "hovertemplate": "Manufacturer=Oldsmobile<br>Horsepower=%{x}<br>Price_in_thousands=%{y}<br>Sales_in_thousands=%{z}<extra></extra>",
         "legendgroup": "Oldsmobile",
         "marker": {
          "color": "#636efa",
          "symbol": "circle"
         },
         "mode": "markers",
         "name": "Oldsmobile",
         "scene": "scene",
         "showlegend": true,
         "type": "scatter3d",
         "x": [
          150,
          215,
          150,
          250,
          190,
          185
         ],
         "y": [
          18.145,
          24.15,
          18.27,
          36.229,
          31.598,
          25.345
         ],
         "z": [
          1.112,
          38.554,
          80.255,
          14.69,
          20.017,
          24.361
         ]
        },
        {
         "hovertemplate": "Manufacturer=Plymouth<br>Horsepower=%{x}<br>Price_in_thousands=%{y}<br>Sales_in_thousands=%{z}<extra></extra>",
         "legendgroup": "Plymouth",
         "marker": {
          "color": "#EF553B",
          "symbol": "circle"
         },
         "mode": "markers",
         "name": "Plymouth",
         "scene": "scene",
         "showlegend": true,
         "type": "scatter3d",
         "x": [
          132,
          132,
          150,
          253
         ],
         "y": [
          12.64,
          16.08,
          18.85,
          43
         ],
         "z": [
          32.734,
          5.24,
          24.155,
          1.872
         ]
        },
        {
         "hovertemplate": "Manufacturer=Pontiac<br>Horsepower=%{x}<br>Price_in_thousands=%{y}<br>Sales_in_thousands=%{z}<extra></extra>",
         "legendgroup": "Pontiac",
         "marker": {
          "color": "#00cc96",
          "symbol": "circle"
         },
         "mode": "markers",
         "name": "Pontiac",
         "scene": "scene",
         "showlegend": true,
         "type": "scatter3d",
         "x": [
          150,
          175,
          200,
          195,
          205,
          185
         ],
         "y": [
          21.61,
          19.72,
          25.31,
          21.665,
          23.755,
          25.635
         ],
         "z": [
          51.645,
          131.097,
          19.911,
          92.364,
          35.945,
          39.572
         ]
        },
        {
         "hovertemplate": "Manufacturer=Porsche<br>Horsepower=%{x}<br>Price_in_thousands=%{y}<br>Sales_in_thousands=%{z}<extra></extra>",
         "legendgroup": "Porsche",
         "marker": {
          "color": "#ab63fa",
          "symbol": "circle"
         },
         "mode": "markers",
         "name": "Porsche",
         "scene": "scene",
         "showlegend": true,
         "type": "scatter3d",
         "x": [
          217,
          300,
          300
         ],
         "y": [
          41.43,
          71.02,
          74.97
         ],
         "z": [
          8.982,
          1.28,
          1.866
         ]
        },
        {
         "hovertemplate": "Manufacturer=Saab<br>Horsepower=%{x}<br>Price_in_thousands=%{y}<br>Sales_in_thousands=%{z}<extra></extra>",
         "legendgroup": "Saab",
         "marker": {
          "color": "#FFA15A",
          "symbol": "circle"
         },
         "mode": "markers",
         "name": "Saab",
         "scene": "scene",
         "showlegend": true,
         "type": "scatter3d",
         "x": [
          170,
          185
         ],
         "y": [
          33.12,
          26.1
         ],
         "z": [
          9.191,
          12.115
         ]
        },
        {
         "hovertemplate": "Manufacturer=Saturn<br>Horsepower=%{x}<br>Price_in_thousands=%{y}<br>Sales_in_thousands=%{z}<extra></extra>",
         "legendgroup": "Saturn",
         "marker": {
          "color": "#19d3f3",
          "symbol": "circle"
         },
         "mode": "markers",
         "name": "Saturn",
         "scene": "scene",
         "showlegend": true,
         "type": "scatter3d",
         "x": [
          100,
          100,
          124,
          137,
          137
         ],
         "y": [
          10.685,
          12.535,
          14.29,
          18.835,
          15.01
         ],
         "z": [
          80.62,
          24.546,
          5.223,
          8.472,
          49.989
         ]
        },
        {
         "hovertemplate": "Manufacturer=Subaru<br>Horsepower=%{x}<br>Price_in_thousands=%{y}<br>Sales_in_thousands=%{z}<extra></extra>",
         "legendgroup": "Subaru",
         "marker": {
          "color": "#FF6692",
          "symbol": "circle"
         },
         "mode": "markers",
         "name": "Subaru",
         "scene": "scene",
         "showlegend": true,
         "type": "scatter3d",
         "x": [
          165,
          165
         ],
         "y": [
          22.695,
          20.095
         ],
         "z": [
          47.107,
          33.028
         ]
        },
        {
         "hovertemplate": "Manufacturer=Toyota<br>Horsepower=%{x}<br>Price_in_thousands=%{y}<br>Sales_in_thousands=%{z}<extra></extra>",
         "legendgroup": "Toyota",
         "marker": {
          "color": "#B6E880",
          "symbol": "circle"
         },
         "mode": "markers",
         "name": "Toyota",
         "scene": "scene",
         "showlegend": true,
         "type": "scatter3d",
         "x": [
          120,
          133,
          210,
          140,
          142,
          194,
          127,
          150,
          230
         ],
         "y": [
          13.108,
          17.518,
          25.545,
          16.875,
          11.528,
          22.368,
          16.888,
          22.288,
          51.728
         ],
         "z": [
          142.535,
          247.994,
          63.849,
          33.269,
          84.087,
          65.119,
          25.106,
          68.411,
          9.835
         ]
        },
        {
         "hovertemplate": "Manufacturer=Volkswagen<br>Horsepower=%{x}<br>Price_in_thousands=%{y}<br>Sales_in_thousands=%{z}<extra></extra>",
         "legendgroup": "Volkswagen",
         "marker": {
          "color": "#FF97FF",
          "symbol": "circle"
         },
         "mode": "markers",
         "name": "Volkswagen",
         "scene": "scene",
         "showlegend": true,
         "type": "scatter3d",
         "x": [
          115,
          115,
          150,
          115,
          115,
          115
         ],
         "y": [
          14.9,
          16.7,
          21.2,
          19.99,
          17.5,
          15.9
         ],
         "z": [
          9.761,
          83.721,
          51.102,
          9.569,
          5.596,
          49.463
         ]
        },
        {
         "hovertemplate": "Manufacturer=Volvo<br>Horsepower=%{x}<br>Price_in_thousands=%{y}<br>Sales_in_thousands=%{z}<extra></extra>",
         "legendgroup": "Volvo",
         "marker": {
          "color": "#FECB52",
          "symbol": "circle"
         },
         "mode": "markers",
         "name": "Volvo",
         "scene": "scene",
         "showlegend": true,
         "type": "scatter3d",
         "x": [
          160,
          160,
          168,
          168,
          236,
          201
         ],
         "y": [
          23.4,
          24.4,
          27.5,
          28.8,
          45.5,
          36
         ],
         "z": [
          16.957,
          3.545,
          15.245,
          17.531,
          3.493,
          18.969
         ]
        }
       ],
       "layout": {
        "legend": {
         "title": {
          "text": "Manufacturer"
         },
         "tracegroupgap": 0
        },
        "scene": {
         "domain": {
          "x": [
           0,
           1
          ],
          "y": [
           0,
           1
          ]
         },
         "xaxis": {
          "title": {
           "text": "Horsepower"
          }
         },
         "yaxis": {
          "title": {
           "text": "Price_in_thousands"
          }
         },
         "zaxis": {
          "title": {
           "text": "Sales_in_thousands"
          }
         }
        },
        "template": {
         "data": {
          "bar": [
           {
            "error_x": {
             "color": "#2a3f5f"
            },
            "error_y": {
             "color": "#2a3f5f"
            },
            "marker": {
             "line": {
              "color": "#E5ECF6",
              "width": 0.5
             },
             "pattern": {
              "fillmode": "overlay",
              "size": 10,
              "solidity": 0.2
             }
            },
            "type": "bar"
           }
          ],
          "barpolar": [
           {
            "marker": {
             "line": {
              "color": "#E5ECF6",
              "width": 0.5
             },
             "pattern": {
              "fillmode": "overlay",
              "size": 10,
              "solidity": 0.2
             }
            },
            "type": "barpolar"
           }
          ],
          "carpet": [
           {
            "aaxis": {
             "endlinecolor": "#2a3f5f",
             "gridcolor": "white",
             "linecolor": "white",
             "minorgridcolor": "white",
             "startlinecolor": "#2a3f5f"
            },
            "baxis": {
             "endlinecolor": "#2a3f5f",
             "gridcolor": "white",
             "linecolor": "white",
             "minorgridcolor": "white",
             "startlinecolor": "#2a3f5f"
            },
            "type": "carpet"
           }
          ],
          "choropleth": [
           {
            "colorbar": {
             "outlinewidth": 0,
             "ticks": ""
            },
            "type": "choropleth"
           }
          ],
          "contour": [
           {
            "colorbar": {
             "outlinewidth": 0,
             "ticks": ""
            },
            "colorscale": [
             [
              0,
              "#0d0887"
             ],
             [
              0.1111111111111111,
              "#46039f"
             ],
             [
              0.2222222222222222,
              "#7201a8"
             ],
             [
              0.3333333333333333,
              "#9c179e"
             ],
             [
              0.4444444444444444,
              "#bd3786"
             ],
             [
              0.5555555555555556,
              "#d8576b"
             ],
             [
              0.6666666666666666,
              "#ed7953"
             ],
             [
              0.7777777777777778,
              "#fb9f3a"
             ],
             [
              0.8888888888888888,
              "#fdca26"
             ],
             [
              1,
              "#f0f921"
             ]
            ],
            "type": "contour"
           }
          ],
          "contourcarpet": [
           {
            "colorbar": {
             "outlinewidth": 0,
             "ticks": ""
            },
            "type": "contourcarpet"
           }
          ],
          "heatmap": [
           {
            "colorbar": {
             "outlinewidth": 0,
             "ticks": ""
            },
            "colorscale": [
             [
              0,
              "#0d0887"
             ],
             [
              0.1111111111111111,
              "#46039f"
             ],
             [
              0.2222222222222222,
              "#7201a8"
             ],
             [
              0.3333333333333333,
              "#9c179e"
             ],
             [
              0.4444444444444444,
              "#bd3786"
             ],
             [
              0.5555555555555556,
              "#d8576b"
             ],
             [
              0.6666666666666666,
              "#ed7953"
             ],
             [
              0.7777777777777778,
              "#fb9f3a"
             ],
             [
              0.8888888888888888,
              "#fdca26"
             ],
             [
              1,
              "#f0f921"
             ]
            ],
            "type": "heatmap"
           }
          ],
          "heatmapgl": [
           {
            "colorbar": {
             "outlinewidth": 0,
             "ticks": ""
            },
            "colorscale": [
             [
              0,
              "#0d0887"
             ],
             [
              0.1111111111111111,
              "#46039f"
             ],
             [
              0.2222222222222222,
              "#7201a8"
             ],
             [
              0.3333333333333333,
              "#9c179e"
             ],
             [
              0.4444444444444444,
              "#bd3786"
             ],
             [
              0.5555555555555556,
              "#d8576b"
             ],
             [
              0.6666666666666666,
              "#ed7953"
             ],
             [
              0.7777777777777778,
              "#fb9f3a"
             ],
             [
              0.8888888888888888,
              "#fdca26"
             ],
             [
              1,
              "#f0f921"
             ]
            ],
            "type": "heatmapgl"
           }
          ],
          "histogram": [
           {
            "marker": {
             "pattern": {
              "fillmode": "overlay",
              "size": 10,
              "solidity": 0.2
             }
            },
            "type": "histogram"
           }
          ],
          "histogram2d": [
           {
            "colorbar": {
             "outlinewidth": 0,
             "ticks": ""
            },
            "colorscale": [
             [
              0,
              "#0d0887"
             ],
             [
              0.1111111111111111,
              "#46039f"
             ],
             [
              0.2222222222222222,
              "#7201a8"
             ],
             [
              0.3333333333333333,
              "#9c179e"
             ],
             [
              0.4444444444444444,
              "#bd3786"
             ],
             [
              0.5555555555555556,
              "#d8576b"
             ],
             [
              0.6666666666666666,
              "#ed7953"
             ],
             [
              0.7777777777777778,
              "#fb9f3a"
             ],
             [
              0.8888888888888888,
              "#fdca26"
             ],
             [
              1,
              "#f0f921"
             ]
            ],
            "type": "histogram2d"
           }
          ],
          "histogram2dcontour": [
           {
            "colorbar": {
             "outlinewidth": 0,
             "ticks": ""
            },
            "colorscale": [
             [
              0,
              "#0d0887"
             ],
             [
              0.1111111111111111,
              "#46039f"
             ],
             [
              0.2222222222222222,
              "#7201a8"
             ],
             [
              0.3333333333333333,
              "#9c179e"
             ],
             [
              0.4444444444444444,
              "#bd3786"
             ],
             [
              0.5555555555555556,
              "#d8576b"
             ],
             [
              0.6666666666666666,
              "#ed7953"
             ],
             [
              0.7777777777777778,
              "#fb9f3a"
             ],
             [
              0.8888888888888888,
              "#fdca26"
             ],
             [
              1,
              "#f0f921"
             ]
            ],
            "type": "histogram2dcontour"
           }
          ],
          "mesh3d": [
           {
            "colorbar": {
             "outlinewidth": 0,
             "ticks": ""
            },
            "type": "mesh3d"
           }
          ],
          "parcoords": [
           {
            "line": {
             "colorbar": {
              "outlinewidth": 0,
              "ticks": ""
             }
            },
            "type": "parcoords"
           }
          ],
          "pie": [
           {
            "automargin": true,
            "type": "pie"
           }
          ],
          "scatter": [
           {
            "marker": {
             "colorbar": {
              "outlinewidth": 0,
              "ticks": ""
             }
            },
            "type": "scatter"
           }
          ],
          "scatter3d": [
           {
            "line": {
             "colorbar": {
              "outlinewidth": 0,
              "ticks": ""
             }
            },
            "marker": {
             "colorbar": {
              "outlinewidth": 0,
              "ticks": ""
             }
            },
            "type": "scatter3d"
           }
          ],
          "scattercarpet": [
           {
            "marker": {
             "colorbar": {
              "outlinewidth": 0,
              "ticks": ""
             }
            },
            "type": "scattercarpet"
           }
          ],
          "scattergeo": [
           {
            "marker": {
             "colorbar": {
              "outlinewidth": 0,
              "ticks": ""
             }
            },
            "type": "scattergeo"
           }
          ],
          "scattergl": [
           {
            "marker": {
             "colorbar": {
              "outlinewidth": 0,
              "ticks": ""
             }
            },
            "type": "scattergl"
           }
          ],
          "scattermapbox": [
           {
            "marker": {
             "colorbar": {
              "outlinewidth": 0,
              "ticks": ""
             }
            },
            "type": "scattermapbox"
           }
          ],
          "scatterpolar": [
           {
            "marker": {
             "colorbar": {
              "outlinewidth": 0,
              "ticks": ""
             }
            },
            "type": "scatterpolar"
           }
          ],
          "scatterpolargl": [
           {
            "marker": {
             "colorbar": {
              "outlinewidth": 0,
              "ticks": ""
             }
            },
            "type": "scatterpolargl"
           }
          ],
          "scatterternary": [
           {
            "marker": {
             "colorbar": {
              "outlinewidth": 0,
              "ticks": ""
             }
            },
            "type": "scatterternary"
           }
          ],
          "surface": [
           {
            "colorbar": {
             "outlinewidth": 0,
             "ticks": ""
            },
            "colorscale": [
             [
              0,
              "#0d0887"
             ],
             [
              0.1111111111111111,
              "#46039f"
             ],
             [
              0.2222222222222222,
              "#7201a8"
             ],
             [
              0.3333333333333333,
              "#9c179e"
             ],
             [
              0.4444444444444444,
              "#bd3786"
             ],
             [
              0.5555555555555556,
              "#d8576b"
             ],
             [
              0.6666666666666666,
              "#ed7953"
             ],
             [
              0.7777777777777778,
              "#fb9f3a"
             ],
             [
              0.8888888888888888,
              "#fdca26"
             ],
             [
              1,
              "#f0f921"
             ]
            ],
            "type": "surface"
           }
          ],
          "table": [
           {
            "cells": {
             "fill": {
              "color": "#EBF0F8"
             },
             "line": {
              "color": "white"
             }
            },
            "header": {
             "fill": {
              "color": "#C8D4E3"
             },
             "line": {
              "color": "white"
             }
            },
            "type": "table"
           }
          ]
         },
         "layout": {
          "annotationdefaults": {
           "arrowcolor": "#2a3f5f",
           "arrowhead": 0,
           "arrowwidth": 1
          },
          "autotypenumbers": "strict",
          "coloraxis": {
           "colorbar": {
            "outlinewidth": 0,
            "ticks": ""
           }
          },
          "colorscale": {
           "diverging": [
            [
             0,
             "#8e0152"
            ],
            [
             0.1,
             "#c51b7d"
            ],
            [
             0.2,
             "#de77ae"
            ],
            [
             0.3,
             "#f1b6da"
            ],
            [
             0.4,
             "#fde0ef"
            ],
            [
             0.5,
             "#f7f7f7"
            ],
            [
             0.6,
             "#e6f5d0"
            ],
            [
             0.7,
             "#b8e186"
            ],
            [
             0.8,
             "#7fbc41"
            ],
            [
             0.9,
             "#4d9221"
            ],
            [
             1,
             "#276419"
            ]
           ],
           "sequential": [
            [
             0,
             "#0d0887"
            ],
            [
             0.1111111111111111,
             "#46039f"
            ],
            [
             0.2222222222222222,
             "#7201a8"
            ],
            [
             0.3333333333333333,
             "#9c179e"
            ],
            [
             0.4444444444444444,
             "#bd3786"
            ],
            [
             0.5555555555555556,
             "#d8576b"
            ],
            [
             0.6666666666666666,
             "#ed7953"
            ],
            [
             0.7777777777777778,
             "#fb9f3a"
            ],
            [
             0.8888888888888888,
             "#fdca26"
            ],
            [
             1,
             "#f0f921"
            ]
           ],
           "sequentialminus": [
            [
             0,
             "#0d0887"
            ],
            [
             0.1111111111111111,
             "#46039f"
            ],
            [
             0.2222222222222222,
             "#7201a8"
            ],
            [
             0.3333333333333333,
             "#9c179e"
            ],
            [
             0.4444444444444444,
             "#bd3786"
            ],
            [
             0.5555555555555556,
             "#d8576b"
            ],
            [
             0.6666666666666666,
             "#ed7953"
            ],
            [
             0.7777777777777778,
             "#fb9f3a"
            ],
            [
             0.8888888888888888,
             "#fdca26"
            ],
            [
             1,
             "#f0f921"
            ]
           ]
          },
          "colorway": [
           "#636efa",
           "#EF553B",
           "#00cc96",
           "#ab63fa",
           "#FFA15A",
           "#19d3f3",
           "#FF6692",
           "#B6E880",
           "#FF97FF",
           "#FECB52"
          ],
          "font": {
           "color": "#2a3f5f"
          },
          "geo": {
           "bgcolor": "white",
           "lakecolor": "white",
           "landcolor": "#E5ECF6",
           "showlakes": true,
           "showland": true,
           "subunitcolor": "white"
          },
          "hoverlabel": {
           "align": "left"
          },
          "hovermode": "closest",
          "mapbox": {
           "style": "light"
          },
          "paper_bgcolor": "white",
          "plot_bgcolor": "#E5ECF6",
          "polar": {
           "angularaxis": {
            "gridcolor": "white",
            "linecolor": "white",
            "ticks": ""
           },
           "bgcolor": "#E5ECF6",
           "radialaxis": {
            "gridcolor": "white",
            "linecolor": "white",
            "ticks": ""
           }
          },
          "scene": {
           "xaxis": {
            "backgroundcolor": "#E5ECF6",
            "gridcolor": "white",
            "gridwidth": 2,
            "linecolor": "white",
            "showbackground": true,
            "ticks": "",
            "zerolinecolor": "white"
           },
           "yaxis": {
            "backgroundcolor": "#E5ECF6",
            "gridcolor": "white",
            "gridwidth": 2,
            "linecolor": "white",
            "showbackground": true,
            "ticks": "",
            "zerolinecolor": "white"
           },
           "zaxis": {
            "backgroundcolor": "#E5ECF6",
            "gridcolor": "white",
            "gridwidth": 2,
            "linecolor": "white",
            "showbackground": true,
            "ticks": "",
            "zerolinecolor": "white"
           }
          },
          "shapedefaults": {
           "line": {
            "color": "#2a3f5f"
           }
          },
          "ternary": {
           "aaxis": {
            "gridcolor": "white",
            "linecolor": "white",
            "ticks": ""
           },
           "baxis": {
            "gridcolor": "white",
            "linecolor": "white",
            "ticks": ""
           },
           "bgcolor": "#E5ECF6",
           "caxis": {
            "gridcolor": "white",
            "linecolor": "white",
            "ticks": ""
           }
          },
          "title": {
           "x": 0.05
          },
          "xaxis": {
           "automargin": true,
           "gridcolor": "white",
           "linecolor": "white",
           "ticks": "",
           "title": {
            "standoff": 15
           },
           "zerolinecolor": "white",
           "zerolinewidth": 2
          },
          "yaxis": {
           "automargin": true,
           "gridcolor": "white",
           "linecolor": "white",
           "ticks": "",
           "title": {
            "standoff": 15
           },
           "zerolinecolor": "white",
           "zerolinewidth": 2
          }
         }
        },
        "title": {
         "text": "3D Scatter Chart"
        }
       }
      }
     },
     "metadata": {},
     "output_type": "display_data"
    }
   ],
   "source": [
    "code = f\"\"\"\n",
    "\n",
    "params = {out['charts'][9]['parameters']}\n",
    "params['data_frame'] = df\n",
    "params['title'] = \"{out['charts'][9]['title']}\"\n",
    "\n",
    "fig = {out['charts'][9]['chartType']}(**params)\n",
    "\n",
    "fig.show()\n",
    "\"\"\"\n",
    "\n",
    "exec(code)"
   ]
  }
 ],
 "metadata": {
  "kernelspec": {
   "display_name": "base",
   "language": "python",
   "name": "python3"
  },
  "language_info": {
   "codemirror_mode": {
    "name": "ipython",
    "version": 3
   },
   "file_extension": ".py",
   "mimetype": "text/x-python",
   "name": "python",
   "nbconvert_exporter": "python",
   "pygments_lexer": "ipython3",
   "version": "3.9.12 (main, Apr  4 2022, 05:22:27) [MSC v.1916 64 bit (AMD64)]"
  },
  "orig_nbformat": 4,
  "vscode": {
   "interpreter": {
    "hash": "ad2bdc8ecc057115af97d19610ffacc2b4e99fae6737bb82f5d7fb13d2f2c186"
   }
  }
 },
 "nbformat": 4,
 "nbformat_minor": 2
}
